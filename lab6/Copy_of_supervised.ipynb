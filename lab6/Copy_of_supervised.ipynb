{
  "cells": [
    {
      "cell_type": "markdown",
      "metadata": {
        "id": "ZMwItiXEIV4u"
      },
      "source": [
        "# ATOC5860 Application Lab #6 - supervised_ML\n",
        "Written by Dr. Middlemas (formerly CU, now PricewaterhouseCoopers) with additional commenting/organizing by Prof. Kay (CU)  \n",
        "Last updated April 18, 2023  "
      ]
    },
    {
      "cell_type": "markdown",
      "metadata": {
        "id": "M1ig9dv0IV4y"
      },
      "source": [
        "__Learning Goals:__<br>\n",
        "1.\tBuild familiarity with the data processing pipeline (workflow) required to utilize supervised machine learning techniques.\n",
        "2.\tImplement and compare four different supervised learning algorithms \n",
        "3.\tUnderstanding two outcomes of supervised learning algorithms: prediction and feature importance.\n",
        "4.\tStart building a foundation for future machine learning including the following terms: cross-validation, training vs. testing data, metrics (accuracy, recall, precision, f1 score, etc.), overfitting/underfitting, balancing datasets, hyperparameters, & feature importance.  Some future learning resources are provided… but there’s a lot available!  Share resources you find valuable."
      ]
    },
    {
      "cell_type": "markdown",
      "metadata": {
        "id": "H_r0e1rZIV4y"
      },
      "source": [
        "### DATA and UNDERLYING SCIENCE MOTIVATION:  \n",
        "\n",
        "We will use the Christman dataset which contains weather observations from Fort Collins, Colorado for the year 2016. We will build and train four machine learning models to predict something we already know from the dataset: Is it raining?. The point is not to conduct cutting-edge research or make novel predictions. Instead, the purpose here is to showcase supervised machine learning (ML) models and methods. By the end, we hope you can walk away with more confidence to learn and apply these tools to new problems.\n",
        "\n",
        "Let's say you want to determine which features or atmospheric variables are the best predictors of rainfall. Often, one simply regresses some metric of precipitation onto various atmospheric variables. Then, you assume that whatever returns the highest regression coefficient is the best predictor. While this approach with linear regression presents a fine first guess, it poses a few problems. Linear regression assumes: 1) atmospheric variables are linearly related to precipitation, 2) atmospheric variables are uncorrelated. Yet, both are false assumptions. While a linear relationship between predictor & predictand is a good first guess, why limit yourself to linearity when you can just as easily relax that assumption using supervised Machine Learning...\n"
      ]
    },
    {
      "cell_type": "markdown",
      "source": [
        "**Questions to guide your analysis** \n",
        "\n",
        "1) Which machine learning model performs the best to predict rainfall?  What metrics did you use to make this assessment?\n",
        "\n",
        "2) Describe the difference between accuracy and recall.  Why did we choose to use accuracy, recall, and predicted precipitation probability as a way to compare models?  In forecasting: when is a false positive (you said it would rain, it didn’t rain) preferred over a false negative (you said it wouldn’t rain, it did rain)? \n",
        "\n",
        "3) One important \"gotcha\" in a machine learning workflow or pipeline is the order of data preparation. Why should one should perform the train-test split before feature scaling and rebalancing? Hint: think about using a trained model for future predictions. Do you want your scaling of the testing data to depend on the training data? Why perform a test-train split at all? \n",
        "\n",
        "4) Collinearity, or non-zero correlation among features, results in a model that is overly complex, reduces the statistical significance of the fit of the model, and prevents one from correctly identifying the importance of features. Are there features included in our machine learning models to predict rain in the Christman dataset that are collinear? If so, how do you think we should address this collinearity? A couple of suggestions: If we don't have that many features, we could use our meteorological expertise to simply remove one of the features that shares collinearity with other features. Another way to address collinearity is to use feature regularization, or add weights that penalize features that add noise, ultimately reducing model complexity."
      ],
      "metadata": {
        "id": "77aJjuXm5NJi"
      }
    },
    {
      "cell_type": "markdown",
      "metadata": {
        "id": "oHnK7nCUIV4z"
      },
      "source": [
        "# Part 1. Read in data into a pandas dataframe."
      ]
    },
    {
      "cell_type": "markdown",
      "metadata": {
        "id": "A6jkGzBvIV4z"
      },
      "source": [
        "*WARNING: You will need to change the path to match where you have put the Christman dataset on your google drive!*"
      ]
    },
    {
      "cell_type": "code",
      "execution_count": 4,
      "metadata": {
        "id": "NKczxi_3IV40",
        "colab": {
          "base_uri": "https://localhost:8080/"
        },
        "outputId": "3c95ed57-39c5-47f2-c089-ce497275f8fc"
      },
      "outputs": [
        {
          "output_type": "stream",
          "name": "stdout",
          "text": [
            "Mounted at /content/drive/\n"
          ]
        }
      ],
      "source": [
        "import pandas as pd\n",
        "import numpy as np\n",
        "import datetime\n",
        "import time\n",
        "\n",
        "from google.colab import drive\n",
        "drive.mount('/content/drive/', force_remount=True)"
      ]
    },
    {
      "cell_type": "code",
      "source": [
        "df = pd.read_csv(\"/content/drive/MyDrive/christman_2016.csv\")\n",
        "\n",
        "df.sample(15) # randomly select & display 15 samples from the dataframe"
      ],
      "metadata": {
        "colab": {
          "base_uri": "https://localhost:8080/",
          "height": 520
        },
        "id": "5Trskz-u4kEm",
        "outputId": "e7ab8f60-890d-4ec9-e719-677c0cc6e878"
      },
      "execution_count": 5,
      "outputs": [
        {
          "output_type": "execute_result",
          "data": {
            "text/plain": [
              "        day      hour  temp_F    RH  dewtemp_F  wind_mph  wind_dir  windgust  \\\n",
              "7432  42679  0.666667    64.3  24.0       26.8       4.6       147      10.8   \n",
              "8586  42727  0.750000    39.2  55.2       24.5       3.4       142       7.5   \n",
              "2243  42463  0.458333    62.0  21.7       22.4       4.7       281      12.6   \n",
              "7490  42682  0.083333    36.3  56.0       22.1       3.1       309       5.9   \n",
              "1498  42432  0.416667    43.8  33.6       17.0       9.8       151      17.2   \n",
              "3864  42531  0.000000    70.1  37.1       42.7       3.5       121       8.1   \n",
              "572   42393  0.833333    35.1  62.7       23.6      12.3       310      18.1   \n",
              "5429  42596  0.208333    50.2  67.4       39.8       7.0       290      10.4   \n",
              "4327  42550  0.291667    61.5  59.5       47.2       1.1        46       3.4   \n",
              "6176  42627  0.333333    49.4  83.3       44.5       3.4         1       6.4   \n",
              "8005  42703  0.541667    35.2  25.4        3.2      21.5       314      34.8   \n",
              "6525  42641  0.875000    66.0  32.0       35.3       5.5       159      13.0   \n",
              "862   42405  0.916667    13.2  71.0        5.6       3.2       224       7.6   \n",
              "5459  42597  0.458333    89.5  10.7       27.5      10.8        39      19.4   \n",
              "2234  42463  0.083333    40.1  52.9       24.3       4.9       241      13.0   \n",
              "\n",
              "      windgust_dir  pres_Hg  SOLIN_Wm2  Prec_inches  \n",
              "7432           155   842.57      107.6          0.0  \n",
              "8586           195   836.68        0.0          0.0  \n",
              "2243           140   842.01      783.0          0.0  \n",
              "7490           300   854.21        0.0          0.0  \n",
              "1498           151   843.37      424.7          0.0  \n",
              "3864           288   839.70        0.0          0.0  \n",
              "572            333   832.89        0.1          0.0  \n",
              "5429           334   847.04        0.1          0.0  \n",
              "4327            38   846.74      260.8          0.0  \n",
              "6176            15   846.36       81.8          0.0  \n",
              "8005           310   832.52      154.8          0.0  \n",
              "6525           131   851.28        0.0          0.0  \n",
              "862            248   848.24        0.0          0.0  \n",
              "5459             0   844.11      815.0          0.0  \n",
              "2234           265   841.39        0.0          0.0  "
            ],
            "text/html": [
              "\n",
              "  <div id=\"df-1f5a0a35-8f8c-4f6f-a9ac-f407a016fe7b\">\n",
              "    <div class=\"colab-df-container\">\n",
              "      <div>\n",
              "<style scoped>\n",
              "    .dataframe tbody tr th:only-of-type {\n",
              "        vertical-align: middle;\n",
              "    }\n",
              "\n",
              "    .dataframe tbody tr th {\n",
              "        vertical-align: top;\n",
              "    }\n",
              "\n",
              "    .dataframe thead th {\n",
              "        text-align: right;\n",
              "    }\n",
              "</style>\n",
              "<table border=\"1\" class=\"dataframe\">\n",
              "  <thead>\n",
              "    <tr style=\"text-align: right;\">\n",
              "      <th></th>\n",
              "      <th>day</th>\n",
              "      <th>hour</th>\n",
              "      <th>temp_F</th>\n",
              "      <th>RH</th>\n",
              "      <th>dewtemp_F</th>\n",
              "      <th>wind_mph</th>\n",
              "      <th>wind_dir</th>\n",
              "      <th>windgust</th>\n",
              "      <th>windgust_dir</th>\n",
              "      <th>pres_Hg</th>\n",
              "      <th>SOLIN_Wm2</th>\n",
              "      <th>Prec_inches</th>\n",
              "    </tr>\n",
              "  </thead>\n",
              "  <tbody>\n",
              "    <tr>\n",
              "      <th>7432</th>\n",
              "      <td>42679</td>\n",
              "      <td>0.666667</td>\n",
              "      <td>64.3</td>\n",
              "      <td>24.0</td>\n",
              "      <td>26.8</td>\n",
              "      <td>4.6</td>\n",
              "      <td>147</td>\n",
              "      <td>10.8</td>\n",
              "      <td>155</td>\n",
              "      <td>842.57</td>\n",
              "      <td>107.6</td>\n",
              "      <td>0.0</td>\n",
              "    </tr>\n",
              "    <tr>\n",
              "      <th>8586</th>\n",
              "      <td>42727</td>\n",
              "      <td>0.750000</td>\n",
              "      <td>39.2</td>\n",
              "      <td>55.2</td>\n",
              "      <td>24.5</td>\n",
              "      <td>3.4</td>\n",
              "      <td>142</td>\n",
              "      <td>7.5</td>\n",
              "      <td>195</td>\n",
              "      <td>836.68</td>\n",
              "      <td>0.0</td>\n",
              "      <td>0.0</td>\n",
              "    </tr>\n",
              "    <tr>\n",
              "      <th>2243</th>\n",
              "      <td>42463</td>\n",
              "      <td>0.458333</td>\n",
              "      <td>62.0</td>\n",
              "      <td>21.7</td>\n",
              "      <td>22.4</td>\n",
              "      <td>4.7</td>\n",
              "      <td>281</td>\n",
              "      <td>12.6</td>\n",
              "      <td>140</td>\n",
              "      <td>842.01</td>\n",
              "      <td>783.0</td>\n",
              "      <td>0.0</td>\n",
              "    </tr>\n",
              "    <tr>\n",
              "      <th>7490</th>\n",
              "      <td>42682</td>\n",
              "      <td>0.083333</td>\n",
              "      <td>36.3</td>\n",
              "      <td>56.0</td>\n",
              "      <td>22.1</td>\n",
              "      <td>3.1</td>\n",
              "      <td>309</td>\n",
              "      <td>5.9</td>\n",
              "      <td>300</td>\n",
              "      <td>854.21</td>\n",
              "      <td>0.0</td>\n",
              "      <td>0.0</td>\n",
              "    </tr>\n",
              "    <tr>\n",
              "      <th>1498</th>\n",
              "      <td>42432</td>\n",
              "      <td>0.416667</td>\n",
              "      <td>43.8</td>\n",
              "      <td>33.6</td>\n",
              "      <td>17.0</td>\n",
              "      <td>9.8</td>\n",
              "      <td>151</td>\n",
              "      <td>17.2</td>\n",
              "      <td>151</td>\n",
              "      <td>843.37</td>\n",
              "      <td>424.7</td>\n",
              "      <td>0.0</td>\n",
              "    </tr>\n",
              "    <tr>\n",
              "      <th>3864</th>\n",
              "      <td>42531</td>\n",
              "      <td>0.000000</td>\n",
              "      <td>70.1</td>\n",
              "      <td>37.1</td>\n",
              "      <td>42.7</td>\n",
              "      <td>3.5</td>\n",
              "      <td>121</td>\n",
              "      <td>8.1</td>\n",
              "      <td>288</td>\n",
              "      <td>839.70</td>\n",
              "      <td>0.0</td>\n",
              "      <td>0.0</td>\n",
              "    </tr>\n",
              "    <tr>\n",
              "      <th>572</th>\n",
              "      <td>42393</td>\n",
              "      <td>0.833333</td>\n",
              "      <td>35.1</td>\n",
              "      <td>62.7</td>\n",
              "      <td>23.6</td>\n",
              "      <td>12.3</td>\n",
              "      <td>310</td>\n",
              "      <td>18.1</td>\n",
              "      <td>333</td>\n",
              "      <td>832.89</td>\n",
              "      <td>0.1</td>\n",
              "      <td>0.0</td>\n",
              "    </tr>\n",
              "    <tr>\n",
              "      <th>5429</th>\n",
              "      <td>42596</td>\n",
              "      <td>0.208333</td>\n",
              "      <td>50.2</td>\n",
              "      <td>67.4</td>\n",
              "      <td>39.8</td>\n",
              "      <td>7.0</td>\n",
              "      <td>290</td>\n",
              "      <td>10.4</td>\n",
              "      <td>334</td>\n",
              "      <td>847.04</td>\n",
              "      <td>0.1</td>\n",
              "      <td>0.0</td>\n",
              "    </tr>\n",
              "    <tr>\n",
              "      <th>4327</th>\n",
              "      <td>42550</td>\n",
              "      <td>0.291667</td>\n",
              "      <td>61.5</td>\n",
              "      <td>59.5</td>\n",
              "      <td>47.2</td>\n",
              "      <td>1.1</td>\n",
              "      <td>46</td>\n",
              "      <td>3.4</td>\n",
              "      <td>38</td>\n",
              "      <td>846.74</td>\n",
              "      <td>260.8</td>\n",
              "      <td>0.0</td>\n",
              "    </tr>\n",
              "    <tr>\n",
              "      <th>6176</th>\n",
              "      <td>42627</td>\n",
              "      <td>0.333333</td>\n",
              "      <td>49.4</td>\n",
              "      <td>83.3</td>\n",
              "      <td>44.5</td>\n",
              "      <td>3.4</td>\n",
              "      <td>1</td>\n",
              "      <td>6.4</td>\n",
              "      <td>15</td>\n",
              "      <td>846.36</td>\n",
              "      <td>81.8</td>\n",
              "      <td>0.0</td>\n",
              "    </tr>\n",
              "    <tr>\n",
              "      <th>8005</th>\n",
              "      <td>42703</td>\n",
              "      <td>0.541667</td>\n",
              "      <td>35.2</td>\n",
              "      <td>25.4</td>\n",
              "      <td>3.2</td>\n",
              "      <td>21.5</td>\n",
              "      <td>314</td>\n",
              "      <td>34.8</td>\n",
              "      <td>310</td>\n",
              "      <td>832.52</td>\n",
              "      <td>154.8</td>\n",
              "      <td>0.0</td>\n",
              "    </tr>\n",
              "    <tr>\n",
              "      <th>6525</th>\n",
              "      <td>42641</td>\n",
              "      <td>0.875000</td>\n",
              "      <td>66.0</td>\n",
              "      <td>32.0</td>\n",
              "      <td>35.3</td>\n",
              "      <td>5.5</td>\n",
              "      <td>159</td>\n",
              "      <td>13.0</td>\n",
              "      <td>131</td>\n",
              "      <td>851.28</td>\n",
              "      <td>0.0</td>\n",
              "      <td>0.0</td>\n",
              "    </tr>\n",
              "    <tr>\n",
              "      <th>862</th>\n",
              "      <td>42405</td>\n",
              "      <td>0.916667</td>\n",
              "      <td>13.2</td>\n",
              "      <td>71.0</td>\n",
              "      <td>5.6</td>\n",
              "      <td>3.2</td>\n",
              "      <td>224</td>\n",
              "      <td>7.6</td>\n",
              "      <td>248</td>\n",
              "      <td>848.24</td>\n",
              "      <td>0.0</td>\n",
              "      <td>0.0</td>\n",
              "    </tr>\n",
              "    <tr>\n",
              "      <th>5459</th>\n",
              "      <td>42597</td>\n",
              "      <td>0.458333</td>\n",
              "      <td>89.5</td>\n",
              "      <td>10.7</td>\n",
              "      <td>27.5</td>\n",
              "      <td>10.8</td>\n",
              "      <td>39</td>\n",
              "      <td>19.4</td>\n",
              "      <td>0</td>\n",
              "      <td>844.11</td>\n",
              "      <td>815.0</td>\n",
              "      <td>0.0</td>\n",
              "    </tr>\n",
              "    <tr>\n",
              "      <th>2234</th>\n",
              "      <td>42463</td>\n",
              "      <td>0.083333</td>\n",
              "      <td>40.1</td>\n",
              "      <td>52.9</td>\n",
              "      <td>24.3</td>\n",
              "      <td>4.9</td>\n",
              "      <td>241</td>\n",
              "      <td>13.0</td>\n",
              "      <td>265</td>\n",
              "      <td>841.39</td>\n",
              "      <td>0.0</td>\n",
              "      <td>0.0</td>\n",
              "    </tr>\n",
              "  </tbody>\n",
              "</table>\n",
              "</div>\n",
              "      <button class=\"colab-df-convert\" onclick=\"convertToInteractive('df-1f5a0a35-8f8c-4f6f-a9ac-f407a016fe7b')\"\n",
              "              title=\"Convert this dataframe to an interactive table.\"\n",
              "              style=\"display:none;\">\n",
              "        \n",
              "  <svg xmlns=\"http://www.w3.org/2000/svg\" height=\"24px\"viewBox=\"0 0 24 24\"\n",
              "       width=\"24px\">\n",
              "    <path d=\"M0 0h24v24H0V0z\" fill=\"none\"/>\n",
              "    <path d=\"M18.56 5.44l.94 2.06.94-2.06 2.06-.94-2.06-.94-.94-2.06-.94 2.06-2.06.94zm-11 1L8.5 8.5l.94-2.06 2.06-.94-2.06-.94L8.5 2.5l-.94 2.06-2.06.94zm10 10l.94 2.06.94-2.06 2.06-.94-2.06-.94-.94-2.06-.94 2.06-2.06.94z\"/><path d=\"M17.41 7.96l-1.37-1.37c-.4-.4-.92-.59-1.43-.59-.52 0-1.04.2-1.43.59L10.3 9.45l-7.72 7.72c-.78.78-.78 2.05 0 2.83L4 21.41c.39.39.9.59 1.41.59.51 0 1.02-.2 1.41-.59l7.78-7.78 2.81-2.81c.8-.78.8-2.07 0-2.86zM5.41 20L4 18.59l7.72-7.72 1.47 1.35L5.41 20z\"/>\n",
              "  </svg>\n",
              "      </button>\n",
              "      \n",
              "  <style>\n",
              "    .colab-df-container {\n",
              "      display:flex;\n",
              "      flex-wrap:wrap;\n",
              "      gap: 12px;\n",
              "    }\n",
              "\n",
              "    .colab-df-convert {\n",
              "      background-color: #E8F0FE;\n",
              "      border: none;\n",
              "      border-radius: 50%;\n",
              "      cursor: pointer;\n",
              "      display: none;\n",
              "      fill: #1967D2;\n",
              "      height: 32px;\n",
              "      padding: 0 0 0 0;\n",
              "      width: 32px;\n",
              "    }\n",
              "\n",
              "    .colab-df-convert:hover {\n",
              "      background-color: #E2EBFA;\n",
              "      box-shadow: 0px 1px 2px rgba(60, 64, 67, 0.3), 0px 1px 3px 1px rgba(60, 64, 67, 0.15);\n",
              "      fill: #174EA6;\n",
              "    }\n",
              "\n",
              "    [theme=dark] .colab-df-convert {\n",
              "      background-color: #3B4455;\n",
              "      fill: #D2E3FC;\n",
              "    }\n",
              "\n",
              "    [theme=dark] .colab-df-convert:hover {\n",
              "      background-color: #434B5C;\n",
              "      box-shadow: 0px 1px 3px 1px rgba(0, 0, 0, 0.15);\n",
              "      filter: drop-shadow(0px 1px 2px rgba(0, 0, 0, 0.3));\n",
              "      fill: #FFFFFF;\n",
              "    }\n",
              "  </style>\n",
              "\n",
              "      <script>\n",
              "        const buttonEl =\n",
              "          document.querySelector('#df-1f5a0a35-8f8c-4f6f-a9ac-f407a016fe7b button.colab-df-convert');\n",
              "        buttonEl.style.display =\n",
              "          google.colab.kernel.accessAllowed ? 'block' : 'none';\n",
              "\n",
              "        async function convertToInteractive(key) {\n",
              "          const element = document.querySelector('#df-1f5a0a35-8f8c-4f6f-a9ac-f407a016fe7b');\n",
              "          const dataTable =\n",
              "            await google.colab.kernel.invokeFunction('convertToInteractive',\n",
              "                                                     [key], {});\n",
              "          if (!dataTable) return;\n",
              "\n",
              "          const docLinkHtml = 'Like what you see? Visit the ' +\n",
              "            '<a target=\"_blank\" href=https://colab.research.google.com/notebooks/data_table.ipynb>data table notebook</a>'\n",
              "            + ' to learn more about interactive tables.';\n",
              "          element.innerHTML = '';\n",
              "          dataTable['output_type'] = 'display_data';\n",
              "          await google.colab.output.renderOutput(dataTable, element);\n",
              "          const docLink = document.createElement('div');\n",
              "          docLink.innerHTML = docLinkHtml;\n",
              "          element.appendChild(docLink);\n",
              "        }\n",
              "      </script>\n",
              "    </div>\n",
              "  </div>\n",
              "  "
            ]
          },
          "metadata": {},
          "execution_count": 5
        }
      ]
    },
    {
      "cell_type": "markdown",
      "metadata": {
        "id": "9jQF7I_gIV43"
      },
      "source": [
        "---------------------------------------------"
      ]
    },
    {
      "cell_type": "markdown",
      "metadata": {
        "id": "11LCNI1sIV43"
      },
      "source": [
        "# Part 2. Supervised learning"
      ]
    },
    {
      "cell_type": "markdown",
      "metadata": {
        "id": "jNyKMdDQIV43"
      },
      "source": [
        "#### We will be using supervised learning methods to perform the following two tasks:\n",
        "1. Predict the likelihood of rainfall given certain atmospheric conditions\n",
        "    1. Prepping the data\n",
        "    2. Building and training models\n",
        "        1. Logistic regression\n",
        "        2. Random Forest\n",
        "        4. Neural Network\n",
        "2. Determine which variable (\"feature\") is the best predictor of rainfall, i.e., \"feature importance\""
      ]
    },
    {
      "cell_type": "markdown",
      "metadata": {
        "id": "NmJXZApTIV43"
      },
      "source": [
        "---------------------------------------------"
      ]
    },
    {
      "cell_type": "markdown",
      "metadata": {
        "id": "SFCHzUhqIV44"
      },
      "source": [
        "# 2.1. Building a model to predict rainfall likelihood"
      ]
    },
    {
      "cell_type": "markdown",
      "metadata": {
        "id": "JT7hU5B9IV44"
      },
      "source": [
        "Let's say you want to determine which features or atmospheric variables are the best predictors of rainfall in Christman, CO. <br><br>\n",
        "Often, one simply regresses some metric of precipitation onto various atmospheric variables, and assume that whatever returns the highest regression coefficient is the best predictor. <br><br>\n",
        "While linear regression presents a fine first guess, it poses a few problems. Linear regression assumes atmospheric variables are linearly related to precipitation, AND that atmospheric variables are not collinear (both of which are false assumptions). <br><br>\n",
        "While a linear relationship between predictor & predictand is a good first guess, why limit yourself to linearity when you can just as easily relax that assumption?<br><br>\n",
        "This is where Machine Learning can come in handy. The rest of this notebook will step through the following Machine Learning model pipeline:<br><br>"
      ]
    },
    {
      "cell_type": "markdown",
      "metadata": {
        "id": "kj-nAtVFIV44"
      },
      "source": [
        "![model_pipeline](https://drive.google.com/uc?export=view&id=1ZvJXnqUz89UjkbSjUK18QGM0ctQP3b9o)"
      ]
    },
    {
      "cell_type": "markdown",
      "metadata": {
        "id": "SpIEfCviIV44"
      },
      "source": [
        "---------------------------------------------"
      ]
    },
    {
      "cell_type": "markdown",
      "metadata": {
        "id": "Emufbpt-IV45"
      },
      "source": [
        "# 2.1.B. Data Preparation"
      ]
    },
    {
      "cell_type": "markdown",
      "metadata": {
        "id": "xiJ3PZWgIV45"
      },
      "source": [
        "Data preparation is a huge part of building Machine Learning model \"pipelines\"."
      ]
    },
    {
      "cell_type": "markdown",
      "metadata": {
        "id": "LOuyAJf4IV45"
      },
      "source": [
        "There are few steps involved when thinking about building & training a Machine Learning model. Remember, models are \"stupid\", and there are a few statistical \"gotcha's\" that may result in your model being biased, inaccurate, or not suitable for the problem at hand. The order of addressing these issues in your data is important (we will address the importance of this order in question 1 at the end)!\n",
        "<br>\n",
        "1. __What exactly are we trying to predict? A value, an outcome, a category? Define your predictors and predictand.__ This requires revisiting your hypothesis or overarching question. In our case, our predictand is the likelihood of precipitation. We will build a Machine Learning model (actually, a few models) that predicts the likelihood that it's currently precipitating at Christman, CO, given current atmospheric conditions. \n",
        "<br><br>\n",
        "2. __Do you have any missing data? If so, how will you handle them? Keep in mind, decreasing the number of input observations may bias your model.__ In our case, we have no missing data.\n",
        "<br><br>\n",
        "3. __Do you have any categorical or non-numeric variables or features? If so, you must figure out how to encode them into numbers.__ Luckily, in the geosciences, we rarely run into this problem.\n",
        "<br><br>\n",
        "4. __How will we validate our model?__ Typically, people split their existing data into training data and testing data, or perform \"__cross-validation__\" or a \"__test-train split__\". That is, we will \"hold out\" some data and call it our \"testing data\", while using the rest of the data to train our model (i.e., \"training data\"). Once our model is trained, we will evaluate its performance with the holdout testing data. *Note:* This could be problematic if there is limited data. \n",
        "<br><br>\n",
        "5. __Do your features have the same variance?__ Just like for K-means clustering above, this can be an important step so that your model doesn't overemphasize one variable with large variance too much. This step is called \"__feature scaling__\". Features of the same size also speed up the Gradient Descent algorithm. For some algorithms, like Linear Regression and Random Forest, feature scaling doesn't matter. But for algorithms like Neural Networks, this becomes very important.\n",
        "<br><br>\n",
        "6. __If classification is the goal, are there the same number of observations for each feature and outcome? If not, how will you rebalance?__ Luckily, we have the same number of observations (8784) for each feature, but a lack of precipitation is way more common than hours with precipitation. We will oversample the observations associated with precip so that the two outcomes (or \"classes\") are equal, though we are making a big assumption: that our subsample is a good representation of each feature distribution. Otherwise, we are building a model that represents unrealistic distributions and thus their respective relationships. *Note: It's important that feature scaling or normalization is performed before any rebalancing so that the qualitative statistics (mean, stddev, etc) remain the same.*\n",
        "<br><br>\n",
        "7. __What are the appropriate metrics for assessing your model? Consider the bias-variance trade-off, and whether having false positives or false negatives is more impactful.__ In our case, predicting no rain when there is rain (false negative) is probably more frustrating and potentially more impactful than the other way around (a false positive). The same can be said for regression models: but metrics computing the model & prediction error are more important (RMSE, R$^2$, MAE, percent error, etc.)"
      ]
    },
    {
      "cell_type": "markdown",
      "metadata": {
        "id": "WaeVA5NoIV45"
      },
      "source": [
        "<br>"
      ]
    },
    {
      "cell_type": "markdown",
      "metadata": {
        "id": "oOq9yuhVIV45"
      },
      "source": [
        "### Q1. What exactly are you trying to predict?\n",
        "First, split data into predictor & predictands. \n",
        "I'm going to create (or \"engineer\") a new feature that indicates whether precipitation occurred. Clearly, this step only needs to be performed once."
      ]
    },
    {
      "cell_type": "code",
      "execution_count": 6,
      "metadata": {
        "id": "b9dPGFLTIV46",
        "colab": {
          "base_uri": "https://localhost:8080/"
        },
        "outputId": "23c2ff40-b15f-414b-8754-24533becdc12"
      },
      "outputs": [
        {
          "output_type": "execute_result",
          "data": {
            "text/plain": [
              "Index(['day', 'hour', 'temp_F', 'RH', 'dewtemp_F', 'wind_mph', 'wind_dir',\n",
              "       'windgust', 'windgust_dir', 'pres_Hg', 'SOLIN_Wm2', 'Prec_inches'],\n",
              "      dtype='object')"
            ]
          },
          "metadata": {},
          "execution_count": 6
        }
      ],
      "source": [
        "df.columns # what is the variable called that indicates precipitation amount?prec inches"
      ]
    },
    {
      "cell_type": "code",
      "execution_count": 7,
      "metadata": {
        "id": "3qjxbAtiIV46",
        "colab": {
          "base_uri": "https://localhost:8080/",
          "height": 520
        },
        "outputId": "18e07bb6-4987-41b5-f93c-f14440b1ed28"
      },
      "outputs": [
        {
          "output_type": "execute_result",
          "data": {
            "text/plain": [
              "        day      hour  temp_F    RH  dewtemp_F  wind_mph  wind_dir  windgust  \\\n",
              "1299  42424  0.125000    20.2  56.9        7.3       1.5       272       6.1   \n",
              "7720  42691  0.666667    27.0  88.9       24.2      15.3       350      23.9   \n",
              "2549  42476  0.208333    35.2  78.2       29.1      17.5       323      24.9   \n",
              "2166  42460  0.250000    36.1  48.7       18.6       5.2       291      16.7   \n",
              "8779  42735  0.791667    22.3  74.3       15.4       0.9       221       3.3   \n",
              "8152  42709  0.666667    27.5  29.6       -0.2      33.8       327      47.7   \n",
              "3060  42497  0.500000    45.9  85.2       41.7      11.7       300      16.6   \n",
              "1793  42444  0.708333    40.6  27.8        9.9      17.5       285      33.4   \n",
              "5213  42587  0.208333    56.7  77.4       49.7       0.7       297       4.1   \n",
              "6785  42652  0.708333    72.4  22.1       31.5       6.9       159      13.5   \n",
              "2461  42472  0.541667    66.1  32.2       35.6       7.0       261      27.6   \n",
              "6944  42659  0.333333    55.8  40.2       32.0       7.8       357      28.8   \n",
              "7262  42672  0.583333    74.7  18.0       28.4      13.9       311      25.3   \n",
              "5447  42596  0.958333    60.7  49.2       41.6       5.1       355       9.4   \n",
              "581   42394  0.208333    30.8  56.0       17.0      11.0       303      16.2   \n",
              "\n",
              "      windgust_dir  pres_Hg  SOLIN_Wm2  Prec_inches  prec_occur  \n",
              "1299           318   844.75        0.0         0.00           0  \n",
              "7720             3   834.20       26.8         0.01           1  \n",
              "2549           315   840.72        0.0         0.01           1  \n",
              "2166           302   834.11        0.8         0.00           0  \n",
              "8779           202   833.32        0.0         0.00           0  \n",
              "8152           304   831.46       64.8         0.00           0  \n",
              "3060           305   838.57       36.9         0.02           1  \n",
              "1793           303   839.16      212.5         0.00           0  \n",
              "5213           297   838.61        0.2         0.00           0  \n",
              "6785           168   840.57      156.9         0.00           0  \n",
              "2461           243   841.68      564.7         0.01           1  \n",
              "6944           229   833.44      169.5         0.00           0  \n",
              "7262           336   842.70      483.0         0.00           0  \n",
              "5447           325   843.33        0.0         0.00           0  \n",
              "581            336   836.62        0.0         0.00           0  "
            ],
            "text/html": [
              "\n",
              "  <div id=\"df-90c02d65-9cc7-4803-b225-2d0438d72bbc\">\n",
              "    <div class=\"colab-df-container\">\n",
              "      <div>\n",
              "<style scoped>\n",
              "    .dataframe tbody tr th:only-of-type {\n",
              "        vertical-align: middle;\n",
              "    }\n",
              "\n",
              "    .dataframe tbody tr th {\n",
              "        vertical-align: top;\n",
              "    }\n",
              "\n",
              "    .dataframe thead th {\n",
              "        text-align: right;\n",
              "    }\n",
              "</style>\n",
              "<table border=\"1\" class=\"dataframe\">\n",
              "  <thead>\n",
              "    <tr style=\"text-align: right;\">\n",
              "      <th></th>\n",
              "      <th>day</th>\n",
              "      <th>hour</th>\n",
              "      <th>temp_F</th>\n",
              "      <th>RH</th>\n",
              "      <th>dewtemp_F</th>\n",
              "      <th>wind_mph</th>\n",
              "      <th>wind_dir</th>\n",
              "      <th>windgust</th>\n",
              "      <th>windgust_dir</th>\n",
              "      <th>pres_Hg</th>\n",
              "      <th>SOLIN_Wm2</th>\n",
              "      <th>Prec_inches</th>\n",
              "      <th>prec_occur</th>\n",
              "    </tr>\n",
              "  </thead>\n",
              "  <tbody>\n",
              "    <tr>\n",
              "      <th>1299</th>\n",
              "      <td>42424</td>\n",
              "      <td>0.125000</td>\n",
              "      <td>20.2</td>\n",
              "      <td>56.9</td>\n",
              "      <td>7.3</td>\n",
              "      <td>1.5</td>\n",
              "      <td>272</td>\n",
              "      <td>6.1</td>\n",
              "      <td>318</td>\n",
              "      <td>844.75</td>\n",
              "      <td>0.0</td>\n",
              "      <td>0.00</td>\n",
              "      <td>0</td>\n",
              "    </tr>\n",
              "    <tr>\n",
              "      <th>7720</th>\n",
              "      <td>42691</td>\n",
              "      <td>0.666667</td>\n",
              "      <td>27.0</td>\n",
              "      <td>88.9</td>\n",
              "      <td>24.2</td>\n",
              "      <td>15.3</td>\n",
              "      <td>350</td>\n",
              "      <td>23.9</td>\n",
              "      <td>3</td>\n",
              "      <td>834.20</td>\n",
              "      <td>26.8</td>\n",
              "      <td>0.01</td>\n",
              "      <td>1</td>\n",
              "    </tr>\n",
              "    <tr>\n",
              "      <th>2549</th>\n",
              "      <td>42476</td>\n",
              "      <td>0.208333</td>\n",
              "      <td>35.2</td>\n",
              "      <td>78.2</td>\n",
              "      <td>29.1</td>\n",
              "      <td>17.5</td>\n",
              "      <td>323</td>\n",
              "      <td>24.9</td>\n",
              "      <td>315</td>\n",
              "      <td>840.72</td>\n",
              "      <td>0.0</td>\n",
              "      <td>0.01</td>\n",
              "      <td>1</td>\n",
              "    </tr>\n",
              "    <tr>\n",
              "      <th>2166</th>\n",
              "      <td>42460</td>\n",
              "      <td>0.250000</td>\n",
              "      <td>36.1</td>\n",
              "      <td>48.7</td>\n",
              "      <td>18.6</td>\n",
              "      <td>5.2</td>\n",
              "      <td>291</td>\n",
              "      <td>16.7</td>\n",
              "      <td>302</td>\n",
              "      <td>834.11</td>\n",
              "      <td>0.8</td>\n",
              "      <td>0.00</td>\n",
              "      <td>0</td>\n",
              "    </tr>\n",
              "    <tr>\n",
              "      <th>8779</th>\n",
              "      <td>42735</td>\n",
              "      <td>0.791667</td>\n",
              "      <td>22.3</td>\n",
              "      <td>74.3</td>\n",
              "      <td>15.4</td>\n",
              "      <td>0.9</td>\n",
              "      <td>221</td>\n",
              "      <td>3.3</td>\n",
              "      <td>202</td>\n",
              "      <td>833.32</td>\n",
              "      <td>0.0</td>\n",
              "      <td>0.00</td>\n",
              "      <td>0</td>\n",
              "    </tr>\n",
              "    <tr>\n",
              "      <th>8152</th>\n",
              "      <td>42709</td>\n",
              "      <td>0.666667</td>\n",
              "      <td>27.5</td>\n",
              "      <td>29.6</td>\n",
              "      <td>-0.2</td>\n",
              "      <td>33.8</td>\n",
              "      <td>327</td>\n",
              "      <td>47.7</td>\n",
              "      <td>304</td>\n",
              "      <td>831.46</td>\n",
              "      <td>64.8</td>\n",
              "      <td>0.00</td>\n",
              "      <td>0</td>\n",
              "    </tr>\n",
              "    <tr>\n",
              "      <th>3060</th>\n",
              "      <td>42497</td>\n",
              "      <td>0.500000</td>\n",
              "      <td>45.9</td>\n",
              "      <td>85.2</td>\n",
              "      <td>41.7</td>\n",
              "      <td>11.7</td>\n",
              "      <td>300</td>\n",
              "      <td>16.6</td>\n",
              "      <td>305</td>\n",
              "      <td>838.57</td>\n",
              "      <td>36.9</td>\n",
              "      <td>0.02</td>\n",
              "      <td>1</td>\n",
              "    </tr>\n",
              "    <tr>\n",
              "      <th>1793</th>\n",
              "      <td>42444</td>\n",
              "      <td>0.708333</td>\n",
              "      <td>40.6</td>\n",
              "      <td>27.8</td>\n",
              "      <td>9.9</td>\n",
              "      <td>17.5</td>\n",
              "      <td>285</td>\n",
              "      <td>33.4</td>\n",
              "      <td>303</td>\n",
              "      <td>839.16</td>\n",
              "      <td>212.5</td>\n",
              "      <td>0.00</td>\n",
              "      <td>0</td>\n",
              "    </tr>\n",
              "    <tr>\n",
              "      <th>5213</th>\n",
              "      <td>42587</td>\n",
              "      <td>0.208333</td>\n",
              "      <td>56.7</td>\n",
              "      <td>77.4</td>\n",
              "      <td>49.7</td>\n",
              "      <td>0.7</td>\n",
              "      <td>297</td>\n",
              "      <td>4.1</td>\n",
              "      <td>297</td>\n",
              "      <td>838.61</td>\n",
              "      <td>0.2</td>\n",
              "      <td>0.00</td>\n",
              "      <td>0</td>\n",
              "    </tr>\n",
              "    <tr>\n",
              "      <th>6785</th>\n",
              "      <td>42652</td>\n",
              "      <td>0.708333</td>\n",
              "      <td>72.4</td>\n",
              "      <td>22.1</td>\n",
              "      <td>31.5</td>\n",
              "      <td>6.9</td>\n",
              "      <td>159</td>\n",
              "      <td>13.5</td>\n",
              "      <td>168</td>\n",
              "      <td>840.57</td>\n",
              "      <td>156.9</td>\n",
              "      <td>0.00</td>\n",
              "      <td>0</td>\n",
              "    </tr>\n",
              "    <tr>\n",
              "      <th>2461</th>\n",
              "      <td>42472</td>\n",
              "      <td>0.541667</td>\n",
              "      <td>66.1</td>\n",
              "      <td>32.2</td>\n",
              "      <td>35.6</td>\n",
              "      <td>7.0</td>\n",
              "      <td>261</td>\n",
              "      <td>27.6</td>\n",
              "      <td>243</td>\n",
              "      <td>841.68</td>\n",
              "      <td>564.7</td>\n",
              "      <td>0.01</td>\n",
              "      <td>1</td>\n",
              "    </tr>\n",
              "    <tr>\n",
              "      <th>6944</th>\n",
              "      <td>42659</td>\n",
              "      <td>0.333333</td>\n",
              "      <td>55.8</td>\n",
              "      <td>40.2</td>\n",
              "      <td>32.0</td>\n",
              "      <td>7.8</td>\n",
              "      <td>357</td>\n",
              "      <td>28.8</td>\n",
              "      <td>229</td>\n",
              "      <td>833.44</td>\n",
              "      <td>169.5</td>\n",
              "      <td>0.00</td>\n",
              "      <td>0</td>\n",
              "    </tr>\n",
              "    <tr>\n",
              "      <th>7262</th>\n",
              "      <td>42672</td>\n",
              "      <td>0.583333</td>\n",
              "      <td>74.7</td>\n",
              "      <td>18.0</td>\n",
              "      <td>28.4</td>\n",
              "      <td>13.9</td>\n",
              "      <td>311</td>\n",
              "      <td>25.3</td>\n",
              "      <td>336</td>\n",
              "      <td>842.70</td>\n",
              "      <td>483.0</td>\n",
              "      <td>0.00</td>\n",
              "      <td>0</td>\n",
              "    </tr>\n",
              "    <tr>\n",
              "      <th>5447</th>\n",
              "      <td>42596</td>\n",
              "      <td>0.958333</td>\n",
              "      <td>60.7</td>\n",
              "      <td>49.2</td>\n",
              "      <td>41.6</td>\n",
              "      <td>5.1</td>\n",
              "      <td>355</td>\n",
              "      <td>9.4</td>\n",
              "      <td>325</td>\n",
              "      <td>843.33</td>\n",
              "      <td>0.0</td>\n",
              "      <td>0.00</td>\n",
              "      <td>0</td>\n",
              "    </tr>\n",
              "    <tr>\n",
              "      <th>581</th>\n",
              "      <td>42394</td>\n",
              "      <td>0.208333</td>\n",
              "      <td>30.8</td>\n",
              "      <td>56.0</td>\n",
              "      <td>17.0</td>\n",
              "      <td>11.0</td>\n",
              "      <td>303</td>\n",
              "      <td>16.2</td>\n",
              "      <td>336</td>\n",
              "      <td>836.62</td>\n",
              "      <td>0.0</td>\n",
              "      <td>0.00</td>\n",
              "      <td>0</td>\n",
              "    </tr>\n",
              "  </tbody>\n",
              "</table>\n",
              "</div>\n",
              "      <button class=\"colab-df-convert\" onclick=\"convertToInteractive('df-90c02d65-9cc7-4803-b225-2d0438d72bbc')\"\n",
              "              title=\"Convert this dataframe to an interactive table.\"\n",
              "              style=\"display:none;\">\n",
              "        \n",
              "  <svg xmlns=\"http://www.w3.org/2000/svg\" height=\"24px\"viewBox=\"0 0 24 24\"\n",
              "       width=\"24px\">\n",
              "    <path d=\"M0 0h24v24H0V0z\" fill=\"none\"/>\n",
              "    <path d=\"M18.56 5.44l.94 2.06.94-2.06 2.06-.94-2.06-.94-.94-2.06-.94 2.06-2.06.94zm-11 1L8.5 8.5l.94-2.06 2.06-.94-2.06-.94L8.5 2.5l-.94 2.06-2.06.94zm10 10l.94 2.06.94-2.06 2.06-.94-2.06-.94-.94-2.06-.94 2.06-2.06.94z\"/><path d=\"M17.41 7.96l-1.37-1.37c-.4-.4-.92-.59-1.43-.59-.52 0-1.04.2-1.43.59L10.3 9.45l-7.72 7.72c-.78.78-.78 2.05 0 2.83L4 21.41c.39.39.9.59 1.41.59.51 0 1.02-.2 1.41-.59l7.78-7.78 2.81-2.81c.8-.78.8-2.07 0-2.86zM5.41 20L4 18.59l7.72-7.72 1.47 1.35L5.41 20z\"/>\n",
              "  </svg>\n",
              "      </button>\n",
              "      \n",
              "  <style>\n",
              "    .colab-df-container {\n",
              "      display:flex;\n",
              "      flex-wrap:wrap;\n",
              "      gap: 12px;\n",
              "    }\n",
              "\n",
              "    .colab-df-convert {\n",
              "      background-color: #E8F0FE;\n",
              "      border: none;\n",
              "      border-radius: 50%;\n",
              "      cursor: pointer;\n",
              "      display: none;\n",
              "      fill: #1967D2;\n",
              "      height: 32px;\n",
              "      padding: 0 0 0 0;\n",
              "      width: 32px;\n",
              "    }\n",
              "\n",
              "    .colab-df-convert:hover {\n",
              "      background-color: #E2EBFA;\n",
              "      box-shadow: 0px 1px 2px rgba(60, 64, 67, 0.3), 0px 1px 3px 1px rgba(60, 64, 67, 0.15);\n",
              "      fill: #174EA6;\n",
              "    }\n",
              "\n",
              "    [theme=dark] .colab-df-convert {\n",
              "      background-color: #3B4455;\n",
              "      fill: #D2E3FC;\n",
              "    }\n",
              "\n",
              "    [theme=dark] .colab-df-convert:hover {\n",
              "      background-color: #434B5C;\n",
              "      box-shadow: 0px 1px 3px 1px rgba(0, 0, 0, 0.15);\n",
              "      filter: drop-shadow(0px 1px 2px rgba(0, 0, 0, 0.3));\n",
              "      fill: #FFFFFF;\n",
              "    }\n",
              "  </style>\n",
              "\n",
              "      <script>\n",
              "        const buttonEl =\n",
              "          document.querySelector('#df-90c02d65-9cc7-4803-b225-2d0438d72bbc button.colab-df-convert');\n",
              "        buttonEl.style.display =\n",
              "          google.colab.kernel.accessAllowed ? 'block' : 'none';\n",
              "\n",
              "        async function convertToInteractive(key) {\n",
              "          const element = document.querySelector('#df-90c02d65-9cc7-4803-b225-2d0438d72bbc');\n",
              "          const dataTable =\n",
              "            await google.colab.kernel.invokeFunction('convertToInteractive',\n",
              "                                                     [key], {});\n",
              "          if (!dataTable) return;\n",
              "\n",
              "          const docLinkHtml = 'Like what you see? Visit the ' +\n",
              "            '<a target=\"_blank\" href=https://colab.research.google.com/notebooks/data_table.ipynb>data table notebook</a>'\n",
              "            + ' to learn more about interactive tables.';\n",
              "          element.innerHTML = '';\n",
              "          dataTable['output_type'] = 'display_data';\n",
              "          await google.colab.output.renderOutput(dataTable, element);\n",
              "          const docLink = document.createElement('div');\n",
              "          docLink.innerHTML = docLinkHtml;\n",
              "          element.appendChild(docLink);\n",
              "        }\n",
              "      </script>\n",
              "    </div>\n",
              "  </div>\n",
              "  "
            ]
          },
          "metadata": {},
          "execution_count": 7
        }
      ],
      "source": [
        "df['prec_occur'] = np.array(df.Prec_inches!=0).astype(int)\n",
        "df.sample(15) # randomly select & display 15 samples from the dataframe"
      ]
    },
    {
      "cell_type": "markdown",
      "metadata": {
        "id": "a_LLK4ZVIV46"
      },
      "source": [
        "Then, select the data that will be predictors. "
      ]
    },
    {
      "cell_type": "code",
      "execution_count": 8,
      "metadata": {
        "id": "4t_N2kF8IV46",
        "colab": {
          "base_uri": "https://localhost:8080/",
          "height": 423
        },
        "outputId": "cfba5636-9c0b-462e-bba1-5b24e344b5b2"
      },
      "outputs": [
        {
          "output_type": "execute_result",
          "data": {
            "text/plain": [
              "      temp_F    RH  dewtemp_F  wind_mph  wind_dir  windgust  windgust_dir  \\\n",
              "0        7.0  72.2       -0.1       1.2       234       3.9           224   \n",
              "1        5.4  74.3       -1.0       3.4       299       7.1           302   \n",
              "2        6.4  73.8       -0.2       2.8       200       7.0           301   \n",
              "3        3.0  73.5       -3.6       2.9       309       6.1           349   \n",
              "4        3.7  76.9       -1.9       3.1       346       5.3           255   \n",
              "...      ...   ...        ...       ...       ...       ...           ...   \n",
              "8779    22.3  74.3       15.4       0.9       221       3.3           202   \n",
              "8780    20.3  80.4       15.3       0.6       279       2.9           279   \n",
              "8781    19.9  81.1       15.1       0.5       197       2.5           279   \n",
              "8782    17.8  82.8       13.5       2.0       353       4.8           352   \n",
              "8783    16.3  84.1       12.4       1.0       191       4.9           353   \n",
              "\n",
              "      pres_Hg  SOLIN_Wm2  prec_occur  \n",
              "0      851.30        0.0           0  \n",
              "1      850.82        0.0           0  \n",
              "2      849.83        0.0           0  \n",
              "3      850.69        0.0           0  \n",
              "4      848.24        0.0           0  \n",
              "...       ...        ...         ...  \n",
              "8779   833.32        0.0           0  \n",
              "8780   833.45        0.1           0  \n",
              "8781   833.01        0.1           0  \n",
              "8782   832.78        0.1           0  \n",
              "8783   832.62        0.0           0  \n",
              "\n",
              "[8784 rows x 10 columns]"
            ],
            "text/html": [
              "\n",
              "  <div id=\"df-b5857e49-0dc3-4c76-a7eb-d1e811b7af95\">\n",
              "    <div class=\"colab-df-container\">\n",
              "      <div>\n",
              "<style scoped>\n",
              "    .dataframe tbody tr th:only-of-type {\n",
              "        vertical-align: middle;\n",
              "    }\n",
              "\n",
              "    .dataframe tbody tr th {\n",
              "        vertical-align: top;\n",
              "    }\n",
              "\n",
              "    .dataframe thead th {\n",
              "        text-align: right;\n",
              "    }\n",
              "</style>\n",
              "<table border=\"1\" class=\"dataframe\">\n",
              "  <thead>\n",
              "    <tr style=\"text-align: right;\">\n",
              "      <th></th>\n",
              "      <th>temp_F</th>\n",
              "      <th>RH</th>\n",
              "      <th>dewtemp_F</th>\n",
              "      <th>wind_mph</th>\n",
              "      <th>wind_dir</th>\n",
              "      <th>windgust</th>\n",
              "      <th>windgust_dir</th>\n",
              "      <th>pres_Hg</th>\n",
              "      <th>SOLIN_Wm2</th>\n",
              "      <th>prec_occur</th>\n",
              "    </tr>\n",
              "  </thead>\n",
              "  <tbody>\n",
              "    <tr>\n",
              "      <th>0</th>\n",
              "      <td>7.0</td>\n",
              "      <td>72.2</td>\n",
              "      <td>-0.1</td>\n",
              "      <td>1.2</td>\n",
              "      <td>234</td>\n",
              "      <td>3.9</td>\n",
              "      <td>224</td>\n",
              "      <td>851.30</td>\n",
              "      <td>0.0</td>\n",
              "      <td>0</td>\n",
              "    </tr>\n",
              "    <tr>\n",
              "      <th>1</th>\n",
              "      <td>5.4</td>\n",
              "      <td>74.3</td>\n",
              "      <td>-1.0</td>\n",
              "      <td>3.4</td>\n",
              "      <td>299</td>\n",
              "      <td>7.1</td>\n",
              "      <td>302</td>\n",
              "      <td>850.82</td>\n",
              "      <td>0.0</td>\n",
              "      <td>0</td>\n",
              "    </tr>\n",
              "    <tr>\n",
              "      <th>2</th>\n",
              "      <td>6.4</td>\n",
              "      <td>73.8</td>\n",
              "      <td>-0.2</td>\n",
              "      <td>2.8</td>\n",
              "      <td>200</td>\n",
              "      <td>7.0</td>\n",
              "      <td>301</td>\n",
              "      <td>849.83</td>\n",
              "      <td>0.0</td>\n",
              "      <td>0</td>\n",
              "    </tr>\n",
              "    <tr>\n",
              "      <th>3</th>\n",
              "      <td>3.0</td>\n",
              "      <td>73.5</td>\n",
              "      <td>-3.6</td>\n",
              "      <td>2.9</td>\n",
              "      <td>309</td>\n",
              "      <td>6.1</td>\n",
              "      <td>349</td>\n",
              "      <td>850.69</td>\n",
              "      <td>0.0</td>\n",
              "      <td>0</td>\n",
              "    </tr>\n",
              "    <tr>\n",
              "      <th>4</th>\n",
              "      <td>3.7</td>\n",
              "      <td>76.9</td>\n",
              "      <td>-1.9</td>\n",
              "      <td>3.1</td>\n",
              "      <td>346</td>\n",
              "      <td>5.3</td>\n",
              "      <td>255</td>\n",
              "      <td>848.24</td>\n",
              "      <td>0.0</td>\n",
              "      <td>0</td>\n",
              "    </tr>\n",
              "    <tr>\n",
              "      <th>...</th>\n",
              "      <td>...</td>\n",
              "      <td>...</td>\n",
              "      <td>...</td>\n",
              "      <td>...</td>\n",
              "      <td>...</td>\n",
              "      <td>...</td>\n",
              "      <td>...</td>\n",
              "      <td>...</td>\n",
              "      <td>...</td>\n",
              "      <td>...</td>\n",
              "    </tr>\n",
              "    <tr>\n",
              "      <th>8779</th>\n",
              "      <td>22.3</td>\n",
              "      <td>74.3</td>\n",
              "      <td>15.4</td>\n",
              "      <td>0.9</td>\n",
              "      <td>221</td>\n",
              "      <td>3.3</td>\n",
              "      <td>202</td>\n",
              "      <td>833.32</td>\n",
              "      <td>0.0</td>\n",
              "      <td>0</td>\n",
              "    </tr>\n",
              "    <tr>\n",
              "      <th>8780</th>\n",
              "      <td>20.3</td>\n",
              "      <td>80.4</td>\n",
              "      <td>15.3</td>\n",
              "      <td>0.6</td>\n",
              "      <td>279</td>\n",
              "      <td>2.9</td>\n",
              "      <td>279</td>\n",
              "      <td>833.45</td>\n",
              "      <td>0.1</td>\n",
              "      <td>0</td>\n",
              "    </tr>\n",
              "    <tr>\n",
              "      <th>8781</th>\n",
              "      <td>19.9</td>\n",
              "      <td>81.1</td>\n",
              "      <td>15.1</td>\n",
              "      <td>0.5</td>\n",
              "      <td>197</td>\n",
              "      <td>2.5</td>\n",
              "      <td>279</td>\n",
              "      <td>833.01</td>\n",
              "      <td>0.1</td>\n",
              "      <td>0</td>\n",
              "    </tr>\n",
              "    <tr>\n",
              "      <th>8782</th>\n",
              "      <td>17.8</td>\n",
              "      <td>82.8</td>\n",
              "      <td>13.5</td>\n",
              "      <td>2.0</td>\n",
              "      <td>353</td>\n",
              "      <td>4.8</td>\n",
              "      <td>352</td>\n",
              "      <td>832.78</td>\n",
              "      <td>0.1</td>\n",
              "      <td>0</td>\n",
              "    </tr>\n",
              "    <tr>\n",
              "      <th>8783</th>\n",
              "      <td>16.3</td>\n",
              "      <td>84.1</td>\n",
              "      <td>12.4</td>\n",
              "      <td>1.0</td>\n",
              "      <td>191</td>\n",
              "      <td>4.9</td>\n",
              "      <td>353</td>\n",
              "      <td>832.62</td>\n",
              "      <td>0.0</td>\n",
              "      <td>0</td>\n",
              "    </tr>\n",
              "  </tbody>\n",
              "</table>\n",
              "<p>8784 rows × 10 columns</p>\n",
              "</div>\n",
              "      <button class=\"colab-df-convert\" onclick=\"convertToInteractive('df-b5857e49-0dc3-4c76-a7eb-d1e811b7af95')\"\n",
              "              title=\"Convert this dataframe to an interactive table.\"\n",
              "              style=\"display:none;\">\n",
              "        \n",
              "  <svg xmlns=\"http://www.w3.org/2000/svg\" height=\"24px\"viewBox=\"0 0 24 24\"\n",
              "       width=\"24px\">\n",
              "    <path d=\"M0 0h24v24H0V0z\" fill=\"none\"/>\n",
              "    <path d=\"M18.56 5.44l.94 2.06.94-2.06 2.06-.94-2.06-.94-.94-2.06-.94 2.06-2.06.94zm-11 1L8.5 8.5l.94-2.06 2.06-.94-2.06-.94L8.5 2.5l-.94 2.06-2.06.94zm10 10l.94 2.06.94-2.06 2.06-.94-2.06-.94-.94-2.06-.94 2.06-2.06.94z\"/><path d=\"M17.41 7.96l-1.37-1.37c-.4-.4-.92-.59-1.43-.59-.52 0-1.04.2-1.43.59L10.3 9.45l-7.72 7.72c-.78.78-.78 2.05 0 2.83L4 21.41c.39.39.9.59 1.41.59.51 0 1.02-.2 1.41-.59l7.78-7.78 2.81-2.81c.8-.78.8-2.07 0-2.86zM5.41 20L4 18.59l7.72-7.72 1.47 1.35L5.41 20z\"/>\n",
              "  </svg>\n",
              "      </button>\n",
              "      \n",
              "  <style>\n",
              "    .colab-df-container {\n",
              "      display:flex;\n",
              "      flex-wrap:wrap;\n",
              "      gap: 12px;\n",
              "    }\n",
              "\n",
              "    .colab-df-convert {\n",
              "      background-color: #E8F0FE;\n",
              "      border: none;\n",
              "      border-radius: 50%;\n",
              "      cursor: pointer;\n",
              "      display: none;\n",
              "      fill: #1967D2;\n",
              "      height: 32px;\n",
              "      padding: 0 0 0 0;\n",
              "      width: 32px;\n",
              "    }\n",
              "\n",
              "    .colab-df-convert:hover {\n",
              "      background-color: #E2EBFA;\n",
              "      box-shadow: 0px 1px 2px rgba(60, 64, 67, 0.3), 0px 1px 3px 1px rgba(60, 64, 67, 0.15);\n",
              "      fill: #174EA6;\n",
              "    }\n",
              "\n",
              "    [theme=dark] .colab-df-convert {\n",
              "      background-color: #3B4455;\n",
              "      fill: #D2E3FC;\n",
              "    }\n",
              "\n",
              "    [theme=dark] .colab-df-convert:hover {\n",
              "      background-color: #434B5C;\n",
              "      box-shadow: 0px 1px 3px 1px rgba(0, 0, 0, 0.15);\n",
              "      filter: drop-shadow(0px 1px 2px rgba(0, 0, 0, 0.3));\n",
              "      fill: #FFFFFF;\n",
              "    }\n",
              "  </style>\n",
              "\n",
              "      <script>\n",
              "        const buttonEl =\n",
              "          document.querySelector('#df-b5857e49-0dc3-4c76-a7eb-d1e811b7af95 button.colab-df-convert');\n",
              "        buttonEl.style.display =\n",
              "          google.colab.kernel.accessAllowed ? 'block' : 'none';\n",
              "\n",
              "        async function convertToInteractive(key) {\n",
              "          const element = document.querySelector('#df-b5857e49-0dc3-4c76-a7eb-d1e811b7af95');\n",
              "          const dataTable =\n",
              "            await google.colab.kernel.invokeFunction('convertToInteractive',\n",
              "                                                     [key], {});\n",
              "          if (!dataTable) return;\n",
              "\n",
              "          const docLinkHtml = 'Like what you see? Visit the ' +\n",
              "            '<a target=\"_blank\" href=https://colab.research.google.com/notebooks/data_table.ipynb>data table notebook</a>'\n",
              "            + ' to learn more about interactive tables.';\n",
              "          element.innerHTML = '';\n",
              "          dataTable['output_type'] = 'display_data';\n",
              "          await google.colab.output.renderOutput(dataTable, element);\n",
              "          const docLink = document.createElement('div');\n",
              "          docLink.innerHTML = docLinkHtml;\n",
              "          element.appendChild(docLink);\n",
              "        }\n",
              "      </script>\n",
              "    </div>\n",
              "  </div>\n",
              "  "
            ]
          },
          "metadata": {},
          "execution_count": 8
        }
      ],
      "source": [
        "predictors = df.copy(deep=True) \n",
        "# deep = True so that changes to predictors won't be made to original df.\n",
        "\n",
        "# these shouldn't go into predicting whether or not there is rain.\n",
        "predictors = df.drop(['day','hour','Prec_inches'],axis=1) \n",
        "predictors"
      ]
    },
    {
      "cell_type": "markdown",
      "metadata": {
        "id": "aCkngJDHIV46"
      },
      "source": [
        "Great, that worked. Now I will assign everything but \"prec\" to be the predictor array \"x\", and prec will be the predictand vector \"y\"."
      ]
    },
    {
      "cell_type": "code",
      "execution_count": 9,
      "metadata": {
        "id": "QwfQueR_IV46",
        "colab": {
          "base_uri": "https://localhost:8080/",
          "height": 423
        },
        "outputId": "9d651227-1d3f-4a15-a875-8af93105b21b"
      },
      "outputs": [
        {
          "output_type": "execute_result",
          "data": {
            "text/plain": [
              "      temp_F    RH  dewtemp_F  wind_mph  wind_dir  windgust  windgust_dir  \\\n",
              "0        7.0  72.2       -0.1       1.2       234       3.9           224   \n",
              "1        5.4  74.3       -1.0       3.4       299       7.1           302   \n",
              "2        6.4  73.8       -0.2       2.8       200       7.0           301   \n",
              "3        3.0  73.5       -3.6       2.9       309       6.1           349   \n",
              "4        3.7  76.9       -1.9       3.1       346       5.3           255   \n",
              "...      ...   ...        ...       ...       ...       ...           ...   \n",
              "8779    22.3  74.3       15.4       0.9       221       3.3           202   \n",
              "8780    20.3  80.4       15.3       0.6       279       2.9           279   \n",
              "8781    19.9  81.1       15.1       0.5       197       2.5           279   \n",
              "8782    17.8  82.8       13.5       2.0       353       4.8           352   \n",
              "8783    16.3  84.1       12.4       1.0       191       4.9           353   \n",
              "\n",
              "      pres_Hg  SOLIN_Wm2  \n",
              "0      851.30        0.0  \n",
              "1      850.82        0.0  \n",
              "2      849.83        0.0  \n",
              "3      850.69        0.0  \n",
              "4      848.24        0.0  \n",
              "...       ...        ...  \n",
              "8779   833.32        0.0  \n",
              "8780   833.45        0.1  \n",
              "8781   833.01        0.1  \n",
              "8782   832.78        0.1  \n",
              "8783   832.62        0.0  \n",
              "\n",
              "[8784 rows x 9 columns]"
            ],
            "text/html": [
              "\n",
              "  <div id=\"df-31caff1b-b5f2-4f0e-99da-e251cad59925\">\n",
              "    <div class=\"colab-df-container\">\n",
              "      <div>\n",
              "<style scoped>\n",
              "    .dataframe tbody tr th:only-of-type {\n",
              "        vertical-align: middle;\n",
              "    }\n",
              "\n",
              "    .dataframe tbody tr th {\n",
              "        vertical-align: top;\n",
              "    }\n",
              "\n",
              "    .dataframe thead th {\n",
              "        text-align: right;\n",
              "    }\n",
              "</style>\n",
              "<table border=\"1\" class=\"dataframe\">\n",
              "  <thead>\n",
              "    <tr style=\"text-align: right;\">\n",
              "      <th></th>\n",
              "      <th>temp_F</th>\n",
              "      <th>RH</th>\n",
              "      <th>dewtemp_F</th>\n",
              "      <th>wind_mph</th>\n",
              "      <th>wind_dir</th>\n",
              "      <th>windgust</th>\n",
              "      <th>windgust_dir</th>\n",
              "      <th>pres_Hg</th>\n",
              "      <th>SOLIN_Wm2</th>\n",
              "    </tr>\n",
              "  </thead>\n",
              "  <tbody>\n",
              "    <tr>\n",
              "      <th>0</th>\n",
              "      <td>7.0</td>\n",
              "      <td>72.2</td>\n",
              "      <td>-0.1</td>\n",
              "      <td>1.2</td>\n",
              "      <td>234</td>\n",
              "      <td>3.9</td>\n",
              "      <td>224</td>\n",
              "      <td>851.30</td>\n",
              "      <td>0.0</td>\n",
              "    </tr>\n",
              "    <tr>\n",
              "      <th>1</th>\n",
              "      <td>5.4</td>\n",
              "      <td>74.3</td>\n",
              "      <td>-1.0</td>\n",
              "      <td>3.4</td>\n",
              "      <td>299</td>\n",
              "      <td>7.1</td>\n",
              "      <td>302</td>\n",
              "      <td>850.82</td>\n",
              "      <td>0.0</td>\n",
              "    </tr>\n",
              "    <tr>\n",
              "      <th>2</th>\n",
              "      <td>6.4</td>\n",
              "      <td>73.8</td>\n",
              "      <td>-0.2</td>\n",
              "      <td>2.8</td>\n",
              "      <td>200</td>\n",
              "      <td>7.0</td>\n",
              "      <td>301</td>\n",
              "      <td>849.83</td>\n",
              "      <td>0.0</td>\n",
              "    </tr>\n",
              "    <tr>\n",
              "      <th>3</th>\n",
              "      <td>3.0</td>\n",
              "      <td>73.5</td>\n",
              "      <td>-3.6</td>\n",
              "      <td>2.9</td>\n",
              "      <td>309</td>\n",
              "      <td>6.1</td>\n",
              "      <td>349</td>\n",
              "      <td>850.69</td>\n",
              "      <td>0.0</td>\n",
              "    </tr>\n",
              "    <tr>\n",
              "      <th>4</th>\n",
              "      <td>3.7</td>\n",
              "      <td>76.9</td>\n",
              "      <td>-1.9</td>\n",
              "      <td>3.1</td>\n",
              "      <td>346</td>\n",
              "      <td>5.3</td>\n",
              "      <td>255</td>\n",
              "      <td>848.24</td>\n",
              "      <td>0.0</td>\n",
              "    </tr>\n",
              "    <tr>\n",
              "      <th>...</th>\n",
              "      <td>...</td>\n",
              "      <td>...</td>\n",
              "      <td>...</td>\n",
              "      <td>...</td>\n",
              "      <td>...</td>\n",
              "      <td>...</td>\n",
              "      <td>...</td>\n",
              "      <td>...</td>\n",
              "      <td>...</td>\n",
              "    </tr>\n",
              "    <tr>\n",
              "      <th>8779</th>\n",
              "      <td>22.3</td>\n",
              "      <td>74.3</td>\n",
              "      <td>15.4</td>\n",
              "      <td>0.9</td>\n",
              "      <td>221</td>\n",
              "      <td>3.3</td>\n",
              "      <td>202</td>\n",
              "      <td>833.32</td>\n",
              "      <td>0.0</td>\n",
              "    </tr>\n",
              "    <tr>\n",
              "      <th>8780</th>\n",
              "      <td>20.3</td>\n",
              "      <td>80.4</td>\n",
              "      <td>15.3</td>\n",
              "      <td>0.6</td>\n",
              "      <td>279</td>\n",
              "      <td>2.9</td>\n",
              "      <td>279</td>\n",
              "      <td>833.45</td>\n",
              "      <td>0.1</td>\n",
              "    </tr>\n",
              "    <tr>\n",
              "      <th>8781</th>\n",
              "      <td>19.9</td>\n",
              "      <td>81.1</td>\n",
              "      <td>15.1</td>\n",
              "      <td>0.5</td>\n",
              "      <td>197</td>\n",
              "      <td>2.5</td>\n",
              "      <td>279</td>\n",
              "      <td>833.01</td>\n",
              "      <td>0.1</td>\n",
              "    </tr>\n",
              "    <tr>\n",
              "      <th>8782</th>\n",
              "      <td>17.8</td>\n",
              "      <td>82.8</td>\n",
              "      <td>13.5</td>\n",
              "      <td>2.0</td>\n",
              "      <td>353</td>\n",
              "      <td>4.8</td>\n",
              "      <td>352</td>\n",
              "      <td>832.78</td>\n",
              "      <td>0.1</td>\n",
              "    </tr>\n",
              "    <tr>\n",
              "      <th>8783</th>\n",
              "      <td>16.3</td>\n",
              "      <td>84.1</td>\n",
              "      <td>12.4</td>\n",
              "      <td>1.0</td>\n",
              "      <td>191</td>\n",
              "      <td>4.9</td>\n",
              "      <td>353</td>\n",
              "      <td>832.62</td>\n",
              "      <td>0.0</td>\n",
              "    </tr>\n",
              "  </tbody>\n",
              "</table>\n",
              "<p>8784 rows × 9 columns</p>\n",
              "</div>\n",
              "      <button class=\"colab-df-convert\" onclick=\"convertToInteractive('df-31caff1b-b5f2-4f0e-99da-e251cad59925')\"\n",
              "              title=\"Convert this dataframe to an interactive table.\"\n",
              "              style=\"display:none;\">\n",
              "        \n",
              "  <svg xmlns=\"http://www.w3.org/2000/svg\" height=\"24px\"viewBox=\"0 0 24 24\"\n",
              "       width=\"24px\">\n",
              "    <path d=\"M0 0h24v24H0V0z\" fill=\"none\"/>\n",
              "    <path d=\"M18.56 5.44l.94 2.06.94-2.06 2.06-.94-2.06-.94-.94-2.06-.94 2.06-2.06.94zm-11 1L8.5 8.5l.94-2.06 2.06-.94-2.06-.94L8.5 2.5l-.94 2.06-2.06.94zm10 10l.94 2.06.94-2.06 2.06-.94-2.06-.94-.94-2.06-.94 2.06-2.06.94z\"/><path d=\"M17.41 7.96l-1.37-1.37c-.4-.4-.92-.59-1.43-.59-.52 0-1.04.2-1.43.59L10.3 9.45l-7.72 7.72c-.78.78-.78 2.05 0 2.83L4 21.41c.39.39.9.59 1.41.59.51 0 1.02-.2 1.41-.59l7.78-7.78 2.81-2.81c.8-.78.8-2.07 0-2.86zM5.41 20L4 18.59l7.72-7.72 1.47 1.35L5.41 20z\"/>\n",
              "  </svg>\n",
              "      </button>\n",
              "      \n",
              "  <style>\n",
              "    .colab-df-container {\n",
              "      display:flex;\n",
              "      flex-wrap:wrap;\n",
              "      gap: 12px;\n",
              "    }\n",
              "\n",
              "    .colab-df-convert {\n",
              "      background-color: #E8F0FE;\n",
              "      border: none;\n",
              "      border-radius: 50%;\n",
              "      cursor: pointer;\n",
              "      display: none;\n",
              "      fill: #1967D2;\n",
              "      height: 32px;\n",
              "      padding: 0 0 0 0;\n",
              "      width: 32px;\n",
              "    }\n",
              "\n",
              "    .colab-df-convert:hover {\n",
              "      background-color: #E2EBFA;\n",
              "      box-shadow: 0px 1px 2px rgba(60, 64, 67, 0.3), 0px 1px 3px 1px rgba(60, 64, 67, 0.15);\n",
              "      fill: #174EA6;\n",
              "    }\n",
              "\n",
              "    [theme=dark] .colab-df-convert {\n",
              "      background-color: #3B4455;\n",
              "      fill: #D2E3FC;\n",
              "    }\n",
              "\n",
              "    [theme=dark] .colab-df-convert:hover {\n",
              "      background-color: #434B5C;\n",
              "      box-shadow: 0px 1px 3px 1px rgba(0, 0, 0, 0.15);\n",
              "      filter: drop-shadow(0px 1px 2px rgba(0, 0, 0, 0.3));\n",
              "      fill: #FFFFFF;\n",
              "    }\n",
              "  </style>\n",
              "\n",
              "      <script>\n",
              "        const buttonEl =\n",
              "          document.querySelector('#df-31caff1b-b5f2-4f0e-99da-e251cad59925 button.colab-df-convert');\n",
              "        buttonEl.style.display =\n",
              "          google.colab.kernel.accessAllowed ? 'block' : 'none';\n",
              "\n",
              "        async function convertToInteractive(key) {\n",
              "          const element = document.querySelector('#df-31caff1b-b5f2-4f0e-99da-e251cad59925');\n",
              "          const dataTable =\n",
              "            await google.colab.kernel.invokeFunction('convertToInteractive',\n",
              "                                                     [key], {});\n",
              "          if (!dataTable) return;\n",
              "\n",
              "          const docLinkHtml = 'Like what you see? Visit the ' +\n",
              "            '<a target=\"_blank\" href=https://colab.research.google.com/notebooks/data_table.ipynb>data table notebook</a>'\n",
              "            + ' to learn more about interactive tables.';\n",
              "          element.innerHTML = '';\n",
              "          dataTable['output_type'] = 'display_data';\n",
              "          await google.colab.output.renderOutput(dataTable, element);\n",
              "          const docLink = document.createElement('div');\n",
              "          docLink.innerHTML = docLinkHtml;\n",
              "          element.appendChild(docLink);\n",
              "        }\n",
              "      </script>\n",
              "    </div>\n",
              "  </div>\n",
              "  "
            ]
          },
          "metadata": {},
          "execution_count": 9
        }
      ],
      "source": [
        "x = predictors.drop('prec_occur',axis=1)\n",
        "y = predictors.prec_occur\n",
        "x"
      ]
    },
    {
      "cell_type": "code",
      "source": [
        "y # should be a pandas series (type: pd.Series) - this or numpy.1DArray is usually the type required for scikit-learn.\n",
        "  # be careful if you use a pd.Series because the index becomes important! Indexing can be useful but has also caused me many headaches."
      ],
      "metadata": {
        "id": "lCuzPWb2NqCR",
        "colab": {
          "base_uri": "https://localhost:8080/"
        },
        "outputId": "7919a3d8-3581-4468-f45f-9407369671a7"
      },
      "execution_count": 10,
      "outputs": [
        {
          "output_type": "execute_result",
          "data": {
            "text/plain": [
              "0       0\n",
              "1       0\n",
              "2       0\n",
              "3       0\n",
              "4       0\n",
              "       ..\n",
              "8779    0\n",
              "8780    0\n",
              "8781    0\n",
              "8782    0\n",
              "8783    0\n",
              "Name: prec_occur, Length: 8784, dtype: int64"
            ]
          },
          "metadata": {},
          "execution_count": 10
        }
      ]
    },
    {
      "cell_type": "markdown",
      "metadata": {
        "id": "8Mml7XyMIV47"
      },
      "source": [
        "### Q2 & Q3 do not need to be addressed in our dataset."
      ]
    },
    {
      "cell_type": "markdown",
      "metadata": {
        "id": "HaA1qjHLIV47"
      },
      "source": [
        "### Q4. How will you validate your model?"
      ]
    },
    {
      "cell_type": "markdown",
      "metadata": {
        "id": "X1iW4B3wIV47"
      },
      "source": [
        "Next, perform a test-train split to ensure we can validate our trained model. <br>\n",
        "\n",
        "This step must be performed before each time the model is trained to ensure we are not baking in any bias among the models we train. That also means the following two steps must also be performed prior to training each model as well. For this reason, I wrote functions to call easily before each model training."
      ]
    },
    {
      "cell_type": "markdown",
      "source": [
        "*__Note__: Because we randomize our selection of data that we use to train the models, you may find slightly different model metrics, and thus, different answers than your neighbor. To circumference this and compare notes, input an integer for the variable* `random_state` *. Right now, it randomly selects one between 0 and 1000, but it can be any integer.*"
      ],
      "metadata": {
        "id": "YJS06XrpH3Gt"
      }
    },
    {
      "cell_type": "code",
      "execution_count": 11,
      "metadata": {
        "id": "_5-I4BfHIV47"
      },
      "outputs": [],
      "source": [
        "from sklearn.model_selection import train_test_split\n",
        "from random import randint"
      ]
    },
    {
      "cell_type": "code",
      "execution_count": 12,
      "metadata": {
        "id": "ew_mEfURIV47"
      },
      "outputs": [],
      "source": [
        "def define_holdout_data(\n",
        "    x: pd.DataFrame,\n",
        "    y: pd.Series,\n",
        "    verbose: bool, \n",
        "    random_state: int=\"\") -> tuple:\n",
        "    \"\"\"Perform a 80/20 test-train split (80% of data is training, 20% is \n",
        "    testing). Split is randomized with each call.\n",
        "    \n",
        "    :param x: a pandas dataframe containing all observations of the predictors\n",
        "    of the dataset.\n",
        "    :param y: a pandas series containing all observations of the predictands\n",
        "    in the dataset.\n",
        "    :param verbose: a boolean that is True if the user would like to print the\n",
        "    variable shapes of the resulting datasets after splitting.\n",
        "    :param random_state: (optional) an integer indicating the `random_state`\n",
        "    of the splitting of the dataset. If not provided, some integer between 0\n",
        "    and 1000 will randomly be chosen. User should provide if replicability\n",
        "    is desired.\n",
        "\n",
        "    :return: a tuple containing x & y, but split into training and testing\n",
        "    data, respectively. (x_train, x_test, y_train, y_test)\n",
        "    \n",
        "    \"\"\"\n",
        "    if not random_state:\n",
        "      random_state = randint(0,1000)\n",
        "    x_train, x_test, y_train, y_test = train_test_split(x, y, test_size=0.20,\n",
        "                                                        random_state=random_state)\n",
        "    if verbose==True:\n",
        "        print(\"Prior to scaling and rebalacing...\")\n",
        "        print(\"Shape of training predictors: \"+str(np.shape(x_train)))\n",
        "        print(\"Shape of testing predictors: \"+str(np.shape(x_test)))\n",
        "        print(\"Shape of training predictands: \"+str(np.shape(y_train)))\n",
        "        print(\"Shape of testing predictands: \"+str(np.shape(y_test)))\n",
        "        print(\" \")\n",
        "    return x_train, x_test, y_train, y_test"
      ]
    },
    {
      "cell_type": "markdown",
      "metadata": {
        "id": "9SKDoFr8IV47"
      },
      "source": [
        "### Q5. Do your features have the same variance?"
      ]
    },
    {
      "cell_type": "markdown",
      "metadata": {
        "id": "ZF143eDAIV48"
      },
      "source": [
        "Now we must normalize the features, or perform \"__Feature Scaling__\", for the same reasons why we normalized prior to running the K-Means clustering algorithm. \n",
        "  \n",
        "The difference here is that I will keep the data as a pandas dataframe rather than converting it to a numpy array beforehand. The \"fit_transform\" function outputs a numpy array, but we will convert back to a dataframe so that re-balancing the dataset is easier. \n",
        "  \n",
        "*__Note__*: If my predictand wasn't binary, then I would also want to normalize that as well."
      ]
    },
    {
      "cell_type": "code",
      "execution_count": 13,
      "metadata": {
        "id": "dr8d0j1pIV48"
      },
      "outputs": [],
      "source": [
        "from sklearn import preprocessing"
      ]
    },
    {
      "cell_type": "code",
      "execution_count": 14,
      "metadata": {
        "id": "2M6shVpbIV48"
      },
      "outputs": [],
      "source": [
        "def scale_data(x_train: pd.DataFrame, x_test: pd.DataFrame) -> tuple:\n",
        "    \"\"\"\n",
        "    Scale training data so that model reaches optimized weights much faster. \n",
        "    Scaling could mean standardizing (so that the standard deviation is 1) or \n",
        "    normalizing (the max and min are 1 and -1). Here we normalize.\n",
        "    \n",
        "    *All data that enters the model should use the same scaling used to scale \n",
        "    the training data.*\n",
        "    Thus, we also perform scaling on testing data for validation later. \n",
        "    Additionally, we return the scalar used to scale any other future input \n",
        "    data.\n",
        "\n",
        "    :param x_train: a pandas dataframe containing observations in the training\n",
        "    dataset. Should have the same columns as `x_test`\n",
        "    :param x_test: a pandas dataframe containing observations in the testing\n",
        "    dataset. Should have the same columns as `x_train`\n",
        "    :return: a tuple containing a MinMaxScaler object that will scale future \n",
        "    datasets in the same way, the scaled predictors from the training and \n",
        "    testing datasets (scaler, x_train_scaled, x_test_scaled).\n",
        "    \"\"\"\n",
        "    \n",
        "    scaler = preprocessing.MinMaxScaler() # normalize \n",
        "    x_train_scaled = pd.DataFrame(data=scaler.fit_transform(x_train),index=x_train.index,columns=x_train.columns) \n",
        "    x_test_scaled = pd.DataFrame(data=scaler.transform(x_test),index=x_test.index,columns=x_test.columns)\n",
        "    \n",
        "    return scaler, x_train_scaled, x_test_scaled"
      ]
    },
    {
      "cell_type": "markdown",
      "metadata": {
        "id": "8HKlvh1LIV48"
      },
      "source": [
        "### Q6. Are there the same number of observations for each outcome or class?"
      ]
    },
    {
      "cell_type": "markdown",
      "metadata": {
        "id": "42dQJiGmIV48"
      },
      "source": [
        "Luckily, we have the same number of observations for each feature (8784). But do we have the same number of outcomes for our predictand - i.e., the same number of hours that are precipitating as those that are non-precipitating?"
      ]
    },
    {
      "cell_type": "code",
      "execution_count": 15,
      "metadata": {
        "id": "knGfVRuOIV48",
        "colab": {
          "base_uri": "https://localhost:8080/"
        },
        "outputId": "3ed47553-ee0c-4e6d-a196-cf547c3a44a2"
      },
      "outputs": [
        {
          "output_type": "execute_result",
          "data": {
            "text/plain": [
              "0    8501\n",
              "1     283\n",
              "Name: prec_occur, dtype: int64"
            ]
          },
          "metadata": {},
          "execution_count": 15
        }
      ],
      "source": [
        "df['prec_occur'].value_counts()"
      ]
    },
    {
      "cell_type": "markdown",
      "metadata": {
        "id": "wUhQm_TpIV48"
      },
      "source": [
        "Definitely not. The outcomes we are trying to predict are extremely unbalanced. Non-precip hours occur 30x more than precip hours. This class imbalance may bias the model because precip hours are underrepresented, which means the model won't have as many instances of precip hours to learn to distinguish precip hours from non-precip hours. "
      ]
    },
    {
      "cell_type": "markdown",
      "metadata": {
        "id": "PXrYnLPlIV49"
      },
      "source": [
        "There are a number of out-of-the-box functions that resample data very precisely. The one I use below simply randomly copies the existing precipitating observation data to balance the dataset. <br><br>\n",
        "There are a couple of risks associated with overfitting. For example, if your sample isn't a good representation of the larger distribution, you could be falsely representing relationships between samples. Additionally, if your minority case (i.e., precip days) are very rare, oversampling may increase the likelihood of occurring overfitting, since it makes copies of the minority class examples. Please see the [Wikipedia page](https://en.wikipedia.org/wiki/Oversampling_and_undersampling_in_data_analysis) for some more guidance in your future Google search on resampling data."
      ]
    },
    {
      "cell_type": "markdown",
      "metadata": {
        "id": "MmgSSdNDIV49"
      },
      "source": [
        "*Note*: This function should be called on both training and testing data separately."
      ]
    },
    {
      "cell_type": "code",
      "execution_count": 16,
      "metadata": {
        "id": "aoUEtoldIV49"
      },
      "outputs": [],
      "source": [
        "from sklearn.utils import resample"
      ]
    },
    {
      "cell_type": "code",
      "execution_count": 17,
      "metadata": {
        "id": "d8z0RTo3IV49"
      },
      "outputs": [],
      "source": [
        "def balance_data(\n",
        "    x: pd.DataFrame,\n",
        "    y: pd.Series,\n",
        "    verbose: bool,\n",
        "    random_state:int = \"\") -> tuple:\n",
        "    \"\"\"\n",
        "    Resample data ensure model is not biased towards a particular outcome of \n",
        "    precip or no precip.\n",
        "    \n",
        "    :param x: a pandas dataframe with rows of observations and columns \n",
        "    corresponding to predictors of rainfall.\n",
        "    :param y: a pandas series indicating whether rainfall is happening.\n",
        "    :param verbose: a boolean indicating whether printing resulting balanced\n",
        "    dataset shapes is desired.\n",
        "    :param random_state: (optional) an integer indicating the `random_state`\n",
        "    of the splitting of the dataset. If not provided, some integer between 0\n",
        "    and 1000 will randomly be chosen. User should provide if replicability\n",
        "    is desired.\n",
        "\n",
        "    :return: a tuple containing predictors and predictands with balanced \n",
        "    majority & minority classes.\n",
        "    \"\"\"\n",
        "    # Combine again to one dataframe to ensure both the predictor and predictand are resampled from the same \n",
        "    # observations based on predictand outcomes. \n",
        "    dataset = pd.concat([x, y],axis=1)\n",
        "\n",
        "    # Separating classes\n",
        "    raining = dataset[dataset['prec_occur'] == 1]\n",
        "    not_raining = dataset[dataset['prec_occur'] == 0]\n",
        "\n",
        "    if not random_state:\n",
        "      random_state = randint(0,1000)\n",
        "    oversample = resample(raining, \n",
        "                           replace=True, \n",
        "                           n_samples=len(not_raining), #set the number of samples to equal the number of the majority class\n",
        "                           random_state=random_state)\n",
        "\n",
        "    # Returning to new training set\n",
        "    oversample_dataset = pd.concat([not_raining, oversample])\n",
        "\n",
        "    # reseparate oversampled data into X and y sets\n",
        "    x_bal = oversample_dataset.drop(['prec_occur'], axis=1)\n",
        "    y_bal = oversample_dataset['prec_occur']\n",
        "\n",
        "    if verbose==True:\n",
        "        print(\"After scaling and rebalacing...\")\n",
        "        print(\"Shape of predictors: \"+str(np.shape(x_bal)))\n",
        "        print(\"Shape of predictands: \"+str(np.shape(y_bal)))\n",
        "        print(\" \")\n",
        "    \n",
        "    return x_bal, y_bal"
      ]
    },
    {
      "cell_type": "markdown",
      "metadata": {
        "id": "tC49gaz_IV49"
      },
      "source": [
        "#### Now, let's put the data prep code from questions 1-6 into a pipeline"
      ]
    },
    {
      "cell_type": "code",
      "execution_count": 18,
      "metadata": {
        "id": "gmEsLaXTIV49"
      },
      "outputs": [],
      "source": [
        "def dataprep_pipeline(\n",
        "    x: pd.DataFrame,\n",
        "    y: pd.Series,\n",
        "    verbose: bool,\n",
        "    random_state: int=\"\") -> tuple:\n",
        "    \"\"\"\n",
        "    Combines all the functions defined above so that the user only has to \n",
        "    call one function to do all data pre-processing.\n",
        "    \n",
        "    :param x: a pandas dataframe with rows of observations and columns \n",
        "    corresponding to predictors of rainfall.\n",
        "    :param y: a pandas series indicating whether rainfall is happening.\n",
        "    :param verbose: a boolean indicating whether printing algorithm status \n",
        "    updates are desired.\n",
        "\n",
        "    :return: a tuple containing training & testing x & y dataframes & series,\n",
        "    respectively - but minority and majority classes now balanced.\n",
        "\n",
        "    \"\"\"\n",
        "    # if no random_state is provided, choose one:\n",
        "    if not random_state:\n",
        "      random_state = randint(0,1000)\n",
        "\n",
        "    # split into training & testing data\n",
        "    if verbose==True:\n",
        "        print(\"Defining holdout data... \")\n",
        "    x_train, x_test, y_train, y_test = define_holdout_data(x, y, verbose,\n",
        "                                                           random_state) \n",
        "\n",
        "    # perform feature scaling\n",
        "    if verbose==True:\n",
        "        print(\"Performing feature scaling... \")\n",
        "    scaler, x_train_scaled, x_test_scaled = scale_data(x_train, x_test)\n",
        "\n",
        "    # rebalance according to outcomes (i.e., the number of precipitating \n",
        "    # observations & non-precipitating outcomes should be equal)\n",
        "    if verbose==True:\n",
        "        print(\"for training data... \")\n",
        "    x_train_bal, y_train_bal = balance_data(x_train_scaled, y_train, verbose, random_state)\n",
        "    if verbose==True:\n",
        "        print(\"for testing data... \")\n",
        "    x_test_bal, y_test_bal = balance_data(x_test_scaled, y_test, verbose, random_state)\n",
        "\n",
        "    if len(y_train_bal)<len(y):\n",
        "      raise Exception(\"Something's not right. Oversampling somehow resulted in a smaller dataset.\")\n",
        "    \n",
        "    return x_train_bal, y_train_bal, x_test_bal, y_test_bal"
      ]
    },
    {
      "cell_type": "code",
      "execution_count": 19,
      "metadata": {
        "id": "WkH6hq78WyQK",
        "colab": {
          "base_uri": "https://localhost:8080/"
        },
        "outputId": "027c3cce-ace5-40e2-af62-7569d0fd349b"
      },
      "outputs": [
        {
          "output_type": "stream",
          "name": "stdout",
          "text": [
            "Defining holdout data... \n",
            "Prior to scaling and rebalacing...\n",
            "Shape of training predictors: (7027, 9)\n",
            "Shape of testing predictors: (1757, 9)\n",
            "Shape of training predictands: (7027,)\n",
            "Shape of testing predictands: (1757,)\n",
            " \n",
            "Performing feature scaling... \n",
            "for training data... \n",
            "After scaling and rebalacing...\n",
            "Shape of predictors: (13610, 9)\n",
            "Shape of predictands: (13610,)\n",
            " \n",
            "for testing data... \n",
            "After scaling and rebalacing...\n",
            "Shape of predictors: (3392, 9)\n",
            "Shape of predictands: (3392,)\n",
            " \n"
          ]
        }
      ],
      "source": [
        "x_train_bal, y_train_bal, x_test_bal, y_test_bal = dataprep_pipeline(x, y, verbose=True, random_state=80305)"
      ]
    },
    {
      "cell_type": "code",
      "execution_count": 20,
      "metadata": {
        "id": "FbtTw03XW0CQ",
        "colab": {
          "base_uri": "https://localhost:8080/"
        },
        "outputId": "35cfd2f4-6ca6-4dc6-825c-992a269b41b5"
      },
      "outputs": [
        {
          "output_type": "stream",
          "name": "stdout",
          "text": [
            "Defining holdout data... \n",
            "Prior to scaling and rebalacing...\n",
            "Shape of training predictors: (7027, 9)\n",
            "Shape of testing predictors: (1757, 9)\n",
            "Shape of training predictands: (7027,)\n",
            "Shape of testing predictands: (1757,)\n",
            " \n",
            "Performing feature scaling... \n",
            "for training data... \n",
            "After scaling and rebalacing...\n",
            "Shape of predictors: (13610, 9)\n",
            "Shape of predictands: (13610,)\n",
            " \n",
            "for testing data... \n",
            "After scaling and rebalacing...\n",
            "Shape of predictors: (3392, 9)\n",
            "Shape of predictands: (3392,)\n",
            " \n"
          ]
        }
      ],
      "source": [
        "x_train_bal2, y_train_bal2, x_test_bal2, y_test_bal2 = dataprep_pipeline(x, y, verbose=True, random_state=80305)"
      ]
    },
    {
      "cell_type": "markdown",
      "metadata": {
        "id": "RsW0VLltIV49"
      },
      "source": [
        "### Q7. What are the appropriate metrics for assessing your model?"
      ]
    },
    {
      "cell_type": "markdown",
      "metadata": {
        "id": "2K0WmhLzIV49"
      },
      "source": [
        "These metrics will be used to evaluate the model after training. Thus, these functions will also be called for each model."
      ]
    },
    {
      "cell_type": "code",
      "execution_count": 21,
      "metadata": {
        "id": "9NbyJvSEIV4-"
      },
      "outputs": [],
      "source": [
        "from sklearn import metrics\n",
        "from sklearn.metrics import accuracy_score, f1_score, precision_score, recall_score, roc_auc_score, confusion_matrix\n",
        "import matplotlib.pyplot as plt\n",
        "import seaborn as sns"
      ]
    },
    {
      "cell_type": "markdown",
      "metadata": {
        "id": "DkK9ZhjpIV4-"
      },
      "source": [
        "#### First, define functions for evaluating models"
      ]
    },
    {
      "cell_type": "markdown",
      "metadata": {
        "id": "75F6-jmlIV4-"
      },
      "source": [
        "I'm simply going to train various models and then look at their model metrics. Then we can make a prediction based on some selected observation to obtain a likelihood that it's raining, and we can compare with our own eyes whether the model gets it right."
      ]
    },
    {
      "cell_type": "markdown",
      "metadata": {
        "id": "KT-SM4GxIV4-"
      },
      "source": [
        "Below are some commonly-used metrics for assessing the value of a given Machine Learning model."
      ]
    },
    {
      "cell_type": "markdown",
      "metadata": {
        "id": "QB7XFBKoIV4-"
      },
      "source": [
        "\"**True Positive (TP)**\" Is the number of times the model predicts a positive when the observation is actually positive. In our case, the model predicts that its raining when it is actually raining.<br>\n",
        "\"**False Positive (FP)**\" The number of times the model guesses that it's raining when it's not actually raining.<br>\n",
        "The same applies to **True Negatives (TN)** (correctly predicting that it's not raining) and **False Negatives (FN)** (predicting no rain when it's actually raining).\n",
        "\n",
        "\n",
        " - **Precision = TP/(TP + FP)**: The proportion of predicted precipitating events that are actually precipitating.\n",
        " - **Accuracy = (TP + TN)/(total)**: The proportion of precipitating hours or non-precipitating hours that are correctly predicted by the model.\n",
        " - **Recall = TP/(TP + FN)**: The proportion of precipitating hours that are correctly predicted by the model.<br>\n",
        "<br>\n",
        "Other important metrics that we aren't going to look at today:\n",
        " - **F1**: a way to capture how well the model predicts the hours that it's actually precipitating.\n",
        " - **ROC/AUC**: how well the model separates precipitating hours from non-precipitating hours."
      ]
    },
    {
      "cell_type": "markdown",
      "metadata": {
        "id": "XvvpAciWIV4-"
      },
      "source": [
        "Below, I define a couple of functions that will help us visualize the metrics listed above."
      ]
    },
    {
      "cell_type": "code",
      "execution_count": 22,
      "metadata": {
        "id": "BPaTeTm4IV4-"
      },
      "outputs": [],
      "source": [
        "# Print rounded metrics for each model.\n",
        "def bin_metrics(y_hat: pd.Series, y: pd.Series) -> tuple:\n",
        "    \"\"\"Prints accuracy and recall metrics for evaluating classification \n",
        "    predictions.\n",
        "    \n",
        "    :param y_hat: a pandas series that contains some boolean indication of \n",
        "    whether it's raining or not predicted by the trained model. \n",
        "    :param y: a pandas series that contains some boolean indication of \n",
        "    whether it's raining or not from observations\n",
        "\n",
        "    :return: a tuple containing values for the accuracy & recall, respectively.\n",
        "    \"\"\"\n",
        "    \n",
        "    accuracy = metrics.accuracy_score(y_hat, y)\n",
        "    recall = metrics.recall_score(y_hat, y)\n",
        "\n",
        "    print('Accuracy:', round(accuracy, 4))\n",
        "    print('Recall:', round(recall, 4))\n",
        "    \n",
        "    return accuracy, recall\n",
        "\n",
        "\n",
        "# Pplot confusion matrix\n",
        "def plot_cm(y_hat: pd.Series, y: pd.Series) -> None:\n",
        "    \"\"\"Plots the confusion matrix to visualize true \n",
        "    & false positives & negatives\n",
        "\n",
        "    :param y_hat: a pandas series that contains some boolean indication of \n",
        "    whether it's raining or not predicted by the trained model. \n",
        "    :param y: a pandas series that contains some boolean indication of \n",
        "    whether it's raining or not from observations\n",
        "\n",
        "    :return: None    \n",
        "    \"\"\"\n",
        "    cm = confusion_matrix(y_hat, y)\n",
        "    df_cm = pd.DataFrame(cm, columns=np.unique(y_hat), index = np.unique(y_hat))\n",
        "    df_cm.index.name = 'Actual'\n",
        "    df_cm.columns.name = 'Predicted'\n",
        "    sns.heatmap(df_cm, cmap=\"Blues\", annot=True,annot_kws={\"size\": 25}, fmt='g')# font size\n",
        "    plt.ylim([0, 2])\n",
        "    plt.xticks([0.5, 1.5], ['Negatives','Positives'])\n",
        "    plt.yticks([0.5, 1.5], ['Negatives','Positives'])\n",
        "\n",
        "    return"
      ]
    },
    {
      "cell_type": "markdown",
      "metadata": {
        "id": "31uH2ic4IV4-"
      },
      "source": [
        "Based on our answer to number 7 under the \"1. Data Preparation\" section above, I will be using **Accuracy** and **Recall** to compare these four different models."
      ]
    },
    {
      "cell_type": "markdown",
      "metadata": {
        "id": "RStOBm2OIV4_"
      },
      "source": [
        "#### Another way we can evaluate the models is to compare precipitation likelihood given the same set of atmospheric conditions."
      ]
    },
    {
      "cell_type": "markdown",
      "metadata": {
        "id": "Ae7XptvuIV4_"
      },
      "source": [
        "First, let's choose some observation in the pre-scaled dataset shows that it's raining, and then find the corresponding scaled observation:"
      ]
    },
    {
      "cell_type": "code",
      "execution_count": 23,
      "metadata": {
        "id": "wrUkEgo3IV4_"
      },
      "outputs": [],
      "source": [
        "def rand_atmos_conditions_precip(\n",
        "    random_state: int=randint(0,1000),\n",
        "    index: str='rand') -> tuple:\n",
        "    \"\"\"\n",
        "    Function returns atmospheric conditions in a dataframe as well as the scaled\n",
        "    conditions in a numpy array so that they output a prediction in the model.\n",
        "    \n",
        "    If no input is passed, the function will randomly generate an in index to \n",
        "    choose from those observations in some training data with precipitation. \n",
        "    Otherwise, an integer index between 0 and 200 should be passed.\n",
        "\n",
        "    :param random_state:\n",
        "    :param index:\n",
        "    \"\"\"\n",
        "    # First, perform a test-train split\n",
        "    x_train, x_test, y_train, _ = define_holdout_data(x, y, verbose=False) \n",
        "\n",
        "    # perform feature scaling - this happens *AFTER* the test-train split\n",
        "    _, x_train_scaled, _ = scale_data(x_train, x_test)\n",
        "\n",
        "    # this is what will go into the model to output a prediction\n",
        "    if index=='rand':\n",
        "        index = randint(0,len(y_train[y_train==1].index)) \n",
        "    precipindex = y_train[y_train==1].index.values[index]\n",
        "    testpredictor = x_train_scaled.loc[precipindex] \n",
        "    \n",
        "    return df.iloc[precipindex], testpredictor    "
      ]
    },
    {
      "cell_type": "markdown",
      "metadata": {
        "id": "t8MbicKjIV4_"
      },
      "source": [
        "I will choose some atmospheric conditions after training the first model, and then use those conditions for the other models."
      ]
    },
    {
      "cell_type": "markdown",
      "metadata": {
        "id": "HrR8mY6ZIV4_"
      },
      "source": [
        "---------------------------------------------"
      ]
    },
    {
      "cell_type": "markdown",
      "metadata": {
        "id": "FL68d-Q0IV4_"
      },
      "source": [
        "# 2.1.B Train & compare four ML models"
      ]
    },
    {
      "cell_type": "markdown",
      "metadata": {
        "id": "Zkd-8UTCIV4_"
      },
      "source": [
        "Each section below goes through building and training a ML model. In each section, there are a few steps for each model \"pipeline\":\n",
        "1. __Randomly perform a test-train split, feature scaling, and resample data to ensure outcomes are balanced__. \n",
        "2. __Train your model__.\n",
        "3. __Assess model metrics with testing and training data__. We begin by first assessing each model's performance by calculating the metrics defined above on the *testing* or *holdout* data; the key here is that the model has never seen this data. <br>__If applicable, tune your model.__ This means choosing new *hyperparameters*, retraining the model, and then reassessing the same model metrics to see if the model yields better results.\n",
        "3. __Check for model overfitting__. We will also check to see if the model is overfitting by comparing metrics of the testing data to that of the training data. In short, the training data should not be outperforming the testing data.\n",
        "4. __Actually make a prediction with a single observation__. "
      ]
    },
    {
      "cell_type": "markdown",
      "metadata": {
        "id": "SB9KLMQlIV4_"
      },
      "source": [
        "<br><br>"
      ]
    },
    {
      "cell_type": "markdown",
      "metadata": {
        "id": "0Bgo853jIV4_"
      },
      "source": [
        "## 2.1.B.a. [Logistic Regression](https://scikit-learn.org/stable/modules/linear_model.html#logistic-regression)"
      ]
    },
    {
      "cell_type": "markdown",
      "metadata": {
        "id": "xi9mBlyhIV5A"
      },
      "source": [
        "Let's just start with a simple Logistic Regression. A Logistic Regression is a very specialized model in that in that it only computes the probability of a binary outcome.  \n",
        "![logistic regression gif](https://drive.google.com/uc?export=view&id=1_LOP_Vdi5DkICWRDf7tgN-OMMTRGMQRm)\n",
        "<br>\n",
        "This model also requires that the assumptions of linear regression must hold, i.e., <br>\n",
        "1. linear relationship between predictors & predictand, \n",
        "2. normally distributed residuals between observed predictand and predicted outcome, \n",
        "3. no collinearity must exist among predictors, i.e., must be independent<br>"
      ]
    },
    {
      "cell_type": "markdown",
      "metadata": {
        "id": "G6MvvpxXIV5A"
      },
      "source": [
        "Logistic Regression shouldn't perform any better than a linear regression, so let's just start with this as an illustration of how well linearity assumptions hold in this dataset.<br>"
      ]
    },
    {
      "cell_type": "code",
      "execution_count": 24,
      "metadata": {
        "id": "noAxbS4BIV5A"
      },
      "outputs": [],
      "source": [
        "from sklearn.linear_model import LogisticRegression #that was a cool graph"
      ]
    },
    {
      "cell_type": "markdown",
      "metadata": {
        "id": "d1RX7rBBIV5A"
      },
      "source": [
        "#### 1. Perform a test-train split, perform feature scaling, and the rebalance our dataset."
      ]
    },
    {
      "cell_type": "code",
      "execution_count": 25,
      "metadata": {
        "id": "0wzanzxuIV5A",
        "colab": {
          "base_uri": "https://localhost:8080/"
        },
        "outputId": "c2693537-db9f-478b-dd2c-c7ba47b05418"
      },
      "outputs": [
        {
          "output_type": "stream",
          "name": "stdout",
          "text": [
            "Defining holdout data... \n",
            "Prior to scaling and rebalacing...\n",
            "Shape of training predictors: (7027, 9)\n",
            "Shape of testing predictors: (1757, 9)\n",
            "Shape of training predictands: (7027,)\n",
            "Shape of testing predictands: (1757,)\n",
            " \n",
            "Performing feature scaling... \n",
            "for training data... \n",
            "After scaling and rebalacing...\n",
            "Shape of predictors: (13610, 9)\n",
            "Shape of predictands: (13610,)\n",
            " \n",
            "for testing data... \n",
            "After scaling and rebalacing...\n",
            "Shape of predictors: (3392, 9)\n",
            "Shape of predictands: (3392,)\n",
            " \n"
          ]
        }
      ],
      "source": [
        "x_train_bal, y_train_bal, x_test_bal, y_test_bal = dataprep_pipeline(x, y, verbose=True, random_state=80305)"
      ]
    },
    {
      "cell_type": "markdown",
      "metadata": {
        "id": "rWAiRkaQIV5A"
      },
      "source": [
        "#### 2. Train the Logistic Regression model"
      ]
    },
    {
      "cell_type": "code",
      "execution_count": 26,
      "metadata": {
        "id": "EgsWVLy7IV5A"
      },
      "outputs": [],
      "source": [
        "# initialize the model\n",
        "lr = LogisticRegression(solver='lbfgs') \n",
        "# we choose this particular solver because we're not regularizing or penalizing certain features\n",
        "\n",
        "# fit the model to scaled & balanced training data. Side note: this is where *Gradient Descent* occurs.\n",
        "lr.fit(x_train_bal, y_train_bal);"
      ]
    },
    {
      "cell_type": "markdown",
      "metadata": {
        "id": "38XT6zGvIV5A"
      },
      "source": [
        "#### 3. Assess Logistic Regression's performance using testing data"
      ]
    },
    {
      "cell_type": "markdown",
      "metadata": {
        "id": "pEykWryGIV5A"
      },
      "source": [
        "Now that we've \"trained\" our model, we make predictions using data that the model has never seen before (i.e., our holdout testing data) to see how it performs. "
      ]
    },
    {
      "cell_type": "code",
      "execution_count": 27,
      "metadata": {
        "id": "gKfIHcmpIV5B",
        "colab": {
          "base_uri": "https://localhost:8080/",
          "height": 489
        },
        "outputId": "da63f9c6-afa8-4aac-dbb3-531931ee9e47"
      },
      "outputs": [
        {
          "output_type": "stream",
          "name": "stdout",
          "text": [
            "Accuracy: 0.8269\n",
            "Recall: 0.8272\n"
          ]
        },
        {
          "output_type": "display_data",
          "data": {
            "text/plain": [
              "<Figure size 640x480 with 2 Axes>"
            ],
            "image/png": "[encoded data removed]"
          },
          "metadata": {}
        }
      ],
      "source": [
        "y_pred = lr.predict(x_test_bal)\n",
        "\n",
        "# Call functions defined above to calculate metrics & plot a confusion matrix based on\n",
        "# how well model simulates testing data looks pretty good\n",
        "plot_cm(y_test_bal, y_pred);\n",
        "lr_acc, lr_rec = bin_metrics(y_test_bal, y_pred)"
      ]
    },
    {
      "cell_type": "markdown",
      "metadata": {
        "id": "_xJ5PrsBIV5B"
      },
      "source": [
        "We determined earlier that False Positives are less harmful than False Negatives. Thus, along with accuracy, which essentially measures how close the model is to the target, we should try to maximize recall. Luckily, recall is the highest-scoring metric for this model (recall = ~87%).<br><br>\n",
        "Let's focus on accuracy, though, for a moment. Accuracy tells is the percent of correct predictions, whether precipitating or not. The Logistic Regression model, without any additional tuning, can correctly predict whether it's precipitating or not given a set of present atmospheric conditions around 84% of the time. "
      ]
    },
    {
      "cell_type": "markdown",
      "metadata": {
        "id": "ZxHrK_07IV5B"
      },
      "source": [
        "#### 4. Check to see if the Logistic Regression model is overfitting (or underfitting)"
      ]
    },
    {
      "cell_type": "markdown",
      "metadata": {
        "id": "SrRFeanxIV5B"
      },
      "source": [
        "A very important aspect of tuning machine learning model is to ensure the model isn't overfitting or underfitting."
      ]
    },
    {
      "cell_type": "markdown",
      "metadata": {
        "id": "EKifLlZbIV5B"
      },
      "source": [
        "![overfitting.v.underfitting](https://drive.google.com/uc?export=view&id=1cKNtqszFpzcLxPnNhSwHwvK_W_YGLfs1)"
      ]
    },
    {
      "cell_type": "markdown",
      "metadata": {
        "id": "fiZMjC5xIV5B"
      },
      "source": [
        "An underfit model is a biased model. Symptoms of underfitting are that your training data performs worse than your testing data, or the model metrics are just poor overall. To alleviate underfitting, introduce more variance into the model by adding more features, use ensemble methods, or increase model complexity. <br><br>\n",
        "An overfit model means the model is fit very well to the training data, but fails to generalize predictions outside the training dataset. A symptom of overfitting is that the models' training accuracy is much better than the testing accuracy. Overfitting can happen more easily in more complex models, like neural networks. To alleviate overfitting, one needs to reduce variance, through **feature regularization**, lowering model complexity, or performing k-folds cross-validation.<br><br>\n",
        "Before you dive too deeply into ML and in your own time, I suggest watching [this 6-minute StatQuest YouTube video](https://www.youtube.com/watch?v=EuBBz3bI-aA) to develop an intuition of error, overfitting, and underfitting."
      ]
    },
    {
      "cell_type": "code",
      "execution_count": 28,
      "metadata": {
        "id": "PenIuu-GIV5B",
        "colab": {
          "base_uri": "https://localhost:8080/"
        },
        "outputId": "1833dadd-d013-4b68-eaba-3f1e56800e33"
      },
      "outputs": [
        {
          "output_type": "stream",
          "name": "stdout",
          "text": [
            "Training metrics:\n",
            "Accuracy: 0.8424\n",
            "Recall: 0.8679\n",
            " \n",
            "Testing metrics:\n",
            "Accuracy: 0.8269\n",
            "Recall: 0.8272\n"
          ]
        }
      ],
      "source": [
        "# Compare testing data metrics to data training metrics.\n",
        "print(\"Training metrics:\")\n",
        "pred_train= lr.predict(x_train_bal) \n",
        "bin_metrics(y_train_bal,pred_train);\n",
        "\n",
        "# As a reminder, display testing metrics:\n",
        "print(\" \")\n",
        "print(\"Testing metrics:\")\n",
        "bin_metrics(y_test_bal, y_pred);"
      ]
    },
    {
      "cell_type": "markdown",
      "metadata": {
        "id": "n0_ar58qIV5B"
      },
      "source": [
        "Remember:<br>\n",
        "testing metrics > training metrics = underfitting, model is too simple<br>\n",
        "testing metrics < training metrics = overfitting, model is too complex<br><br>"
      ]
    },
    {
      "cell_type": "markdown",
      "metadata": {
        "id": "dFuoUxvIIV5B"
      },
      "source": [
        "#### 5. Make a prediction with the Logistic Regression model"
      ]
    },
    {
      "cell_type": "markdown",
      "metadata": {
        "id": "7aJT3MvSIV5B"
      },
      "source": [
        "First, we randomly choose some atmospheric conditions using the function defined above. This will be the atmospheric conditions we use for all models we build."
      ]
    },
    {
      "cell_type": "code",
      "execution_count": 29,
      "metadata": {
        "id": "NTzj5layIV5C"
      },
      "outputs": [],
      "source": [
        "origvals, testpredictor = rand_atmos_conditions_precip()\n",
        "# print(origvals) # observation from original dataframe\n",
        "# print(testpredictor) # scaled observation"
      ]
    },
    {
      "cell_type": "code",
      "execution_count": 30,
      "metadata": {
        "id": "ap69nuemIV5C",
        "colab": {
          "base_uri": "https://localhost:8080/"
        },
        "outputId": "e673e51d-03ec-41df-9dea-02dfa4dd4775"
      },
      "outputs": [
        {
          "output_type": "stream",
          "name": "stdout",
          "text": [
            "The meteorological conditions are: \n",
            "day             42626.00\n",
            "hour                0.25\n",
            "temp_F             44.10\n",
            "RH                 88.40\n",
            "dewtemp_F          40.90\n",
            "wind_mph            3.50\n",
            "wind_dir          111.00\n",
            "windgust            7.80\n",
            "windgust_dir       88.00\n",
            "pres_Hg           847.42\n",
            "SOLIN_Wm2           0.90\n",
            "Prec_inches         0.01\n",
            "prec_occur          1.00\n",
            "Name: 6150, dtype: float64\n",
            " \n",
            "There is a 85.71% chance of precipitation given those meteorological conditions.\n"
          ]
        },
        {
          "output_type": "stream",
          "name": "stderr",
          "text": [
            "/usr/local/lib/python3.10/dist-packages/sklearn/base.py:439: UserWarning: X does not have valid feature names, but LogisticRegression was fitted with feature names\n",
            "  warnings.warn(\n"
          ]
        }
      ],
      "source": [
        "# prediction output is in the format [probability no rain, probability rain]\n",
        "lr_prediction = lr.predict_proba(np.array(testpredictor).reshape(1, -1))[0][1]*100 \n",
        "print(\"The meteorological conditions are: \")\n",
        "print(origvals)\n",
        "print(\" \")\n",
        "print(f\"There is a {round(lr_prediction,2)}% chance of precipitation given those meteorological conditions.\")"
      ]
    },
    {
      "cell_type": "markdown",
      "metadata": {
        "id": "BKpVlf8hIV5C"
      },
      "source": [
        "<br><br><br>"
      ]
    },
    {
      "cell_type": "markdown",
      "metadata": {
        "id": "TLGGhznpIV5C"
      },
      "source": [
        "## 2.1.B.b. [Random Forest](https://scikit-learn.org/stable/modules/ensemble.html#forest)"
      ]
    },
    {
      "cell_type": "markdown",
      "metadata": {
        "id": "gunv0UuVIV5C"
      },
      "source": [
        "To understand random forests, one must first understand a [decision tree](https://scikit-learn.org/stable/modules/tree.html#tree). A decision tree is intuitive: it is essentially a flowchart to point to an outcome based on \"decisions\" for each feature. <br><br>\n",
        "A Random Forest is an ensemble of decision trees that are randomly constructed based on the features of the dataset and number of decisions. Trees are constructed by randomly choosing a feature to \"seed\" each tree, and then making rules or associations with other features to lead to the specified outcome."
      ]
    },
    {
      "cell_type": "markdown",
      "metadata": {
        "id": "PBWcKG0MIV5C"
      },
      "source": [
        "![random_forest](https://drive.google.com/uc?export=view&id=1Epldg87IF1Tu9-wTGOe5Rpp0Jvewwmrc)"
      ]
    },
    {
      "cell_type": "code",
      "execution_count": 31,
      "metadata": {
        "id": "Tg2Euy65IV5C"
      },
      "outputs": [],
      "source": [
        "from sklearn.ensemble import RandomForestClassifier\n",
        "import time # i feel like this type of model is not going to be very good"
      ]
    },
    {
      "cell_type": "markdown",
      "metadata": {
        "id": "uKEwvM4KIV5C"
      },
      "source": [
        "#### 1. If you didn't perform for Logistic Regression above, perform a test-train split, perform feature scaling, and the rebalance our dataset. \n",
        "Otherwise, you can run this cell, but since I've specified the `random_state` to be the same as above, you should get the same set of data."
      ]
    },
    {
      "cell_type": "code",
      "execution_count": 32,
      "metadata": {
        "id": "KYhHN-NIIV5C"
      },
      "outputs": [],
      "source": [
        "if 'x_train_bal' not in locals():\n",
        "  x_train_bal, y_train_bal, x_test_bal, y_test_bal = dataprep_pipeline(x, y, verbose=False, random_state=80305)"
      ]
    },
    {
      "cell_type": "markdown",
      "metadata": {
        "id": "4j2h_GB6IV5D"
      },
      "source": [
        "#### 2. Train (and tuning) the Random Forest model"
      ]
    },
    {
      "cell_type": "markdown",
      "metadata": {
        "id": "eRAz1BzKIV5D"
      },
      "source": [
        "#### Choosing hyperparameters"
      ]
    },
    {
      "cell_type": "markdown",
      "metadata": {
        "id": "-xEzk2hxIV5D"
      },
      "source": [
        "Typically, in Machine Learning models, we can choose a hyperparameters that control the behavior of the model and can improve model performance. These hyperparamters are just numbers that tell the model to act in different ways. Adjusting hyperparameters can control the complexity of the model, and thus, influence model metrics. <br><br>\n",
        "There are many hyperparameters one can decide upon when tuning the Random Forest classifier (see scikit-learn page on Random Forests for more examples). The two we will be adjusting is \n",
        "1. The number of estimators or \"trees\" in the forest\n",
        "2. The depth of the tree, or how many \"decisions\" are made until convergence is reached. "
      ]
    },
    {
      "cell_type": "code",
      "execution_count": 33,
      "metadata": {
        "id": "1bLPGHc5IV5D",
        "colab": {
          "base_uri": "https://localhost:8080/"
        },
        "outputId": "de8955f4-db7d-4736-93d0-27ef077b19b8"
      },
      "outputs": [
        {
          "output_type": "stream",
          "name": "stdout",
          "text": [
            "Number of estimators is 10\n",
            "depth is 2\n",
            "depth is 10\n",
            "depth is 100\n",
            "Random Forest took 0.45160913467407227 seconds.\n",
            "Number of estimators is 50\n",
            "depth is 2\n",
            "depth is 10\n",
            "depth is 100\n",
            "Random Forest took 2.046689033508301 seconds.\n",
            "Number of estimators is 500\n",
            "depth is 2\n",
            "depth is 10\n",
            "depth is 100\n",
            "Random Forest took 22.64166021347046 seconds.\n"
          ]
        }
      ],
      "source": [
        "acc_scores = []\n",
        "rec_scores = []\n",
        "\n",
        "num_est = [10, 50, 500] # number of trees\n",
        "depth = [2, 10, 100] # number of decisions\n",
        "for i in num_est:\n",
        "    start = time.time()\n",
        "    print(\"Number of estimators is \"+str(i))\n",
        "\n",
        "    for k in depth:\n",
        "        print(\"depth is \"+str(k))\n",
        "        forest = RandomForestClassifier(n_estimators=i, max_depth=k)\n",
        "        forest.fit(x_train_bal, y_train_bal)\n",
        "        \n",
        "        # cross validate & evaluate metrics based on testing data\n",
        "        pred_test= forest.predict(x_test_bal)\n",
        "        acc_val = metrics.accuracy_score(y_test_bal, pred_test)\n",
        "        acc_scores.append(acc_val)\n",
        "        rec_val = metrics.recall_score(y_test_bal, pred_test)\n",
        "        rec_scores.append(rec_val)\n",
        "\n",
        "    end = time.time()\n",
        "    print(\"Random Forest took \"+str(end-start)+\" seconds.\")"
      ]
    },
    {
      "cell_type": "code",
      "execution_count": 34,
      "metadata": {
        "id": "gR8Nu5MXIV5D",
        "colab": {
          "base_uri": "https://localhost:8080/",
          "height": 465
        },
        "outputId": "c1b6d8ec-802f-4c0a-8e83-d367deb4b180"
      },
      "outputs": [
        {
          "output_type": "stream",
          "name": "stdout",
          "text": [
            "Max Accuracy (black): 0.8219\n",
            "Max Recall (blue): 0.7535\n"
          ]
        },
        {
          "output_type": "display_data",
          "data": {
            "text/plain": [
              "<Figure size 640x480 with 1 Axes>"
            ],
            "image/png": "[encoded data removed]"
          },
          "metadata": {}
        }
      ],
      "source": [
        "plt.plot(acc_scores, marker='o', color='black')\n",
        "plt.plot(rec_scores, marker='o', color='blue')\n",
        "print(\"Max Accuracy (black):\", round(max(acc_scores), 4))\n",
        "print(\"Max Recall (blue):\", round(max(rec_scores), 4))"
      ]
    },
    {
      "cell_type": "markdown",
      "metadata": {
        "id": "3rVW4i3hIV5D"
      },
      "source": [
        "**x =** <br>\n",
        "0, 1, 2: number of estimators = 10<br>\n",
        "3, 4, 5: number of estimators = 50<br>\n",
        "6, 7, 8: number of estimators = 500<br>\n",
        "<br>\n",
        "0, 3, 6: depth range = 2<br>\n",
        "1, 4, 7: depth range = 10<br>\n",
        "2, 5, 8: depth range = 100<br>"
      ]
    },
    {
      "cell_type": "markdown",
      "metadata": {
        "id": "-UlKy7zgIV5D"
      },
      "source": [
        "Choosing the right hyperparameters for this model requires revisiting which metrics are most important to our question. We want to maximize both recall and accuracy. <br><br>\n",
        "For simplicity, I choose the parameters corresponding to x=0, but __I highly suggest you try other combinations of parameters as well__."
      ]
    },
    {
      "cell_type": "code",
      "execution_count": 35,
      "metadata": {
        "id": "BgZvDHMBIV5D"
      },
      "outputs": [],
      "source": [
        "forest = RandomForestClassifier(n_estimators=10, max_depth=2);\n",
        "forest.fit(x_train_bal, y_train_bal);"
      ]
    },
    {
      "cell_type": "markdown",
      "metadata": {
        "id": "PwDBiAkVIV5D"
      },
      "source": [
        "#### 3. Assess the Random Forest's performance using testing data"
      ]
    },
    {
      "cell_type": "markdown",
      "metadata": {
        "id": "UwT15zu2IV5E"
      },
      "source": [
        "Once again, we will use our testing data to make an initial evaluation of how the model is doing."
      ]
    },
    {
      "cell_type": "code",
      "execution_count": 36,
      "metadata": {
        "id": "ObvARYd8IV5E",
        "colab": {
          "base_uri": "https://localhost:8080/",
          "height": 484
        },
        "outputId": "c9cdcd28-0d17-4379-8012-37c35e0a02e0"
      },
      "outputs": [
        {
          "output_type": "stream",
          "name": "stdout",
          "text": [
            "Accuracy: 0.8066\n",
            "Recall: 0.7524\n"
          ]
        },
        {
          "output_type": "display_data",
          "data": {
            "text/plain": [
              "<Figure size 640x480 with 2 Axes>"
            ],
            "image/png": "[encoded data removed]"
          },
          "metadata": {}
        }
      ],
      "source": [
        "pred_test= forest.predict(x_test_bal)\n",
        "\n",
        "# Call functions defined above to calculate metrics & plot a confusion matrix based on\n",
        "# how well model simulates testing data\n",
        "forest_acc, forest_rec = bin_metrics(y_test_bal, pred_test)\n",
        "plot_cm(y_test_bal, pred_test) #not great"
      ]
    },
    {
      "cell_type": "markdown",
      "metadata": {
        "id": "D87thTfXIV5E"
      },
      "source": [
        "#### 4. Check to see if the Random Forest is overfitting"
      ]
    },
    {
      "cell_type": "code",
      "execution_count": 37,
      "metadata": {
        "id": "KCcyA9I4IV5E",
        "colab": {
          "base_uri": "https://localhost:8080/"
        },
        "outputId": "e770773a-54a4-43a5-d9d3-35f020040c4f"
      },
      "outputs": [
        {
          "output_type": "stream",
          "name": "stdout",
          "text": [
            "Training metrics:\n",
            "Accuracy: 0.8113\n",
            "Recall: 0.7678\n",
            " \n",
            "Testing metrics:\n",
            "Accuracy: 0.8066\n",
            "Recall: 0.7524\n"
          ]
        }
      ],
      "source": [
        "# Compare testing data metrics to data training metrics.\n",
        "print(\"Training metrics:\")\n",
        "rf_pred_train= forest.predict(x_train_bal) \n",
        "bin_metrics(y_train_bal,rf_pred_train);\n",
        "\n",
        "# As a reminder, display testing metrics:\n",
        "print(\" \")\n",
        "print(\"Testing metrics:\")\n",
        "bin_metrics(y_test_bal, pred_test);"
      ]
    },
    {
      "cell_type": "markdown",
      "metadata": {
        "id": "huKAdBukIV5E"
      },
      "source": [
        "Remember:<br>\n",
        "testing metrics > training metrics = underfitting, model is too simple<br> #yep\n",
        "\n",
        "testing metrics < training metrics = overfitting, model is too complex"
      ]
    },
    {
      "cell_type": "markdown",
      "metadata": {
        "id": "n1boQogqIV5E"
      },
      "source": [
        "Random forests seldom overfit, but if they do, one should try increasing the number of trees, or decreasing the amount of data used to construct each tree. See scikit-learn's [Random Forest Classifier webpage](https://scikit-learn.org/stable/modules/generated/sklearn.ensemble.RandomForestClassifier.html) for information on more hyperparameters one can tune to address overfitting."
      ]
    },
    {
      "cell_type": "markdown",
      "metadata": {
        "id": "hnSygaSjIV5E"
      },
      "source": [
        "#### 5. Make a prediction with the Random Forest"
      ]
    },
    {
      "cell_type": "code",
      "execution_count": 38,
      "metadata": {
        "id": "jZWCBePvIV5E",
        "colab": {
          "base_uri": "https://localhost:8080/"
        },
        "outputId": "d8cc7f31-514a-484c-db05-aa9e054fd09f"
      },
      "outputs": [
        {
          "output_type": "stream",
          "name": "stdout",
          "text": [
            "The meteorological conditions are: \n",
            "day             42626.00\n",
            "hour                0.25\n",
            "temp_F             44.10\n",
            "RH                 88.40\n",
            "dewtemp_F          40.90\n",
            "wind_mph            3.50\n",
            "wind_dir          111.00\n",
            "windgust            7.80\n",
            "windgust_dir       88.00\n",
            "pres_Hg           847.42\n",
            "SOLIN_Wm2           0.90\n",
            "Prec_inches         0.01\n",
            "prec_occur          1.00\n",
            "Name: 6150, dtype: float64\n",
            " \n",
            "There is a 66.02% chance of precipitation given those meteorological conditions.\n"
          ]
        },
        {
          "output_type": "stream",
          "name": "stderr",
          "text": [
            "/usr/local/lib/python3.10/dist-packages/sklearn/base.py:439: UserWarning: X does not have valid feature names, but RandomForestClassifier was fitted with feature names\n",
            "  warnings.warn(\n"
          ]
        }
      ],
      "source": [
        "# prediction output is in the format [probability no rain, probability rain]\n",
        "forest_prediction = forest.predict_proba(np.array(testpredictor).reshape(1, -1))[0][1]*100 \n",
        "print(\"The meteorological conditions are: \")\n",
        "print(origvals)\n",
        "print(\" \")\n",
        "print(\"There is a {0:.{digits}f}% chance of precipitation given those meteorological conditions.\".format(forest_prediction, digits=2))"
      ]
    },
    {
      "cell_type": "markdown",
      "metadata": {
        "id": "Ov_X9yjfIV5E"
      },
      "source": [
        "*The random forest yields yet another percent chance of precipitation given the meteorological conditions... hmm...*"
      ]
    },
    {
      "cell_type": "markdown",
      "metadata": {
        "id": "oj0Z0iLRIV5E"
      },
      "source": [
        "<br><br><br>"
      ]
    },
    {
      "cell_type": "markdown",
      "metadata": {
        "id": "JgGja1YnIV5H"
      },
      "source": [
        "## 2.1.B.c. [Neural Network](https://blog.insightdatascience.com/a-quick-introduction-to-vanilla-neural-networks-b0998c6216a1)\n",
        "![neuarl net chart](https://drive.google.com/uc?export=view&id=1dGiM6CMR0kKSh2kVe9N3e_WBdCCzjweq)\n",
        "![neural net equation](https://drive.google.com/uc?export=view&id=1QsWJbcry5SQqalXu3gKwcH9phE98lEOQ)\n"
      ]
    },
    {
      "cell_type": "markdown",
      "metadata": {
        "id": "5wdnwL9hIV5H"
      },
      "source": [
        "*Note: there is a TON of information online about Neural Networks.* I suggest starting with the 3-part blog series on neural networks accessible in the link above for a gentle introduction to the theory. <br><br>\n",
        "If you'd rather absorb new information through watching a video, I found [this three-part series of youtube videos](https://www.youtube.com/watch?v=aircAruvnKk) (totaling about an hour in length) to be very helpful.<br><br>\n",
        "Another great resource is [machinelearningmastery.com](machinelearningmastery.com). In fact, the model below is based off of [this blog post](https://machinelearningmastery.com/binary-classification-tutorial-with-the-keras-deep-learning-library/). "
      ]
    },
    {
      "cell_type": "code",
      "execution_count": 39,
      "metadata": {
        "id": "XIXMxG9-IV5H"
      },
      "outputs": [],
      "source": [
        "import tensorflow.keras as keras\n",
        "from tensorflow.keras.models import Sequential\n",
        "from tensorflow.keras.layers import Dense"
      ]
    },
    {
      "cell_type": "markdown",
      "metadata": {
        "id": "uDUtulA7IV5H"
      },
      "source": [
        "#### 1. Perform a test-train split, perform feature scaling, and the rebalance our dataset."
      ]
    },
    {
      "cell_type": "markdown",
      "metadata": {
        "id": "VEwyfrCUIV5H"
      },
      "source": [
        "Split test & training data, perform feature scaling, and rebalance dataset according to outcomes if you didn't do so above."
      ]
    },
    {
      "cell_type": "code",
      "execution_count": 40,
      "metadata": {
        "id": "SH_WE9VXIV5I"
      },
      "outputs": [],
      "source": [
        "if 'x_train_bal' not in locals():\n",
        "  x_train_bal, y_train_bal, x_test_bal, y_test_bal = dataprep_pipeline(x, y, verbose=False, random_state=80305)"
      ]
    },
    {
      "cell_type": "markdown",
      "metadata": {
        "id": "SFnhr9XVIV5I"
      },
      "source": [
        "#### 2. Train (and build and compile) the Neural Network"
      ]
    },
    {
      "cell_type": "markdown",
      "metadata": {
        "id": "m8XeUH_AIV5I"
      },
      "source": [
        "There are lots of hyperparameters here. Please read the comments to guide you in playing with them later!"
      ]
    },
    {
      "cell_type": "markdown",
      "metadata": {
        "id": "Y5a_sRxnIV5I"
      },
      "source": [
        "#### Build a very simple Neural Network & compile"
      ]
    },
    {
      "cell_type": "code",
      "execution_count": 41,
      "metadata": {
        "id": "f-dntfjrIV5I"
      },
      "outputs": [],
      "source": [
        "number_inputs = len(x_train_bal.columns)\n",
        "\n",
        "# create model\n",
        "nn = Sequential()\n",
        "nn.add(Dense(number_inputs, input_dim=number_inputs, activation='relu'))\n",
        "\n",
        "# Try uncommenting this to address overfitting\n",
        "# from keras.regularizers import l2\n",
        "# reg = l2(0.001)\n",
        "# nn.add(Dense(number_inputs, activation='relu',bias_regularizer=reg,activity_regularizer=reg))\n",
        "\n",
        "# try commenting out one and then the other\n",
        "nn.add(Dense(1, activation='sigmoid'))\n",
        "#nn.addDense(1, activation='softmax'))\n",
        "\n",
        "# Compile model \n",
        "# Also try changing the learning rate.\n",
        "learning_rate = 0.001 # only used in the SGD optimizer.\n",
        "\n",
        "# Also try commenting out one & then the other. \n",
        "nn.compile(loss='binary_crossentropy', optimizer='adam', metrics=['accuracy']) \n",
        "#nn.compile(loss='binary_crossentropy', optimizer=keras.optimizers.SGD(lr=learning_rate), metrics=['accuracy']) "
      ]
    },
    {
      "cell_type": "markdown",
      "source": [
        "*Note: the `binary_crossentropy` is also called the \"Log Loss\". This is a loss function specific for predicting two classes. \n",
        "$$L_{BCE} = -\\frac{1}{n}\\sum{(Y_{i}⋅ log(\\hat{Y_{i}}) + (1-Y_{i})⋅ log(1-\\hat Y_{i})} $$, where $Y_{i}$ and $\\hat{Y_{i}}$ is the actual and the model's predicted probability of one class, respectively.*"
      ],
      "metadata": {
        "id": "ltStUYTjNH_x"
      }
    },
    {
      "cell_type": "markdown",
      "metadata": {
        "id": "WokcjjSiIV5I"
      },
      "source": [
        "#### Actually training the model."
      ]
    },
    {
      "cell_type": "code",
      "execution_count": 42,
      "metadata": {
        "id": "B9KJsrjltNTs",
        "colab": {
          "base_uri": "https://localhost:8080/"
        },
        "outputId": "8aa08a64-ef33-4d62-b74f-986430dbd9a4"
      },
      "outputs": [
        {
          "output_type": "stream",
          "name": "stdout",
          "text": [
            "Epoch 1/100\n",
            "568/568 - 2s - loss: 0.5977 - accuracy: 0.7275 - val_loss: 0.5177 - val_accuracy: 0.7706 - 2s/epoch - 4ms/step\n",
            "Epoch 2/100\n",
            "568/568 - 1s - loss: 0.4833 - accuracy: 0.7819 - val_loss: 0.4698 - val_accuracy: 0.7966 - 931ms/epoch - 2ms/step\n",
            "Epoch 3/100\n",
            "568/568 - 1s - loss: 0.4399 - accuracy: 0.8058 - val_loss: 0.4440 - val_accuracy: 0.8093 - 1s/epoch - 2ms/step\n",
            "Epoch 4/100\n",
            "568/568 - 1s - loss: 0.4160 - accuracy: 0.8229 - val_loss: 0.4264 - val_accuracy: 0.7981 - 1s/epoch - 2ms/step\n",
            "Epoch 5/100\n",
            "568/568 - 1s - loss: 0.4002 - accuracy: 0.8316 - val_loss: 0.4125 - val_accuracy: 0.8037 - 1s/epoch - 3ms/step\n",
            "Epoch 6/100\n",
            "568/568 - 1s - loss: 0.3887 - accuracy: 0.8367 - val_loss: 0.4031 - val_accuracy: 0.8081 - 1s/epoch - 2ms/step\n",
            "Epoch 7/100\n",
            "568/568 - 1s - loss: 0.3800 - accuracy: 0.8395 - val_loss: 0.3957 - val_accuracy: 0.8113 - 892ms/epoch - 2ms/step\n",
            "Epoch 8/100\n",
            "568/568 - 1s - loss: 0.3732 - accuracy: 0.8416 - val_loss: 0.3908 - val_accuracy: 0.8181 - 1s/epoch - 2ms/step\n",
            "Epoch 9/100\n",
            "568/568 - 1s - loss: 0.3675 - accuracy: 0.8446 - val_loss: 0.3860 - val_accuracy: 0.8140 - 883ms/epoch - 2ms/step\n",
            "Epoch 10/100\n",
            "568/568 - 1s - loss: 0.3623 - accuracy: 0.8470 - val_loss: 0.3807 - val_accuracy: 0.8296 - 1s/epoch - 2ms/step\n",
            "Epoch 11/100\n",
            "568/568 - 1s - loss: 0.3575 - accuracy: 0.8486 - val_loss: 0.3762 - val_accuracy: 0.8340 - 1s/epoch - 2ms/step\n",
            "Epoch 12/100\n",
            "568/568 - 1s - loss: 0.3537 - accuracy: 0.8501 - val_loss: 0.3718 - val_accuracy: 0.8396 - 1s/epoch - 2ms/step\n",
            "Epoch 13/100\n",
            "568/568 - 1s - loss: 0.3505 - accuracy: 0.8520 - val_loss: 0.3694 - val_accuracy: 0.8367 - 891ms/epoch - 2ms/step\n",
            "Epoch 14/100\n",
            "568/568 - 1s - loss: 0.3481 - accuracy: 0.8527 - val_loss: 0.3680 - val_accuracy: 0.8343 - 902ms/epoch - 2ms/step\n",
            "Epoch 15/100\n",
            "568/568 - 1s - loss: 0.3453 - accuracy: 0.8535 - val_loss: 0.3629 - val_accuracy: 0.8331 - 876ms/epoch - 2ms/step\n",
            "Epoch 16/100\n",
            "568/568 - 1s - loss: 0.3425 - accuracy: 0.8544 - val_loss: 0.3610 - val_accuracy: 0.8296 - 1s/epoch - 2ms/step\n",
            "Epoch 17/100\n",
            "568/568 - 1s - loss: 0.3407 - accuracy: 0.8561 - val_loss: 0.3599 - val_accuracy: 0.8396 - 1s/epoch - 2ms/step\n",
            "Epoch 18/100\n",
            "568/568 - 1s - loss: 0.3395 - accuracy: 0.8564 - val_loss: 0.3619 - val_accuracy: 0.8399 - 1s/epoch - 2ms/step\n",
            "Epoch 19/100\n",
            "568/568 - 1s - loss: 0.3376 - accuracy: 0.8557 - val_loss: 0.3577 - val_accuracy: 0.8370 - 948ms/epoch - 2ms/step\n",
            "Epoch 20/100\n",
            "568/568 - 1s - loss: 0.3359 - accuracy: 0.8558 - val_loss: 0.3537 - val_accuracy: 0.8343 - 878ms/epoch - 2ms/step\n",
            "Epoch 21/100\n",
            "568/568 - 1s - loss: 0.3344 - accuracy: 0.8559 - val_loss: 0.3555 - val_accuracy: 0.8370 - 1s/epoch - 2ms/step\n",
            "Epoch 22/100\n",
            "568/568 - 1s - loss: 0.3333 - accuracy: 0.8557 - val_loss: 0.3539 - val_accuracy: 0.8370 - 875ms/epoch - 2ms/step\n",
            "Epoch 23/100\n",
            "568/568 - 1s - loss: 0.3319 - accuracy: 0.8568 - val_loss: 0.3524 - val_accuracy: 0.8381 - 1s/epoch - 2ms/step\n",
            "Epoch 24/100\n",
            "568/568 - 1s - loss: 0.3311 - accuracy: 0.8586 - val_loss: 0.3529 - val_accuracy: 0.8408 - 889ms/epoch - 2ms/step\n",
            "Epoch 25/100\n",
            "568/568 - 1s - loss: 0.3294 - accuracy: 0.8581 - val_loss: 0.3473 - val_accuracy: 0.8364 - 893ms/epoch - 2ms/step\n",
            "Epoch 26/100\n",
            "568/568 - 1s - loss: 0.3286 - accuracy: 0.8589 - val_loss: 0.3466 - val_accuracy: 0.8352 - 879ms/epoch - 2ms/step\n",
            "Epoch 27/100\n",
            "568/568 - 1s - loss: 0.3274 - accuracy: 0.8602 - val_loss: 0.3484 - val_accuracy: 0.8414 - 884ms/epoch - 2ms/step\n",
            "Epoch 28/100\n",
            "568/568 - 1s - loss: 0.3262 - accuracy: 0.8611 - val_loss: 0.3452 - val_accuracy: 0.8346 - 886ms/epoch - 2ms/step\n",
            "Epoch 29/100\n",
            "568/568 - 1s - loss: 0.3253 - accuracy: 0.8609 - val_loss: 0.3482 - val_accuracy: 0.8432 - 1s/epoch - 2ms/step\n",
            "Epoch 30/100\n",
            "568/568 - 1s - loss: 0.3245 - accuracy: 0.8610 - val_loss: 0.3502 - val_accuracy: 0.8343 - 1s/epoch - 2ms/step\n",
            "Epoch 31/100\n",
            "568/568 - 1s - loss: 0.3242 - accuracy: 0.8611 - val_loss: 0.3422 - val_accuracy: 0.8334 - 1s/epoch - 2ms/step\n",
            "Epoch 32/100\n",
            "568/568 - 1s - loss: 0.3238 - accuracy: 0.8627 - val_loss: 0.3441 - val_accuracy: 0.8396 - 1s/epoch - 2ms/step\n",
            "Epoch 33/100\n",
            "568/568 - 1s - loss: 0.3222 - accuracy: 0.8630 - val_loss: 0.3408 - val_accuracy: 0.8373 - 887ms/epoch - 2ms/step\n",
            "Epoch 34/100\n",
            "568/568 - 1s - loss: 0.3214 - accuracy: 0.8630 - val_loss: 0.3404 - val_accuracy: 0.8334 - 864ms/epoch - 2ms/step\n",
            "Epoch 35/100\n",
            "568/568 - 1s - loss: 0.3215 - accuracy: 0.8636 - val_loss: 0.3410 - val_accuracy: 0.8387 - 887ms/epoch - 2ms/step\n",
            "Epoch 36/100\n",
            "568/568 - 1s - loss: 0.3209 - accuracy: 0.8657 - val_loss: 0.3407 - val_accuracy: 0.8367 - 909ms/epoch - 2ms/step\n",
            "Epoch 37/100\n",
            "568/568 - 1s - loss: 0.3194 - accuracy: 0.8651 - val_loss: 0.3427 - val_accuracy: 0.8396 - 879ms/epoch - 2ms/step\n",
            "Epoch 38/100\n",
            "568/568 - 1s - loss: 0.3189 - accuracy: 0.8672 - val_loss: 0.3470 - val_accuracy: 0.8414 - 878ms/epoch - 2ms/step\n",
            "Epoch 39/100\n",
            "568/568 - 1s - loss: 0.3189 - accuracy: 0.8675 - val_loss: 0.3414 - val_accuracy: 0.8390 - 1s/epoch - 2ms/step\n",
            "Epoch 40/100\n",
            "568/568 - 1s - loss: 0.3185 - accuracy: 0.8666 - val_loss: 0.3449 - val_accuracy: 0.8402 - 864ms/epoch - 2ms/step\n",
            "Epoch 41/100\n",
            "568/568 - 1s - loss: 0.3185 - accuracy: 0.8675 - val_loss: 0.3405 - val_accuracy: 0.8364 - 880ms/epoch - 2ms/step\n",
            "Epoch 42/100\n",
            "568/568 - 1s - loss: 0.3171 - accuracy: 0.8697 - val_loss: 0.3397 - val_accuracy: 0.8387 - 902ms/epoch - 2ms/step\n",
            "Epoch 43/100\n",
            "568/568 - 1s - loss: 0.3174 - accuracy: 0.8685 - val_loss: 0.3415 - val_accuracy: 0.8408 - 1s/epoch - 2ms/step\n",
            "Epoch 44/100\n",
            "568/568 - 1s - loss: 0.3168 - accuracy: 0.8708 - val_loss: 0.3386 - val_accuracy: 0.8414 - 1s/epoch - 2ms/step\n",
            "Epoch 45/100\n",
            "568/568 - 1s - loss: 0.3168 - accuracy: 0.8724 - val_loss: 0.3421 - val_accuracy: 0.8417 - 1s/epoch - 2ms/step\n",
            "Epoch 46/100\n",
            "568/568 - 1s - loss: 0.3157 - accuracy: 0.8719 - val_loss: 0.3391 - val_accuracy: 0.8384 - 1s/epoch - 2ms/step\n",
            "Epoch 47/100\n",
            "568/568 - 1s - loss: 0.3157 - accuracy: 0.8732 - val_loss: 0.3404 - val_accuracy: 0.8393 - 1s/epoch - 2ms/step\n",
            "Epoch 48/100\n",
            "568/568 - 1s - loss: 0.3155 - accuracy: 0.8735 - val_loss: 0.3405 - val_accuracy: 0.8399 - 921ms/epoch - 2ms/step\n",
            "Epoch 49/100\n",
            "568/568 - 1s - loss: 0.3154 - accuracy: 0.8732 - val_loss: 0.3391 - val_accuracy: 0.8376 - 1s/epoch - 2ms/step\n",
            "Epoch 50/100\n",
            "568/568 - 1s - loss: 0.3143 - accuracy: 0.8744 - val_loss: 0.3421 - val_accuracy: 0.8420 - 1s/epoch - 2ms/step\n",
            "Epoch 51/100\n",
            "568/568 - 1s - loss: 0.3142 - accuracy: 0.8758 - val_loss: 0.3403 - val_accuracy: 0.8405 - 897ms/epoch - 2ms/step\n",
            "Epoch 52/100\n",
            "568/568 - 1s - loss: 0.3145 - accuracy: 0.8760 - val_loss: 0.3416 - val_accuracy: 0.8411 - 1s/epoch - 2ms/step\n",
            "Epoch 53/100\n",
            "568/568 - 1s - loss: 0.3139 - accuracy: 0.8744 - val_loss: 0.3504 - val_accuracy: 0.8299 - 904ms/epoch - 2ms/step\n",
            "Epoch 54/100\n",
            "568/568 - 1s - loss: 0.3136 - accuracy: 0.8759 - val_loss: 0.3446 - val_accuracy: 0.8455 - 1s/epoch - 2ms/step\n",
            "Epoch 55/100\n",
            "568/568 - 1s - loss: 0.3131 - accuracy: 0.8769 - val_loss: 0.3393 - val_accuracy: 0.8479 - 1s/epoch - 2ms/step\n",
            "Epoch 56/100\n",
            "568/568 - 1s - loss: 0.3126 - accuracy: 0.8767 - val_loss: 0.3424 - val_accuracy: 0.8443 - 1s/epoch - 2ms/step\n",
            "Epoch 57/100\n",
            "568/568 - 1s - loss: 0.3124 - accuracy: 0.8761 - val_loss: 0.3401 - val_accuracy: 0.8482 - 1s/epoch - 3ms/step\n",
            "Epoch 58/100\n",
            "568/568 - 1s - loss: 0.3122 - accuracy: 0.8788 - val_loss: 0.3437 - val_accuracy: 0.8449 - 1s/epoch - 2ms/step\n",
            "Epoch 59/100\n",
            "568/568 - 1s - loss: 0.3120 - accuracy: 0.8767 - val_loss: 0.3464 - val_accuracy: 0.8485 - 1s/epoch - 2ms/step\n",
            "Epoch 60/100\n",
            "568/568 - 2s - loss: 0.3116 - accuracy: 0.8772 - val_loss: 0.3437 - val_accuracy: 0.8446 - 2s/epoch - 3ms/step\n",
            "Epoch 61/100\n",
            "568/568 - 1s - loss: 0.3109 - accuracy: 0.8780 - val_loss: 0.3377 - val_accuracy: 0.8529 - 1s/epoch - 2ms/step\n",
            "Epoch 62/100\n",
            "568/568 - 1s - loss: 0.3108 - accuracy: 0.8777 - val_loss: 0.3391 - val_accuracy: 0.8626 - 931ms/epoch - 2ms/step\n",
            "Epoch 63/100\n",
            "568/568 - 1s - loss: 0.3110 - accuracy: 0.8774 - val_loss: 0.3503 - val_accuracy: 0.8387 - 917ms/epoch - 2ms/step\n",
            "Epoch 64/100\n",
            "568/568 - 1s - loss: 0.3110 - accuracy: 0.8773 - val_loss: 0.3396 - val_accuracy: 0.8470 - 1s/epoch - 2ms/step\n",
            "Epoch 65/100\n",
            "568/568 - 1s - loss: 0.3106 - accuracy: 0.8787 - val_loss: 0.3420 - val_accuracy: 0.8396 - 1s/epoch - 2ms/step\n",
            "Epoch 66/100\n",
            "568/568 - 1s - loss: 0.3107 - accuracy: 0.8768 - val_loss: 0.3425 - val_accuracy: 0.8417 - 1s/epoch - 2ms/step\n",
            "Epoch 67/100\n",
            "568/568 - 1s - loss: 0.3098 - accuracy: 0.8778 - val_loss: 0.3379 - val_accuracy: 0.8614 - 1s/epoch - 2ms/step\n",
            "Epoch 68/100\n",
            "568/568 - 1s - loss: 0.3101 - accuracy: 0.8773 - val_loss: 0.3377 - val_accuracy: 0.8461 - 1s/epoch - 2ms/step\n",
            "Epoch 69/100\n",
            "568/568 - 1s - loss: 0.3097 - accuracy: 0.8781 - val_loss: 0.3376 - val_accuracy: 0.8541 - 1s/epoch - 2ms/step\n",
            "Epoch 70/100\n",
            "568/568 - 1s - loss: 0.3096 - accuracy: 0.8783 - val_loss: 0.3430 - val_accuracy: 0.8343 - 1s/epoch - 3ms/step\n",
            "Epoch 71/100\n",
            "568/568 - 1s - loss: 0.3099 - accuracy: 0.8771 - val_loss: 0.3451 - val_accuracy: 0.8370 - 1s/epoch - 2ms/step\n",
            "Epoch 72/100\n",
            "568/568 - 1s - loss: 0.3097 - accuracy: 0.8776 - val_loss: 0.3474 - val_accuracy: 0.8272 - 1s/epoch - 2ms/step\n",
            "Epoch 73/100\n",
            "568/568 - 1s - loss: 0.3092 - accuracy: 0.8773 - val_loss: 0.3371 - val_accuracy: 0.8452 - 907ms/epoch - 2ms/step\n",
            "Epoch 74/100\n",
            "568/568 - 1s - loss: 0.3090 - accuracy: 0.8787 - val_loss: 0.3363 - val_accuracy: 0.8461 - 868ms/epoch - 2ms/step\n",
            "Epoch 75/100\n",
            "568/568 - 1s - loss: 0.3087 - accuracy: 0.8781 - val_loss: 0.3378 - val_accuracy: 0.8511 - 898ms/epoch - 2ms/step\n",
            "Epoch 76/100\n",
            "568/568 - 1s - loss: 0.3089 - accuracy: 0.8788 - val_loss: 0.3390 - val_accuracy: 0.8479 - 864ms/epoch - 2ms/step\n",
            "Epoch 77/100\n",
            "568/568 - 1s - loss: 0.3082 - accuracy: 0.8777 - val_loss: 0.3369 - val_accuracy: 0.8485 - 1s/epoch - 2ms/step\n",
            "Epoch 78/100\n",
            "568/568 - 1s - loss: 0.3081 - accuracy: 0.8789 - val_loss: 0.3396 - val_accuracy: 0.8402 - 880ms/epoch - 2ms/step\n",
            "Epoch 79/100\n",
            "568/568 - 1s - loss: 0.3077 - accuracy: 0.8784 - val_loss: 0.3387 - val_accuracy: 0.8420 - 895ms/epoch - 2ms/step\n",
            "Epoch 80/100\n",
            "568/568 - 1s - loss: 0.3081 - accuracy: 0.8786 - val_loss: 0.3358 - val_accuracy: 0.8647 - 892ms/epoch - 2ms/step\n",
            "Epoch 81/100\n",
            "568/568 - 1s - loss: 0.3082 - accuracy: 0.8760 - val_loss: 0.3411 - val_accuracy: 0.8452 - 901ms/epoch - 2ms/step\n",
            "Epoch 82/100\n",
            "568/568 - 1s - loss: 0.3076 - accuracy: 0.8788 - val_loss: 0.3370 - val_accuracy: 0.8476 - 1s/epoch - 2ms/step\n",
            "Epoch 83/100\n",
            "568/568 - 2s - loss: 0.3081 - accuracy: 0.8763 - val_loss: 0.3461 - val_accuracy: 0.8278 - 2s/epoch - 3ms/step\n",
            "Epoch 84/100\n",
            "568/568 - 2s - loss: 0.3076 - accuracy: 0.8791 - val_loss: 0.3354 - val_accuracy: 0.8482 - 2s/epoch - 3ms/step\n",
            "Epoch 85/100\n",
            "568/568 - 2s - loss: 0.3074 - accuracy: 0.8779 - val_loss: 0.3416 - val_accuracy: 0.8420 - 2s/epoch - 3ms/step\n",
            "Epoch 86/100\n",
            "568/568 - 1s - loss: 0.3075 - accuracy: 0.8781 - val_loss: 0.3345 - val_accuracy: 0.8620 - 1s/epoch - 2ms/step\n",
            "Epoch 87/100\n",
            "568/568 - 1s - loss: 0.3072 - accuracy: 0.8772 - val_loss: 0.3358 - val_accuracy: 0.8538 - 1s/epoch - 2ms/step\n",
            "Epoch 88/100\n",
            "568/568 - 1s - loss: 0.3070 - accuracy: 0.8783 - val_loss: 0.3405 - val_accuracy: 0.8417 - 1s/epoch - 2ms/step\n",
            "Epoch 89/100\n",
            "568/568 - 1s - loss: 0.3065 - accuracy: 0.8774 - val_loss: 0.3519 - val_accuracy: 0.8264 - 886ms/epoch - 2ms/step\n",
            "Epoch 90/100\n",
            "568/568 - 1s - loss: 0.3067 - accuracy: 0.8782 - val_loss: 0.3455 - val_accuracy: 0.8343 - 891ms/epoch - 2ms/step\n",
            "Epoch 91/100\n",
            "568/568 - 1s - loss: 0.3068 - accuracy: 0.8781 - val_loss: 0.3360 - val_accuracy: 0.8479 - 1s/epoch - 2ms/step\n",
            "Epoch 92/100\n",
            "568/568 - 1s - loss: 0.3061 - accuracy: 0.8790 - val_loss: 0.3344 - val_accuracy: 0.8670 - 1s/epoch - 2ms/step\n",
            "Epoch 93/100\n",
            "568/568 - 1s - loss: 0.3062 - accuracy: 0.8786 - val_loss: 0.3339 - val_accuracy: 0.8520 - 917ms/epoch - 2ms/step\n",
            "Epoch 94/100\n",
            "568/568 - 1s - loss: 0.3061 - accuracy: 0.8776 - val_loss: 0.3388 - val_accuracy: 0.8426 - 893ms/epoch - 2ms/step\n",
            "Epoch 95/100\n",
            "568/568 - 1s - loss: 0.3060 - accuracy: 0.8782 - val_loss: 0.3388 - val_accuracy: 0.8438 - 1s/epoch - 2ms/step\n",
            "Epoch 96/100\n",
            "568/568 - 1s - loss: 0.3059 - accuracy: 0.8777 - val_loss: 0.3337 - val_accuracy: 0.8573 - 1s/epoch - 2ms/step\n",
            "Epoch 97/100\n",
            "568/568 - 1s - loss: 0.3057 - accuracy: 0.8782 - val_loss: 0.3358 - val_accuracy: 0.8561 - 1s/epoch - 2ms/step\n",
            "Epoch 98/100\n",
            "568/568 - 1s - loss: 0.3058 - accuracy: 0.8771 - val_loss: 0.3365 - val_accuracy: 0.8508 - 1s/epoch - 2ms/step\n",
            "Epoch 99/100\n",
            "568/568 - 1s - loss: 0.3058 - accuracy: 0.8775 - val_loss: 0.3334 - val_accuracy: 0.8659 - 1s/epoch - 2ms/step\n",
            "Epoch 100/100\n",
            "568/568 - 1s - loss: 0.3061 - accuracy: 0.8771 - val_loss: 0.3350 - val_accuracy: 0.8564 - 885ms/epoch - 2ms/step\n",
            "Neural Network took 142.81418371200562 seconds to train.\n"
          ]
        }
      ],
      "source": [
        "batch_size = 24 # The number of samples the network sees before it backpropagates (batch size) # 24 & 32 yield accuracy = 87%\n",
        "epochs = 100 # The number of times the network will loop through the entire dataset (epochs)\n",
        "shuffle = True # Set whether to shuffle the training data so the model doesn't see it sequentially \n",
        "verbose = 2 # Set whether the model will output information when trained (0 = no output; 2 = output accuracy every epoch)\n",
        "\n",
        "# Train the neural network!\n",
        "start = time.time()\n",
        "\n",
        "history = nn.fit(x_train_bal, y_train_bal, validation_data=(x_test_bal, y_test_bal), \n",
        "          batch_size=batch_size, epochs=epochs, shuffle=shuffle, verbose=verbose)\n",
        "\n",
        "end = time.time()\n",
        "print(\"Neural Network took \"+str(end-start)+\" seconds to train.\")"
      ]
    },
    {
      "cell_type": "markdown",
      "metadata": {
        "id": "ZIRXvLr7IV5I"
      },
      "source": [
        "#### Accuracy & loss with epochs\n",
        "Neural networks train in __epochs__. During each epoch, the model trains by sweeping over each layer, adjusting weights based on their resulting errors, through processes called __forward propagation__ and __backpropagation__. By plotting the model accuracy & loss which each epoch, we can visualize how the model error evolves with training."
      ]
    },
    {
      "cell_type": "code",
      "execution_count": 43,
      "metadata": {
        "id": "xF9OWn5vIV5J",
        "colab": {
          "base_uri": "https://localhost:8080/",
          "height": 470
        },
        "outputId": "fe2eb3c9-334e-463b-fe50-a1ada6932d72"
      },
      "outputs": [
        {
          "output_type": "display_data",
          "data": {
            "text/plain": [
              "<Figure size 640x480 with 2 Axes>"
            ],
            "image/png": "[encoded data removed]"
          },
          "metadata": {}
        }
      ],
      "source": [
        "figure, axes = plt.subplots(nrows=2,ncols=1)\n",
        "figure.tight_layout(pad=3.0)\n",
        "\n",
        "# plot accuracy during training\n",
        "plt.subplot(211)\n",
        "plt.title('Accuracy')\n",
        "plt.plot(history.history['accuracy'], label='train')\n",
        "plt.plot(history.history['val_accuracy'], label='test')\n",
        "plt.legend();\n",
        "\n",
        "# plot loss during training\n",
        "plt.subplot(212)\n",
        "plt.title('Loss')\n",
        "plt.plot(history.history['loss'], label='train')\n",
        "plt.plot(history.history['val_loss'], label='test')\n",
        "plt.xlabel(\"Epoch\");\n",
        "plt.legend()\n",
        "plt.show();\n",
        "#test>train is underfit, which is tue for accuracy but overfit for loss?"
      ]
    },
    {
      "cell_type": "markdown",
      "metadata": {
        "id": "Vsp6So4rIV5J"
      },
      "source": [
        "#### 3. Assess Neural Network's performance using testing data"
      ]
    },
    {
      "cell_type": "markdown",
      "metadata": {
        "id": "qN1iP-1QIV5J"
      },
      "source": [
        "Though the accuracy is pictured above, additionally quantify recall on testing data with the same functions used previously to remain consistent"
      ]
    },
    {
      "cell_type": "code",
      "execution_count": 44,
      "metadata": {
        "id": "jdws43tQIV5J",
        "colab": {
          "base_uri": "https://localhost:8080/",
          "height": 501
        },
        "outputId": "abaec65d-11b9-4b04-b21f-1f032921a816"
      },
      "outputs": [
        {
          "output_type": "stream",
          "name": "stdout",
          "text": [
            "106/106 [==============================] - 0s 2ms/step\n",
            "Accuracy: 0.8564\n",
            "Recall: 0.8443\n"
          ]
        },
        {
          "output_type": "display_data",
          "data": {
            "text/plain": [
              "<Figure size 640x480 with 2 Axes>"
            ],
            "image/png": "[encoded data removed]"
          },
          "metadata": {}
        }
      ],
      "source": [
        "pred_test= (nn.predict(x_test_bal)>0.5).astype(\"int32\")\n",
        "nn_acc, nn_rec = bin_metrics(y_test_bal, pred_test)\n",
        "plot_cm(y_test_bal, pred_test) #looks pretty good, not as good as the first model but still more false positives than false negatives which i think is good "
      ]
    },
    {
      "cell_type": "markdown",
      "metadata": {
        "id": "NiEeD7PrIV5J"
      },
      "source": [
        "#### 4. Check to see if the Neural Network is overfitting"
      ]
    },
    {
      "cell_type": "code",
      "execution_count": 45,
      "metadata": {
        "id": "X0fpB02JIV5J",
        "colab": {
          "base_uri": "https://localhost:8080/"
        },
        "outputId": "d3908858-267e-49d3-f99d-37b033e9b551"
      },
      "outputs": [
        {
          "output_type": "stream",
          "name": "stdout",
          "text": [
            "Training metrics:\n",
            "426/426 [==============================] - 1s 2ms/step\n",
            "Accuracy: 0.878\n",
            "Recall: 0.904\n",
            " \n",
            "Testing metrics:\n",
            "Accuracy: 0.8564\n",
            "Recall: 0.8443\n"
          ]
        }
      ],
      "source": [
        "# Compare testing data metrics to data training metrics.\n",
        "print(\"Training metrics:\")\n",
        "nn_pred_train= (nn.predict(x_train_bal)>0.5).astype(\"int32\")\n",
        "bin_metrics(y_train_bal,nn_pred_train);\n",
        "\n",
        "# As a reminder, display testing metrics: this one did not overfit though? \n",
        "print(\" \")\n",
        "print(\"Testing metrics:\")\n",
        "bin_metrics(y_test_bal, pred_test);"
      ]
    },
    {
      "cell_type": "markdown",
      "metadata": {
        "id": "4HlhM-jeIV5J"
      },
      "source": [
        "Neural networks can easily overfit because they are very complex and can fit to the training data extremely well,  which prevents them from generalizing to other data (like the testing data). "
      ]
    },
    {
      "cell_type": "markdown",
      "metadata": {
        "id": "QvwMPHH6IV5J"
      },
      "source": [
        "#### 5. Make a prediction with the Neural Network"
      ]
    },
    {
      "cell_type": "code",
      "execution_count": 46,
      "metadata": {
        "id": "EvjRyCL2IV5J",
        "colab": {
          "base_uri": "https://localhost:8080/"
        },
        "outputId": "2a57d8c2-f3df-49a4-8596-b3e0526d9835"
      },
      "outputs": [
        {
          "output_type": "stream",
          "name": "stdout",
          "text": [
            "1/1 [==============================] - 0s 75ms/step\n",
            "The meteorological conditions are: \n",
            "day             42626.00\n",
            "hour                0.25\n",
            "temp_F             44.10\n",
            "RH                 88.40\n",
            "dewtemp_F          40.90\n",
            "wind_mph            3.50\n",
            "wind_dir          111.00\n",
            "windgust            7.80\n",
            "windgust_dir       88.00\n",
            "pres_Hg           847.42\n",
            "SOLIN_Wm2           0.90\n",
            "Prec_inches         0.01\n",
            "prec_occur          1.00\n",
            "Name: 6150, dtype: float64\n",
            "There is a 85.56% chance of precipitation given those meteorological conditions.\n"
          ]
        }
      ],
      "source": [
        "# prediction output is in the format [probability no rain, probability rain]\n",
        "nn_prediction = nn.predict(np.array(testpredictor).reshape(1, -1))[0][0]*100\n",
        "print(\"The meteorological conditions are: \")\n",
        "print(origvals)\n",
        "print(\"There is a {0:.{digits}f}% chance of precipitation given those meteorological conditions.\".format(nn_prediction, digits=2))"
      ]
    },
    {
      "cell_type": "markdown",
      "metadata": {
        "id": "BbeXydz-IV5K"
      },
      "source": [
        "*Interesting... How does the Neural Network's estimate of %chance precip compare to that of the other models? See below for final intermodel comparison.*"
      ]
    },
    {
      "cell_type": "markdown",
      "metadata": {
        "id": "9x9ZXeU9IV5K"
      },
      "source": [
        "<br><br>"
      ]
    },
    {
      "cell_type": "markdown",
      "metadata": {
        "id": "1mqIMn6nIV5K"
      },
      "source": [
        "---------------------------------------------"
      ]
    },
    {
      "cell_type": "markdown",
      "metadata": {
        "id": "y--hxNdPIV5K"
      },
      "source": [
        "# Final intermodel comparison"
      ]
    },
    {
      "cell_type": "code",
      "execution_count": 47,
      "metadata": {
        "id": "I0uA5ZBHIV5K",
        "colab": {
          "base_uri": "https://localhost:8080/",
          "height": 175
        },
        "outputId": "6abca184-ffb5-4384-bfa3-00d54d77f723"
      },
      "outputs": [
        {
          "output_type": "execute_result",
          "data": {
            "text/plain": [
              "                    Logistic Regression  Random Forest  Neural Network\n",
              "Metrics                                                               \n",
              "Accuracy                       0.826946       0.806604        0.856427\n",
              "Recall                         0.827241       0.752358        0.844340\n",
              "Prediction example            85.708771      66.019570       85.561997"
            ],
            "text/html": [
              "\n",
              "  <div id=\"df-ee6532f9-05a6-4b8f-8405-7ef0bc1ccab9\">\n",
              "    <div class=\"colab-df-container\">\n",
              "      <div>\n",
              "<style scoped>\n",
              "    .dataframe tbody tr th:only-of-type {\n",
              "        vertical-align: middle;\n",
              "    }\n",
              "\n",
              "    .dataframe tbody tr th {\n",
              "        vertical-align: top;\n",
              "    }\n",
              "\n",
              "    .dataframe thead th {\n",
              "        text-align: right;\n",
              "    }\n",
              "</style>\n",
              "<table border=\"1\" class=\"dataframe\">\n",
              "  <thead>\n",
              "    <tr style=\"text-align: right;\">\n",
              "      <th></th>\n",
              "      <th>Logistic Regression</th>\n",
              "      <th>Random Forest</th>\n",
              "      <th>Neural Network</th>\n",
              "    </tr>\n",
              "    <tr>\n",
              "      <th>Metrics</th>\n",
              "      <th></th>\n",
              "      <th></th>\n",
              "      <th></th>\n",
              "    </tr>\n",
              "  </thead>\n",
              "  <tbody>\n",
              "    <tr>\n",
              "      <th>Accuracy</th>\n",
              "      <td>0.826946</td>\n",
              "      <td>0.806604</td>\n",
              "      <td>0.856427</td>\n",
              "    </tr>\n",
              "    <tr>\n",
              "      <th>Recall</th>\n",
              "      <td>0.827241</td>\n",
              "      <td>0.752358</td>\n",
              "      <td>0.844340</td>\n",
              "    </tr>\n",
              "    <tr>\n",
              "      <th>Prediction example</th>\n",
              "      <td>85.708771</td>\n",
              "      <td>66.019570</td>\n",
              "      <td>85.561997</td>\n",
              "    </tr>\n",
              "  </tbody>\n",
              "</table>\n",
              "</div>\n",
              "      <button class=\"colab-df-convert\" onclick=\"convertToInteractive('df-ee6532f9-05a6-4b8f-8405-7ef0bc1ccab9')\"\n",
              "              title=\"Convert this dataframe to an interactive table.\"\n",
              "              style=\"display:none;\">\n",
              "        \n",
              "  <svg xmlns=\"http://www.w3.org/2000/svg\" height=\"24px\"viewBox=\"0 0 24 24\"\n",
              "       width=\"24px\">\n",
              "    <path d=\"M0 0h24v24H0V0z\" fill=\"none\"/>\n",
              "    <path d=\"M18.56 5.44l.94 2.06.94-2.06 2.06-.94-2.06-.94-.94-2.06-.94 2.06-2.06.94zm-11 1L8.5 8.5l.94-2.06 2.06-.94-2.06-.94L8.5 2.5l-.94 2.06-2.06.94zm10 10l.94 2.06.94-2.06 2.06-.94-2.06-.94-.94-2.06-.94 2.06-2.06.94z\"/><path d=\"M17.41 7.96l-1.37-1.37c-.4-.4-.92-.59-1.43-.59-.52 0-1.04.2-1.43.59L10.3 9.45l-7.72 7.72c-.78.78-.78 2.05 0 2.83L4 21.41c.39.39.9.59 1.41.59.51 0 1.02-.2 1.41-.59l7.78-7.78 2.81-2.81c.8-.78.8-2.07 0-2.86zM5.41 20L4 18.59l7.72-7.72 1.47 1.35L5.41 20z\"/>\n",
              "  </svg>\n",
              "      </button>\n",
              "      \n",
              "  <style>\n",
              "    .colab-df-container {\n",
              "      display:flex;\n",
              "      flex-wrap:wrap;\n",
              "      gap: 12px;\n",
              "    }\n",
              "\n",
              "    .colab-df-convert {\n",
              "      background-color: #E8F0FE;\n",
              "      border: none;\n",
              "      border-radius: 50%;\n",
              "      cursor: pointer;\n",
              "      display: none;\n",
              "      fill: #1967D2;\n",
              "      height: 32px;\n",
              "      padding: 0 0 0 0;\n",
              "      width: 32px;\n",
              "    }\n",
              "\n",
              "    .colab-df-convert:hover {\n",
              "      background-color: #E2EBFA;\n",
              "      box-shadow: 0px 1px 2px rgba(60, 64, 67, 0.3), 0px 1px 3px 1px rgba(60, 64, 67, 0.15);\n",
              "      fill: #174EA6;\n",
              "    }\n",
              "\n",
              "    [theme=dark] .colab-df-convert {\n",
              "      background-color: #3B4455;\n",
              "      fill: #D2E3FC;\n",
              "    }\n",
              "\n",
              "    [theme=dark] .colab-df-convert:hover {\n",
              "      background-color: #434B5C;\n",
              "      box-shadow: 0px 1px 3px 1px rgba(0, 0, 0, 0.15);\n",
              "      filter: drop-shadow(0px 1px 2px rgba(0, 0, 0, 0.3));\n",
              "      fill: #FFFFFF;\n",
              "    }\n",
              "  </style>\n",
              "\n",
              "      <script>\n",
              "        const buttonEl =\n",
              "          document.querySelector('#df-ee6532f9-05a6-4b8f-8405-7ef0bc1ccab9 button.colab-df-convert');\n",
              "        buttonEl.style.display =\n",
              "          google.colab.kernel.accessAllowed ? 'block' : 'none';\n",
              "\n",
              "        async function convertToInteractive(key) {\n",
              "          const element = document.querySelector('#df-ee6532f9-05a6-4b8f-8405-7ef0bc1ccab9');\n",
              "          const dataTable =\n",
              "            await google.colab.kernel.invokeFunction('convertToInteractive',\n",
              "                                                     [key], {});\n",
              "          if (!dataTable) return;\n",
              "\n",
              "          const docLinkHtml = 'Like what you see? Visit the ' +\n",
              "            '<a target=\"_blank\" href=https://colab.research.google.com/notebooks/data_table.ipynb>data table notebook</a>'\n",
              "            + ' to learn more about interactive tables.';\n",
              "          element.innerHTML = '';\n",
              "          dataTable['output_type'] = 'display_data';\n",
              "          await google.colab.output.renderOutput(dataTable, element);\n",
              "          const docLink = document.createElement('div');\n",
              "          docLink.innerHTML = docLinkHtml;\n",
              "          element.appendChild(docLink);\n",
              "        }\n",
              "      </script>\n",
              "    </div>\n",
              "  </div>\n",
              "  "
            ]
          },
          "metadata": {},
          "execution_count": 47
        }
      ],
      "source": [
        "model_metrics = pd.DataFrame({'Metrics':['Accuracy','Recall','Prediction example'],\n",
        "    'Logistic Regression':[lr_acc, lr_rec, lr_prediction],\n",
        "    'Random Forest':[forest_acc, forest_rec, forest_prediction],\n",
        "    'Neural Network':[nn_acc, nn_rec, nn_prediction]})\n",
        "model_metrics = model_metrics.set_index('Metrics')\n",
        "model_metrics #the neural network is the best. the random forest I new was going to be bad "
      ]
    },
    {
      "cell_type": "markdown",
      "metadata": {
        "id": "NH85_804IV5K"
      },
      "source": [
        "<br><br>"
      ]
    },
    {
      "cell_type": "markdown",
      "metadata": {
        "id": "32-_q9y8IV5K"
      },
      "source": [
        "---------------------------------------------"
      ]
    },
    {
      "cell_type": "markdown",
      "metadata": {
        "id": "XIalmxJiIV5K"
      },
      "source": [
        "# Feature Importance"
      ]
    },
    {
      "cell_type": "markdown",
      "metadata": {
        "id": "8tBTst1_IV5K"
      },
      "source": [
        "The code below shows the way one would identify the most important features in each model, i.e., the best predictors of rainfall. The code looks a little different from model to model."
      ]
    },
    {
      "cell_type": "code",
      "execution_count": 48,
      "metadata": {
        "id": "YRN5ORkGIV5K"
      },
      "outputs": [],
      "source": [
        "# If you want to look at the pre-scaled data used in the models, uncomment the line below\n",
        "#x"
      ]
    },
    {
      "cell_type": "markdown",
      "metadata": {
        "id": "Z7f2SHGGIV5K"
      },
      "source": [
        "#### Feature Importance in Logistic Regression:"
      ]
    },
    {
      "cell_type": "markdown",
      "source": [
        "Luckily, feature importance in linear models is usually quite easy to obtain. "
      ],
      "metadata": {
        "id": "OMCCxOUpTkxH"
      }
    },
    {
      "cell_type": "code",
      "execution_count": 49,
      "metadata": {
        "id": "x6vpbLsTIV5L",
        "colab": {
          "base_uri": "https://localhost:8080/",
          "height": 331
        },
        "outputId": "850df221-d194-4fc6-aacf-ee095ae2937e"
      },
      "outputs": [
        {
          "output_type": "execute_result",
          "data": {
            "text/plain": [
              "              importance\n",
              "RH              9.312343\n",
              "windgust        9.039281\n",
              "temp_F          2.496216\n",
              "SOLIN_Wm2       1.775145\n",
              "dewtemp_F       1.392580\n",
              "pres_Hg         0.988113\n",
              "wind_mph        0.358548\n",
              "windgust_dir    0.228812\n",
              "wind_dir        0.149672"
            ],
            "text/html": [
              "\n",
              "  <div id=\"df-9015d8e1-79a0-4039-8939-d305cdcd97e2\">\n",
              "    <div class=\"colab-df-container\">\n",
              "      <div>\n",
              "<style scoped>\n",
              "    .dataframe tbody tr th:only-of-type {\n",
              "        vertical-align: middle;\n",
              "    }\n",
              "\n",
              "    .dataframe tbody tr th {\n",
              "        vertical-align: top;\n",
              "    }\n",
              "\n",
              "    .dataframe thead th {\n",
              "        text-align: right;\n",
              "    }\n",
              "</style>\n",
              "<table border=\"1\" class=\"dataframe\">\n",
              "  <thead>\n",
              "    <tr style=\"text-align: right;\">\n",
              "      <th></th>\n",
              "      <th>importance</th>\n",
              "    </tr>\n",
              "  </thead>\n",
              "  <tbody>\n",
              "    <tr>\n",
              "      <th>RH</th>\n",
              "      <td>9.312343</td>\n",
              "    </tr>\n",
              "    <tr>\n",
              "      <th>windgust</th>\n",
              "      <td>9.039281</td>\n",
              "    </tr>\n",
              "    <tr>\n",
              "      <th>temp_F</th>\n",
              "      <td>2.496216</td>\n",
              "    </tr>\n",
              "    <tr>\n",
              "      <th>SOLIN_Wm2</th>\n",
              "      <td>1.775145</td>\n",
              "    </tr>\n",
              "    <tr>\n",
              "      <th>dewtemp_F</th>\n",
              "      <td>1.392580</td>\n",
              "    </tr>\n",
              "    <tr>\n",
              "      <th>pres_Hg</th>\n",
              "      <td>0.988113</td>\n",
              "    </tr>\n",
              "    <tr>\n",
              "      <th>wind_mph</th>\n",
              "      <td>0.358548</td>\n",
              "    </tr>\n",
              "    <tr>\n",
              "      <th>windgust_dir</th>\n",
              "      <td>0.228812</td>\n",
              "    </tr>\n",
              "    <tr>\n",
              "      <th>wind_dir</th>\n",
              "      <td>0.149672</td>\n",
              "    </tr>\n",
              "  </tbody>\n",
              "</table>\n",
              "</div>\n",
              "      <button class=\"colab-df-convert\" onclick=\"convertToInteractive('df-9015d8e1-79a0-4039-8939-d305cdcd97e2')\"\n",
              "              title=\"Convert this dataframe to an interactive table.\"\n",
              "              style=\"display:none;\">\n",
              "        \n",
              "  <svg xmlns=\"http://www.w3.org/2000/svg\" height=\"24px\"viewBox=\"0 0 24 24\"\n",
              "       width=\"24px\">\n",
              "    <path d=\"M0 0h24v24H0V0z\" fill=\"none\"/>\n",
              "    <path d=\"M18.56 5.44l.94 2.06.94-2.06 2.06-.94-2.06-.94-.94-2.06-.94 2.06-2.06.94zm-11 1L8.5 8.5l.94-2.06 2.06-.94-2.06-.94L8.5 2.5l-.94 2.06-2.06.94zm10 10l.94 2.06.94-2.06 2.06-.94-2.06-.94-.94-2.06-.94 2.06-2.06.94z\"/><path d=\"M17.41 7.96l-1.37-1.37c-.4-.4-.92-.59-1.43-.59-.52 0-1.04.2-1.43.59L10.3 9.45l-7.72 7.72c-.78.78-.78 2.05 0 2.83L4 21.41c.39.39.9.59 1.41.59.51 0 1.02-.2 1.41-.59l7.78-7.78 2.81-2.81c.8-.78.8-2.07 0-2.86zM5.41 20L4 18.59l7.72-7.72 1.47 1.35L5.41 20z\"/>\n",
              "  </svg>\n",
              "      </button>\n",
              "      \n",
              "  <style>\n",
              "    .colab-df-container {\n",
              "      display:flex;\n",
              "      flex-wrap:wrap;\n",
              "      gap: 12px;\n",
              "    }\n",
              "\n",
              "    .colab-df-convert {\n",
              "      background-color: #E8F0FE;\n",
              "      border: none;\n",
              "      border-radius: 50%;\n",
              "      cursor: pointer;\n",
              "      display: none;\n",
              "      fill: #1967D2;\n",
              "      height: 32px;\n",
              "      padding: 0 0 0 0;\n",
              "      width: 32px;\n",
              "    }\n",
              "\n",
              "    .colab-df-convert:hover {\n",
              "      background-color: #E2EBFA;\n",
              "      box-shadow: 0px 1px 2px rgba(60, 64, 67, 0.3), 0px 1px 3px 1px rgba(60, 64, 67, 0.15);\n",
              "      fill: #174EA6;\n",
              "    }\n",
              "\n",
              "    [theme=dark] .colab-df-convert {\n",
              "      background-color: #3B4455;\n",
              "      fill: #D2E3FC;\n",
              "    }\n",
              "\n",
              "    [theme=dark] .colab-df-convert:hover {\n",
              "      background-color: #434B5C;\n",
              "      box-shadow: 0px 1px 3px 1px rgba(0, 0, 0, 0.15);\n",
              "      filter: drop-shadow(0px 1px 2px rgba(0, 0, 0, 0.3));\n",
              "      fill: #FFFFFF;\n",
              "    }\n",
              "  </style>\n",
              "\n",
              "      <script>\n",
              "        const buttonEl =\n",
              "          document.querySelector('#df-9015d8e1-79a0-4039-8939-d305cdcd97e2 button.colab-df-convert');\n",
              "        buttonEl.style.display =\n",
              "          google.colab.kernel.accessAllowed ? 'block' : 'none';\n",
              "\n",
              "        async function convertToInteractive(key) {\n",
              "          const element = document.querySelector('#df-9015d8e1-79a0-4039-8939-d305cdcd97e2');\n",
              "          const dataTable =\n",
              "            await google.colab.kernel.invokeFunction('convertToInteractive',\n",
              "                                                     [key], {});\n",
              "          if (!dataTable) return;\n",
              "\n",
              "          const docLinkHtml = 'Like what you see? Visit the ' +\n",
              "            '<a target=\"_blank\" href=https://colab.research.google.com/notebooks/data_table.ipynb>data table notebook</a>'\n",
              "            + ' to learn more about interactive tables.';\n",
              "          element.innerHTML = '';\n",
              "          dataTable['output_type'] = 'display_data';\n",
              "          await google.colab.output.renderOutput(dataTable, element);\n",
              "          const docLink = document.createElement('div');\n",
              "          docLink.innerHTML = docLinkHtml;\n",
              "          element.appendChild(docLink);\n",
              "        }\n",
              "      </script>\n",
              "    </div>\n",
              "  </div>\n",
              "  "
            ]
          },
          "metadata": {},
          "execution_count": 49
        }
      ],
      "source": [
        "pd.DataFrame(abs(lr.coef_[0]),\n",
        "             index = x.columns,\n",
        "             columns=['importance']).sort_values('importance',ascending=False)"
      ]
    },
    {
      "cell_type": "markdown",
      "metadata": {
        "id": "uavgPQ2lIV5L"
      },
      "source": [
        "#### Finding most important features in a Random Forest model"
      ]
    },
    {
      "cell_type": "markdown",
      "source": [
        "There are a number of different ways to calculate feature importance in tree-based algorithms. We are using the default feature importance algorithm here found in the Random Forest package, which are **Gini importance**. In some instances, [Gini Importance can falseley put too much importance on some features if the model is overfitting](https://scikit-learn.org/stable/auto_examples/inspection/plot_permutation_importance.html). Some find that **permutation importance** or, better yet, [**SHAP values**](https://shap.readthedocs.io/en/latest/example_notebooks/overviews/An%20introduction%20to%20explainable%20AI%20with%20Shapley%20values.html) are a more robust way to derive feature importances (albeit more costly and perhaps a little more difficult to understand). <br><br>\n",
        "*Side note: the site linked above that documents the python package for calculating SHAP values [provides a nice warning](https://shap.readthedocs.io/en/latest/example_notebooks/overviews/Be%20careful%20when%20interpreting%20predictive%20models%20in%20search%20of%20causal%C2%A0insights.html) about overinterpreting the results of feature importance!*"
      ],
      "metadata": {
        "id": "yA5i420aRQD-"
      }
    },
    {
      "cell_type": "code",
      "execution_count": 50,
      "metadata": {
        "id": "t2m2Y3NJIV5L",
        "colab": {
          "base_uri": "https://localhost:8080/",
          "height": 331
        },
        "outputId": "1ba7171d-d3dd-46ea-fb98-93db1b76f163"
      },
      "outputs": [
        {
          "output_type": "execute_result",
          "data": {
            "text/plain": [
              "              importance\n",
              "RH              0.635667\n",
              "dewtemp_F       0.133719\n",
              "wind_mph        0.065635\n",
              "windgust        0.062955\n",
              "SOLIN_Wm2       0.047095\n",
              "wind_dir        0.030335\n",
              "temp_F          0.020919\n",
              "windgust_dir    0.003675\n",
              "pres_Hg         0.000000"
            ],
            "text/html": [
              "\n",
              "  <div id=\"df-009827c1-b1a1-4c2b-b8b1-510ec3cb1818\">\n",
              "    <div class=\"colab-df-container\">\n",
              "      <div>\n",
              "<style scoped>\n",
              "    .dataframe tbody tr th:only-of-type {\n",
              "        vertical-align: middle;\n",
              "    }\n",
              "\n",
              "    .dataframe tbody tr th {\n",
              "        vertical-align: top;\n",
              "    }\n",
              "\n",
              "    .dataframe thead th {\n",
              "        text-align: right;\n",
              "    }\n",
              "</style>\n",
              "<table border=\"1\" class=\"dataframe\">\n",
              "  <thead>\n",
              "    <tr style=\"text-align: right;\">\n",
              "      <th></th>\n",
              "      <th>importance</th>\n",
              "    </tr>\n",
              "  </thead>\n",
              "  <tbody>\n",
              "    <tr>\n",
              "      <th>RH</th>\n",
              "      <td>0.635667</td>\n",
              "    </tr>\n",
              "    <tr>\n",
              "      <th>dewtemp_F</th>\n",
              "      <td>0.133719</td>\n",
              "    </tr>\n",
              "    <tr>\n",
              "      <th>wind_mph</th>\n",
              "      <td>0.065635</td>\n",
              "    </tr>\n",
              "    <tr>\n",
              "      <th>windgust</th>\n",
              "      <td>0.062955</td>\n",
              "    </tr>\n",
              "    <tr>\n",
              "      <th>SOLIN_Wm2</th>\n",
              "      <td>0.047095</td>\n",
              "    </tr>\n",
              "    <tr>\n",
              "      <th>wind_dir</th>\n",
              "      <td>0.030335</td>\n",
              "    </tr>\n",
              "    <tr>\n",
              "      <th>temp_F</th>\n",
              "      <td>0.020919</td>\n",
              "    </tr>\n",
              "    <tr>\n",
              "      <th>windgust_dir</th>\n",
              "      <td>0.003675</td>\n",
              "    </tr>\n",
              "    <tr>\n",
              "      <th>pres_Hg</th>\n",
              "      <td>0.000000</td>\n",
              "    </tr>\n",
              "  </tbody>\n",
              "</table>\n",
              "</div>\n",
              "      <button class=\"colab-df-convert\" onclick=\"convertToInteractive('df-009827c1-b1a1-4c2b-b8b1-510ec3cb1818')\"\n",
              "              title=\"Convert this dataframe to an interactive table.\"\n",
              "              style=\"display:none;\">\n",
              "        \n",
              "  <svg xmlns=\"http://www.w3.org/2000/svg\" height=\"24px\"viewBox=\"0 0 24 24\"\n",
              "       width=\"24px\">\n",
              "    <path d=\"M0 0h24v24H0V0z\" fill=\"none\"/>\n",
              "    <path d=\"M18.56 5.44l.94 2.06.94-2.06 2.06-.94-2.06-.94-.94-2.06-.94 2.06-2.06.94zm-11 1L8.5 8.5l.94-2.06 2.06-.94-2.06-.94L8.5 2.5l-.94 2.06-2.06.94zm10 10l.94 2.06.94-2.06 2.06-.94-2.06-.94-.94-2.06-.94 2.06-2.06.94z\"/><path d=\"M17.41 7.96l-1.37-1.37c-.4-.4-.92-.59-1.43-.59-.52 0-1.04.2-1.43.59L10.3 9.45l-7.72 7.72c-.78.78-.78 2.05 0 2.83L4 21.41c.39.39.9.59 1.41.59.51 0 1.02-.2 1.41-.59l7.78-7.78 2.81-2.81c.8-.78.8-2.07 0-2.86zM5.41 20L4 18.59l7.72-7.72 1.47 1.35L5.41 20z\"/>\n",
              "  </svg>\n",
              "      </button>\n",
              "      \n",
              "  <style>\n",
              "    .colab-df-container {\n",
              "      display:flex;\n",
              "      flex-wrap:wrap;\n",
              "      gap: 12px;\n",
              "    }\n",
              "\n",
              "    .colab-df-convert {\n",
              "      background-color: #E8F0FE;\n",
              "      border: none;\n",
              "      border-radius: 50%;\n",
              "      cursor: pointer;\n",
              "      display: none;\n",
              "      fill: #1967D2;\n",
              "      height: 32px;\n",
              "      padding: 0 0 0 0;\n",
              "      width: 32px;\n",
              "    }\n",
              "\n",
              "    .colab-df-convert:hover {\n",
              "      background-color: #E2EBFA;\n",
              "      box-shadow: 0px 1px 2px rgba(60, 64, 67, 0.3), 0px 1px 3px 1px rgba(60, 64, 67, 0.15);\n",
              "      fill: #174EA6;\n",
              "    }\n",
              "\n",
              "    [theme=dark] .colab-df-convert {\n",
              "      background-color: #3B4455;\n",
              "      fill: #D2E3FC;\n",
              "    }\n",
              "\n",
              "    [theme=dark] .colab-df-convert:hover {\n",
              "      background-color: #434B5C;\n",
              "      box-shadow: 0px 1px 3px 1px rgba(0, 0, 0, 0.15);\n",
              "      filter: drop-shadow(0px 1px 2px rgba(0, 0, 0, 0.3));\n",
              "      fill: #FFFFFF;\n",
              "    }\n",
              "  </style>\n",
              "\n",
              "      <script>\n",
              "        const buttonEl =\n",
              "          document.querySelector('#df-009827c1-b1a1-4c2b-b8b1-510ec3cb1818 button.colab-df-convert');\n",
              "        buttonEl.style.display =\n",
              "          google.colab.kernel.accessAllowed ? 'block' : 'none';\n",
              "\n",
              "        async function convertToInteractive(key) {\n",
              "          const element = document.querySelector('#df-009827c1-b1a1-4c2b-b8b1-510ec3cb1818');\n",
              "          const dataTable =\n",
              "            await google.colab.kernel.invokeFunction('convertToInteractive',\n",
              "                                                     [key], {});\n",
              "          if (!dataTable) return;\n",
              "\n",
              "          const docLinkHtml = 'Like what you see? Visit the ' +\n",
              "            '<a target=\"_blank\" href=https://colab.research.google.com/notebooks/data_table.ipynb>data table notebook</a>'\n",
              "            + ' to learn more about interactive tables.';\n",
              "          element.innerHTML = '';\n",
              "          dataTable['output_type'] = 'display_data';\n",
              "          await google.colab.output.renderOutput(dataTable, element);\n",
              "          const docLink = document.createElement('div');\n",
              "          docLink.innerHTML = docLinkHtml;\n",
              "          element.appendChild(docLink);\n",
              "        }\n",
              "      </script>\n",
              "    </div>\n",
              "  </div>\n",
              "  "
            ]
          },
          "metadata": {},
          "execution_count": 50
        }
      ],
      "source": [
        "pd.DataFrame(forest.feature_importances_,\n",
        "                                   index = x.columns, \n",
        "                                   columns=['importance']).sort_values('importance', ascending=False)"
      ]
    },
    {
      "cell_type": "markdown",
      "metadata": {
        "id": "MBCrLvOcIV5L"
      },
      "source": [
        "#### Neural Network feature importance"
      ]
    },
    {
      "cell_type": "markdown",
      "source": [
        "Feature importance from Neural Nets is not so straightforward. The approach implemented below makes a prediction for each feature - setting each feature to equal 1 and the rest to 0, and repeating fo reach feature. "
      ],
      "metadata": {
        "id": "_t4hSM_RTtKl"
      }
    },
    {
      "cell_type": "code",
      "source": [
        "df['temp_F']"
      ],
      "metadata": {
        "id": "ki7egQHkUWtw",
        "colab": {
          "base_uri": "https://localhost:8080/"
        },
        "outputId": "953cd766-1d24-4199-c3c3-0bf99ff8fbff"
      },
      "execution_count": 51,
      "outputs": [
        {
          "output_type": "execute_result",
          "data": {
            "text/plain": [
              "0        7.0\n",
              "1        5.4\n",
              "2        6.4\n",
              "3        3.0\n",
              "4        3.7\n",
              "        ... \n",
              "8779    22.3\n",
              "8780    20.3\n",
              "8781    19.9\n",
              "8782    17.8\n",
              "8783    16.3\n",
              "Name: temp_F, Length: 8784, dtype: float64"
            ]
          },
          "metadata": {},
          "execution_count": 51
        }
      ]
    },
    {
      "cell_type": "code",
      "execution_count": 52,
      "metadata": {
        "id": "bBiDtqdhIV5L",
        "colab": {
          "base_uri": "https://localhost:8080/"
        },
        "outputId": "77c942f0-eb49-4f1c-8377-2f8edb07a6c3"
      },
      "outputs": [
        {
          "output_type": "stream",
          "name": "stdout",
          "text": [
            "1/1 [==============================] - 0s 75ms/step\n",
            "1/1 [==============================] - 0s 31ms/step\n",
            "1/1 [==============================] - 0s 34ms/step\n",
            "1/1 [==============================] - 0s 34ms/step\n",
            "1/1 [==============================] - 0s 42ms/step\n",
            "1/1 [==============================] - 0s 33ms/step\n",
            "1/1 [==============================] - 0s 45ms/step\n",
            "1/1 [==============================] - 0s 38ms/step\n",
            "1/1 [==============================] - 0s 35ms/step\n"
          ]
        }
      ],
      "source": [
        "cols = x.columns.values\n",
        "nn_featimportance = []\n",
        "for var in cols:\n",
        "    # create a vector corresponding to a 1 where the feature is located:\n",
        "    inputvector = np.array((cols==var).astype(int).reshape(1, -1))\n",
        "    nn_featimportance.append(nn.predict(inputvector)[0][0]*100)"
      ]
    },
    {
      "cell_type": "code",
      "execution_count": 53,
      "metadata": {
        "id": "dp66cpb1IV5L",
        "colab": {
          "base_uri": "https://localhost:8080/",
          "height": 331
        },
        "outputId": "1702f6b4-3325-4ea7-e2ed-9270033d9783"
      },
      "outputs": [
        {
          "output_type": "execute_result",
          "data": {
            "text/plain": [
              "              importance\n",
              "RH             49.261740\n",
              "windgust       43.597159\n",
              "SOLIN_Wm2       1.291589\n",
              "temp_F          0.050975\n",
              "windgust_dir    0.001078\n",
              "wind_mph        0.000806\n",
              "wind_dir        0.000086\n",
              "pres_Hg         0.000075\n",
              "dewtemp_F       0.000004"
            ],
            "text/html": [
              "\n",
              "  <div id=\"df-cde3ac58-4ea4-4325-9441-828ec986df8e\">\n",
              "    <div class=\"colab-df-container\">\n",
              "      <div>\n",
              "<style scoped>\n",
              "    .dataframe tbody tr th:only-of-type {\n",
              "        vertical-align: middle;\n",
              "    }\n",
              "\n",
              "    .dataframe tbody tr th {\n",
              "        vertical-align: top;\n",
              "    }\n",
              "\n",
              "    .dataframe thead th {\n",
              "        text-align: right;\n",
              "    }\n",
              "</style>\n",
              "<table border=\"1\" class=\"dataframe\">\n",
              "  <thead>\n",
              "    <tr style=\"text-align: right;\">\n",
              "      <th></th>\n",
              "      <th>importance</th>\n",
              "    </tr>\n",
              "  </thead>\n",
              "  <tbody>\n",
              "    <tr>\n",
              "      <th>RH</th>\n",
              "      <td>49.261740</td>\n",
              "    </tr>\n",
              "    <tr>\n",
              "      <th>windgust</th>\n",
              "      <td>43.597159</td>\n",
              "    </tr>\n",
              "    <tr>\n",
              "      <th>SOLIN_Wm2</th>\n",
              "      <td>1.291589</td>\n",
              "    </tr>\n",
              "    <tr>\n",
              "      <th>temp_F</th>\n",
              "      <td>0.050975</td>\n",
              "    </tr>\n",
              "    <tr>\n",
              "      <th>windgust_dir</th>\n",
              "      <td>0.001078</td>\n",
              "    </tr>\n",
              "    <tr>\n",
              "      <th>wind_mph</th>\n",
              "      <td>0.000806</td>\n",
              "    </tr>\n",
              "    <tr>\n",
              "      <th>wind_dir</th>\n",
              "      <td>0.000086</td>\n",
              "    </tr>\n",
              "    <tr>\n",
              "      <th>pres_Hg</th>\n",
              "      <td>0.000075</td>\n",
              "    </tr>\n",
              "    <tr>\n",
              "      <th>dewtemp_F</th>\n",
              "      <td>0.000004</td>\n",
              "    </tr>\n",
              "  </tbody>\n",
              "</table>\n",
              "</div>\n",
              "      <button class=\"colab-df-convert\" onclick=\"convertToInteractive('df-cde3ac58-4ea4-4325-9441-828ec986df8e')\"\n",
              "              title=\"Convert this dataframe to an interactive table.\"\n",
              "              style=\"display:none;\">\n",
              "        \n",
              "  <svg xmlns=\"http://www.w3.org/2000/svg\" height=\"24px\"viewBox=\"0 0 24 24\"\n",
              "       width=\"24px\">\n",
              "    <path d=\"M0 0h24v24H0V0z\" fill=\"none\"/>\n",
              "    <path d=\"M18.56 5.44l.94 2.06.94-2.06 2.06-.94-2.06-.94-.94-2.06-.94 2.06-2.06.94zm-11 1L8.5 8.5l.94-2.06 2.06-.94-2.06-.94L8.5 2.5l-.94 2.06-2.06.94zm10 10l.94 2.06.94-2.06 2.06-.94-2.06-.94-.94-2.06-.94 2.06-2.06.94z\"/><path d=\"M17.41 7.96l-1.37-1.37c-.4-.4-.92-.59-1.43-.59-.52 0-1.04.2-1.43.59L10.3 9.45l-7.72 7.72c-.78.78-.78 2.05 0 2.83L4 21.41c.39.39.9.59 1.41.59.51 0 1.02-.2 1.41-.59l7.78-7.78 2.81-2.81c.8-.78.8-2.07 0-2.86zM5.41 20L4 18.59l7.72-7.72 1.47 1.35L5.41 20z\"/>\n",
              "  </svg>\n",
              "      </button>\n",
              "      \n",
              "  <style>\n",
              "    .colab-df-container {\n",
              "      display:flex;\n",
              "      flex-wrap:wrap;\n",
              "      gap: 12px;\n",
              "    }\n",
              "\n",
              "    .colab-df-convert {\n",
              "      background-color: #E8F0FE;\n",
              "      border: none;\n",
              "      border-radius: 50%;\n",
              "      cursor: pointer;\n",
              "      display: none;\n",
              "      fill: #1967D2;\n",
              "      height: 32px;\n",
              "      padding: 0 0 0 0;\n",
              "      width: 32px;\n",
              "    }\n",
              "\n",
              "    .colab-df-convert:hover {\n",
              "      background-color: #E2EBFA;\n",
              "      box-shadow: 0px 1px 2px rgba(60, 64, 67, 0.3), 0px 1px 3px 1px rgba(60, 64, 67, 0.15);\n",
              "      fill: #174EA6;\n",
              "    }\n",
              "\n",
              "    [theme=dark] .colab-df-convert {\n",
              "      background-color: #3B4455;\n",
              "      fill: #D2E3FC;\n",
              "    }\n",
              "\n",
              "    [theme=dark] .colab-df-convert:hover {\n",
              "      background-color: #434B5C;\n",
              "      box-shadow: 0px 1px 3px 1px rgba(0, 0, 0, 0.15);\n",
              "      filter: drop-shadow(0px 1px 2px rgba(0, 0, 0, 0.3));\n",
              "      fill: #FFFFFF;\n",
              "    }\n",
              "  </style>\n",
              "\n",
              "      <script>\n",
              "        const buttonEl =\n",
              "          document.querySelector('#df-cde3ac58-4ea4-4325-9441-828ec986df8e button.colab-df-convert');\n",
              "        buttonEl.style.display =\n",
              "          google.colab.kernel.accessAllowed ? 'block' : 'none';\n",
              "\n",
              "        async function convertToInteractive(key) {\n",
              "          const element = document.querySelector('#df-cde3ac58-4ea4-4325-9441-828ec986df8e');\n",
              "          const dataTable =\n",
              "            await google.colab.kernel.invokeFunction('convertToInteractive',\n",
              "                                                     [key], {});\n",
              "          if (!dataTable) return;\n",
              "\n",
              "          const docLinkHtml = 'Like what you see? Visit the ' +\n",
              "            '<a target=\"_blank\" href=https://colab.research.google.com/notebooks/data_table.ipynb>data table notebook</a>'\n",
              "            + ' to learn more about interactive tables.';\n",
              "          element.innerHTML = '';\n",
              "          dataTable['output_type'] = 'display_data';\n",
              "          await google.colab.output.renderOutput(dataTable, element);\n",
              "          const docLink = document.createElement('div');\n",
              "          docLink.innerHTML = docLinkHtml;\n",
              "          element.appendChild(docLink);\n",
              "        }\n",
              "      </script>\n",
              "    </div>\n",
              "  </div>\n",
              "  "
            ]
          },
          "metadata": {},
          "execution_count": 53
        }
      ],
      "source": [
        "pd.DataFrame( nn_featimportance,\n",
        "             index = x.columns,\n",
        "             columns=['importance']).sort_values('importance',ascending=False)"
      ]
    },
    {
      "cell_type": "markdown",
      "metadata": {
        "id": "o2wGxV-sIV5L"
      },
      "source": [
        "<br><br><br>"
      ]
    },
    {
      "cell_type": "markdown",
      "metadata": {
        "id": "fRC4e7bLIV5L"
      },
      "source": [
        "---------------------------------------------"
      ]
    },
    {
      "cell_type": "markdown",
      "metadata": {
        "id": "X1ansax_IV5L"
      },
      "source": [
        "# Questions"
      ]
    },
    {
      "cell_type": "code",
      "execution_count": 54,
      "metadata": {
        "id": "vWSPnq5lIV5M",
        "colab": {
          "base_uri": "https://localhost:8080/",
          "height": 339
        },
        "outputId": "b0bcfb86-77ec-4409-ee3d-c40d12449002"
      },
      "outputs": [
        {
          "output_type": "error",
          "ename": "ModuleNotFoundError",
          "evalue": "ignored",
          "traceback": [
            "\u001b[0;31m---------------------------------------------------------------------------\u001b[0m",
            "\u001b[0;31mModuleNotFoundError\u001b[0m                       Traceback (most recent call last)",
            "\u001b[0;32m<ipython-input-54-8c8bbdd8f480>\u001b[0m in \u001b[0;36m<cell line: 3>\u001b[0;34m()\u001b[0m\n\u001b[1;32m      1\u001b[0m \u001b[0;32mimport\u001b[0m \u001b[0msys\u001b[0m\u001b[0;34m\u001b[0m\u001b[0;34m\u001b[0m\u001b[0m\n\u001b[1;32m      2\u001b[0m \u001b[0msys\u001b[0m\u001b[0;34m.\u001b[0m\u001b[0mpath\u001b[0m\u001b[0;34m.\u001b[0m\u001b[0mappend\u001b[0m\u001b[0;34m(\u001b[0m\u001b[0;34m'/content/drive/MyDrive/ATOC5860/ATOC5860_Spring2022_share/applicationlab6/'\u001b[0m\u001b[0;34m)\u001b[0m\u001b[0;34m\u001b[0m\u001b[0;34m\u001b[0m\u001b[0m\n\u001b[0;32m----> 3\u001b[0;31m \u001b[0;32mfrom\u001b[0m \u001b[0msolutions\u001b[0m \u001b[0;32mimport\u001b[0m \u001b[0msupervised\u001b[0m\u001b[0;34m\u001b[0m\u001b[0;34m\u001b[0m\u001b[0m\n\u001b[0m",
            "\u001b[0;31mModuleNotFoundError\u001b[0m: No module named 'solutions'",
            "",
            "\u001b[0;31m---------------------------------------------------------------------------\u001b[0;32m\nNOTE: If your import is failing due to a missing package, you can\nmanually install dependencies using either !pip or !apt.\n\nTo view examples of installing some common dependencies, click the\n\"Open Examples\" button below.\n\u001b[0;31m---------------------------------------------------------------------------\u001b[0m\n"
          ],
          "errorDetails": {
            "actions": [
              {
                "action": "open_url",
                "actionText": "Open Examples",
                "url": "/notebooks/snippets/importing_libraries.ipynb"
              }
            ]
          }
        }
      ],
      "source": [
        "import sys #ignoring this :)\n",
        "sys.path.append('/content/drive/MyDrive/ATOC5860/ATOC5860_Spring2022_share/applicationlab6/')\n",
        "from solutions import supervised"
      ]
    },
    {
      "cell_type": "markdown",
      "metadata": {
        "id": "NYxg8uEPIV5M"
      },
      "source": [
        "1. __One important \"gotcha\" in ML is the order of data preparation. Why should one should perform the train-test split *before* feature scaling and rebalancing? *Hint: think about using a trained model for future predictions. Why perform a test-train split at all? Also, what data is considered when scaling a dataset?*__"
      ]
    },
    {
      "cell_type": "code",
      "execution_count": null,
      "metadata": {
        "id": "GJvPjdV3IV5M"
      },
      "outputs": [],
      "source": [
        "supervised.answer1()"
      ]
    },
    {
      "cell_type": "markdown",
      "metadata": {
        "id": "G4Jit0opIV5M"
      },
      "source": [
        "2. __Why did we choose to use accuracy, recall, and predicted precipitation probability as a way to compare models?__"
      ]
    },
    {
      "cell_type": "code",
      "execution_count": null,
      "metadata": {
        "id": "n8uuVfVZIV5M"
      },
      "outputs": [],
      "source": [
        "supervised.answer2()"
      ]
    },
    {
      "cell_type": "markdown",
      "metadata": {
        "id": "CzqcvdGuIV5M"
      },
      "source": [
        "3. __Now that you have some exposure to various models, what do you think might be some pros and cons regarding each model?__"
      ]
    },
    {
      "cell_type": "code",
      "execution_count": null,
      "metadata": {
        "id": "tKPhMXKHIV5M"
      },
      "outputs": [],
      "source": [
        "supervised.answer3()"
      ]
    },
    {
      "cell_type": "markdown",
      "metadata": {
        "id": "tPW3rYHLIV5M"
      },
      "source": [
        "4. __Collinearity, or non-zero correlation among features, results in a model that is overly complex, reduces the statistical significance of the fit of the model, and prevents one from correctly identifying the importance of features. Are there features included in these models that are collinear? You may assess this by running the code below. If so, how do you think we should address collinearity?__"
      ]
    },
    {
      "cell_type": "code",
      "execution_count": null,
      "metadata": {
        "id": "2acVB3pmIV5M"
      },
      "outputs": [],
      "source": [
        "plt.figure(figsize=[15, 15])\n",
        "ax = sns.heatmap(x.corr(), cmap='coolwarm', annot=True, linewidths=0.2, square=True, vmin=-1, vmax=1,annot_kws={\"size\": 18});\n",
        "plt.xticks(fontsize=20,rotation=45);\n",
        "plt.yticks(fontsize=20,rotation=0);"
      ]
    },
    {
      "cell_type": "code",
      "execution_count": null,
      "metadata": {
        "id": "-z_4qNKSIV5M"
      },
      "outputs": [],
      "source": [
        "supervised.answer4()"
      ]
    },
    {
      "cell_type": "code",
      "execution_count": null,
      "metadata": {
        "id": "OmVkVTKbIV5M"
      },
      "outputs": [],
      "source": [
        "# !python \"/content/drive/MyDrive/ATOC5860/ATOC5860_Spring2022_share/applicationlab6/collinearity_solution.py\""
      ]
    },
    {
      "cell_type": "markdown",
      "source": [
        "5. __Above, we selected on subset of the data to be the testing dataset, and the remaining data to be our training data. Can you think of any issues with this approach__?"
      ],
      "metadata": {
        "id": "OzH02cugg_eV"
      }
    },
    {
      "cell_type": "code",
      "source": [
        "supervised.answer5()"
      ],
      "metadata": {
        "id": "l9GgB97whVV3"
      },
      "execution_count": null,
      "outputs": []
    },
    {
      "cell_type": "markdown",
      "metadata": {
        "id": "Byxh6bC8IV5N"
      },
      "source": [
        "6. __For fun:__\n",
        "    - __Try a different set of parameters for the random forest. How do the metrics change? Does the model overfit?__\n",
        "    - __Try playing around with the neural network to see what happens. You can change the optimizer, the batch size, the number of epochs, the activation function of the last layer, and the learning rate. How do the metrics change? Does the model overfit? Do you run into errors?__"
      ]
    }
  ],
  "metadata": {
    "kernelspec": {
      "display_name": "objanalysis_ML",
      "language": "python",
      "name": "objanalysis_ml"
    },
    "language_info": {
      "codemirror_mode": {
        "name": "ipython",
        "version": 3
      },
      "file_extension": ".py",
      "mimetype": "text/x-python",
      "name": "python",
      "nbconvert_exporter": "python",
      "pygments_lexer": "ipython3",
      "version": "3.7.8"
    },
    "colab": {
      "provenance": [],
      "collapsed_sections": [
        "8Mml7XyMIV47",
        "4j2h_GB6IV5D"
      ]
    }
  },
  "nbformat": 4,
  "nbformat_minor": 0
}